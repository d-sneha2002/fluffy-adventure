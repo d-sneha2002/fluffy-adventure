{
 "cells": [
  {
   "cell_type": "markdown",
   "metadata": {},
   "source": [
    "# Flask 2"
   ]
  },
  {
   "cell_type": "markdown",
   "metadata": {},
   "source": [
    "**Q1. Explain GET and POST methods.**\n",
    "\n",
    "GET and POST are two common HTTP methods used to transfer data between a client and a server.\n",
    "\n",
    "GET:\n",
    "- Used to request data from a specified resource.\n",
    "- Data is typically appended to the URL as query parameters.\n",
    "- Idempotent (can be repeated without changing the result).\n",
    "- Limited data transfer (due to URL length limitations).\n",
    "- Example: Fetching a list of products from an online store.\n",
    "\n",
    "POST:\n",
    "- Used to submit data to be processed by the server.\n",
    "- Data is sent in the request body.\n",
    "- Not idempotent (can have different effects on each execution).\n",
    "- Suitable for larger data transfers and creating new resources.\n",
    "- Example: Submitting a form with user information."
   ]
  },
  {
   "cell_type": "markdown",
   "metadata": {},
   "source": [
    "**Q2. Why is request used in Flask?**\n",
    "\n",
    "The request object in Flask provides information about the incoming HTTP request. It contains details such as:\n",
    "HTTP method (GET, POST, etc.)\n",
    "- Headers\n",
    "- Cookies\n",
    "- Form data\n",
    "- JSON data\n",
    "- URL parameters\n",
    "By accessing the request object within a Flask view function, we can extract and process the data sent by the client."
   ]
  },
  {
   "cell_type": "markdown",
   "metadata": {},
   "source": [
    "**Q3. Why is redirect() used in Flask?**\n",
    "The redirect() function in Flask is used to redirect a user to a different URL. It's helpful for:\n",
    "- Handling successful form submissions.\n",
    "- Implementing login/logout functionality.\n",
    "- Creating user-friendly navigation flows.\n",
    "- Preventing duplicate content."
   ]
  },
  {
   "cell_type": "markdown",
   "metadata": {
    "vscode": {
     "languageId": "plaintext"
    }
   },
   "source": [
    "**Q4. What are templates in Flask? Why is the render_template() function used?**\n",
    "\n",
    "Templates in Flask are HTML files that contain placeholders for dynamic content. They allow to separate the presentation logic (HTML) from the application logic (Python code).\n",
    "\n",
    "The `render_template()` function is used to render a template with provided data. It replaces placeholders in the template with actual values and returns the rendered HTML as a response. This helps in creating dynamic and maintainable web applications."
   ]
  },
  {
   "cell_type": "markdown",
   "metadata": {},
   "source": [
    "**Q5. Create a simple API. Use Postman to test it. Attach the screenshot of the output in the Jupyter Notebook.**"
   ]
  },
  {
   "cell_type": "code",
   "execution_count": null,
   "metadata": {},
   "outputs": [],
   "source": [
    "from flask import Flask, render_template, request, jsonify\n",
    "\n",
    "app = Flask(__name__)\n",
    "\n",
    "@app.route('/')\n",
    "def homepage():\n",
    "    return render_template(\"index.html\")\n",
    "\n",
    "@app.route('/usr', methods=[\"POST\"])\n",
    "def rslt():\n",
    "    if request.method == \"POST\":\n",
    "        v = int(request.json[\"nm\"])\n",
    "        res = str(v) + \" Entered\"\n",
    "        return jsonify(result=res)\n",
    "\n",
    "if __name__ == \"__main__\":\n",
    "    app.run(host=\"0.0.0.0\", port=5000)"
   ]
  },
  {
   "cell_type": "markdown",
   "metadata": {},
   "source": [
    "![alt text](<20 Feb flask 2-1.jpg>)"
   ]
  },
  {
   "cell_type": "markdown",
   "metadata": {},
   "source": []
  }
 ],
 "metadata": {
  "language_info": {
   "name": "python"
  }
 },
 "nbformat": 4,
 "nbformat_minor": 2
}
