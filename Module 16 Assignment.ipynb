{
 "cells": [
  {
   "cell_type": "markdown",
   "metadata": {},
   "source": [
    "1. You are writing code for a company. The requirement of the company is that you create a python\n",
    "function that will check whether the password entered by the user is correct or not. The function should\n",
    "take the password as input and return the string “Valid Password” if the entered password follows the\n",
    "below-given password guidelines else it should return “Invalid Password”.\n",
    "Note: 1. The Password should contain at least two uppercase letters and at least two lowercase letters.\n",
    "      2. The Password should contain at least a number and three special characters.\n",
    "      3. The length of the password should be 10 characters long."
   ]
  },
  {
   "cell_type": "code",
   "execution_count": 3,
   "metadata": {},
   "outputs": [
    {
     "name": "stdout",
     "output_type": "stream",
     "text": [
      "Invalid Password\n"
     ]
    }
   ],
   "source": [
    "import re\n",
    "\n",
    "def validate_password(password):\n",
    "  \"\"\"Validates a password based on given criteria.\n",
    "\n",
    "  Args:\n",
    "    password: The password to be validated.\n",
    "\n",
    "  Returns:\n",
    "    \"Valid Password\" if the password meets the criteria, \"Invalid Password\" otherwise.\n",
    "  \"\"\"\n",
    "\n",
    "  # Password length check\n",
    "  if len(password) != 10:\n",
    "    return \"Invalid Password\"\n",
    "\n",
    "  # Check for at least two uppercase and lowercase letters\n",
    "  if not (sum(1 for char in password if char.isupper()) >= 2 and \n",
    "         sum(1 for char in password if char.islower()) >= 2):\n",
    "    return \"Invalid Password\"\n",
    "\n",
    "  # Check for at least one number and three special characters\n",
    "  if not (sum(1 for char in password if char.isdigit()) >= 1 and\n",
    "         len(re.findall(r\"[^a-zA-Z0-9]\", password)) >= 3):\n",
    "    return \"Invalid Password\"\n",
    "\n",
    "  return \"Valid Password\"\n",
    "\n",
    "# Example usage with case sensitivity\n",
    "password = input(\"Enter your password: \")\n",
    "result = validate_password(password)\n",
    "print(result)\n",
    "\n"
   ]
  },
  {
   "cell_type": "markdown",
   "metadata": {},
   "source": [
    "1. Check if the string starts with a particular letter:"
   ]
  },
  {
   "cell_type": "code",
   "execution_count": 4,
   "metadata": {},
   "outputs": [
    {
     "name": "stdout",
     "output_type": "stream",
     "text": [
      "The string starts with the letter h\n"
     ]
    }
   ],
   "source": [
    "def starts_with_letter(string, letter):\n",
    "  \"\"\"Checks if the string starts with the specified letter using a lambda function.\n",
    "\n",
    "  Args:\n",
    "    string: The input string.\n",
    "    letter: The letter to check for.\n",
    "\n",
    "  Returns:\n",
    "    True if the string starts with the letter, False otherwise.\n",
    "  \"\"\"\n",
    "\n",
    "  return lambda x: x.startswith(letter)(string)\n",
    "\n",
    "# Example usage:\n",
    "string = \"hello world\"\n",
    "letter = \"h\"\n",
    "if starts_with_letter(string, letter):\n",
    "  print(\"The string starts with the letter\", letter)\n",
    "else:\n",
    "  print(\"The string does not start with the letter\", letter)\n"
   ]
  },
  {
   "cell_type": "markdown",
   "metadata": {},
   "source": [
    "2. Check if the string is numeric:"
   ]
  },
  {
   "cell_type": "code",
   "execution_count": 5,
   "metadata": {},
   "outputs": [
    {
     "name": "stdout",
     "output_type": "stream",
     "text": [
      "The string is numeric\n"
     ]
    }
   ],
   "source": [
    "def is_numeric(string):\n",
    "  \"\"\"Checks if the string is numeric using a lambda function.\n",
    "\n",
    "  Args:\n",
    "    string: The input string.\n",
    "\n",
    "  Returns:\n",
    "    True if the string is numeric, False otherwise.\n",
    "  \"\"\"\n",
    "\n",
    "  return all(char.isdigit() for char in string)\n",
    "\n",
    "# Example usage:\n",
    "string = \"12345\"\n",
    "if is_numeric(string):\n",
    "  print(\"The string is numeric\")\n",
    "else:\n",
    "  print(\"The string is not numeric\")\n"
   ]
  },
  {
   "cell_type": "markdown",
   "metadata": {},
   "source": [
    "3. Sort a list of tuples having fruit names and their quantity:"
   ]
  },
  {
   "cell_type": "code",
   "execution_count": 6,
   "metadata": {},
   "outputs": [
    {
     "name": "stdout",
     "output_type": "stream",
     "text": [
      "[('grapes', 1000), ('mango', 99), ('orange', 80)]\n"
     ]
    }
   ],
   "source": [
    "fruits = [(\"mango\", 99), (\"orange\", 80), (\"grapes\", 1000)]\n",
    "sorted_fruits = sorted(fruits, key=lambda x: x[0])\n",
    "print(sorted_fruits)\n"
   ]
  },
  {
   "cell_type": "markdown",
   "metadata": {},
   "source": [
    "4. Find the squares of numbers from 1 to 10:"
   ]
  },
  {
   "cell_type": "code",
   "execution_count": 7,
   "metadata": {},
   "outputs": [
    {
     "name": "stdout",
     "output_type": "stream",
     "text": [
      "[1, 4, 9, 16, 25, 36, 49, 64, 81, 100]\n"
     ]
    }
   ],
   "source": [
    "squares = list(map(lambda x: x**2, range(1, 11)))\n",
    "print(squares)\n"
   ]
  },
  {
   "cell_type": "markdown",
   "metadata": {},
   "source": [
    "6. Check if a given number is even:"
   ]
  },
  {
   "cell_type": "code",
   "execution_count": 9,
   "metadata": {},
   "outputs": [
    {
     "name": "stdout",
     "output_type": "stream",
     "text": [
      "The number is even\n"
     ]
    }
   ],
   "source": [
    "def is_even(number):\n",
    "  \"\"\"Checks if a number is even using a lambda function.\n",
    "\n",
    "  Args:\n",
    "    number: The number to check.\n",
    "\n",
    "  Returns:\n",
    "    True if the number is even, False otherwise.\n",
    "  \"\"\"\n",
    "\n",
    "  return lambda x: x % 2 == 0  # Corrected line\n",
    "\n",
    "# Example usage:\n",
    "number = 4\n",
    "if is_even(number):\n",
    "  print(\"The number is even\")\n",
    "else:\n",
    "  print(\"The number is odd\")\n",
    "\n"
   ]
  },
  {
   "cell_type": "markdown",
   "metadata": {},
   "source": [
    "7. Filter odd numbers from the given list:"
   ]
  },
  {
   "cell_type": "code",
   "execution_count": 10,
   "metadata": {},
   "outputs": [
    {
     "name": "stdout",
     "output_type": "stream",
     "text": [
      "[1, 3, 5, 7, 9]\n"
     ]
    }
   ],
   "source": [
    "numbers = [1, 2, 3, 4, 5, 6, 7, 8, 9, 10]\n",
    "odd_numbers = list(filter(lambda x: x % 2 != 0, numbers))\n",
    "print(odd_numbers)\n"
   ]
  },
  {
   "cell_type": "markdown",
   "metadata": {},
   "source": [
    "8. Sort a list of integers into positive and negative integers lists:"
   ]
  },
  {
   "cell_type": "code",
   "execution_count": 11,
   "metadata": {},
   "outputs": [
    {
     "name": "stdout",
     "output_type": "stream",
     "text": [
      "[1, 2, 3, 4, 5, 6]\n",
      "[-1, -2, -3, -4, -5]\n"
     ]
    }
   ],
   "source": [
    "numbers = [1, 2, 3, 4, 5, 6, -1, -2, -3, -4, -5, 0]\n",
    "positive_numbers = list(filter(lambda x: x > 0, numbers))\n",
    "negative_numbers = list(filter(lambda x: x < 0, numbers))\n",
    "print(positive_numbers)\n",
    "print(negative_numbers)\n"
   ]
  }
 ],
 "metadata": {
  "kernelspec": {
   "display_name": ".venv",
   "language": "python",
   "name": "python3"
  },
  "language_info": {
   "codemirror_mode": {
    "name": "ipython",
    "version": 3
   },
   "file_extension": ".py",
   "mimetype": "text/x-python",
   "name": "python",
   "nbconvert_exporter": "python",
   "pygments_lexer": "ipython3",
   "version": "3.10.13"
  }
 },
 "nbformat": 4,
 "nbformat_minor": 2
}
