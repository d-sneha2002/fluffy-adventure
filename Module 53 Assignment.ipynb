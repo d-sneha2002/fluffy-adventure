{
 "cells": [
  {
   "cell_type": "markdown",
   "metadata": {},
   "source": [
    "# Feature Engineering 1"
   ]
  },
  {
   "cell_type": "markdown",
   "metadata": {},
   "source": [
    "**Q1: What are missing values in a dataset? Why is it essential to handle missing values? Name some algorithms that are not affected by missing values.**\n",
    "\n",
    "- Missing values are data points that are not recorded or are absent in a dataset.   \n",
    "- Handling missing values is crucial because many algorithms cannot handle them directly, leading to biased or inaccurate results.\n",
    "- Some algorithms that can handle missing values include decision trees and random forests.\n",
    "\n",
    "**Q2: List down techniques used to handle missing data. Give an example of each with python code.**\n",
    "\n",
    "- Deletion: Removing rows or columns with missing values.\n",
    "- Imputation: Filling missing values with estimated values (mean, median, mode, etc.).\n",
    "- Prediction: Using machine learning models to predict missing values.\n",
    "- Ignoring: Excluding variables with too many missing values.\n",
    "\n",
    "**Q3: Explain the imbalanced data. What will happen if imbalanced data is not handled?**\n",
    "\n",
    "- Imbalanced data refers to datasets where one class significantly outnumbers the other.\n",
    "- If not handled, imbalanced data can lead to biased models that favor the majority class and perform poorly on the minority class.\n",
    " \n",
    "**Q4: What are Up-sampling and Down-sampling? Explain with an example when up-sampling and down-sampling are required.**\n",
    "\n",
    "- Up-sampling increases the number of instances in the minority class.   \n",
    "- Down-sampling decreases the number of instances in the majority class.\n",
    "- Up-sampling is used when the minority class is too small, while down-sampling is used when the majority class is too large.\n",
    "\n",
    "**Q5: What is data Augmentation? Explain SMOTE.**\n",
    "\n",
    "Data augmentation creates new training data by modifying existing data.\n",
    "\n",
    "SMOTE (Synthetic Minority Over-sampling Technique) is an oversampling technique that generates synthetic samples for the minority class.\n",
    "\n",
    "**Q6: What are outliers in a dataset? Why is it essential to handle outliers?**\n",
    "\n",
    "- Outliers are data points that deviate significantly from other observations.\n",
    "- Outliers can affect model performance and bias results, so it's important to identify and handle them appropriately.\n",
    "\n",
    "**Q7: You are working on a project that requires analyzing customer data. However, you notice that some of the data is missing. What are some techniques you can use to handle the missing data in your analysis?**\n",
    "\n",
    "- Imputation: Fill missing values with estimated values (mean, median, mode).\n",
    "- Deletion: Remove rows or columns with missing values if the amount is small.\n",
    "- Prediction: Use machine learning models to predict missing values.\n",
    "\n",
    "**Q8: You are working with a large dataset and find that a small percentage of the data is missing. What are some strategies you can use to determine if the missing data is missing at random or if there is a pattern to the missing data?**\n",
    "\n",
    "- Visualization: Plot missing data patterns to identify trends.\n",
    "- Statistical tests: Check for relationships between missing values and other variables.\n",
    "\n",
    "**Q9: Suppose you are working on a medical diagnosis project and find that the majority of patients in the dataset do not have the condition of interest, while a small percentage do. What are some strategies you can use to evaluate the performance of your machine learning model on this imbalanced dataset?**\n",
    "\n",
    "- Precision, recall, and F1-score: Evaluate model performance beyond accuracy.\n",
    "- ROC curve and AUC: Visualize model performance and calculate area under the ROC curve.\n",
    "\n",
    "**Q10: When attempting to estimate customer satisfaction for a project, you discover that the dataset is unbalanced, with the bulk of customers reporting being satisfied. What methods can you employ to balance the dataset and down-sample the majority class?**  \n",
    "\n",
    "Random under-sampling: Randomly remove instances from the majority class.\n",
    "\n",
    "**Q11: You discover that the dataset is unbalanced with a low percentage of occurrences while working on a project that requires you to estimate the occurrence of a rare event. What methods can you employ to balance the dataset and up-sample the minority class? **  \n",
    "\n",
    "- SMOTE: Generate synthetic samples for the minority class.\n",
    "- ADASYN: Adaptive Synthetic Sampling to focus on difficult-to-learn examples."
   ]
  },
  {
   "cell_type": "code",
   "execution_count": null,
   "metadata": {},
   "outputs": [],
   "source": []
  }
 ],
 "metadata": {
  "language_info": {
   "name": "python"
  }
 },
 "nbformat": 4,
 "nbformat_minor": 2
}
