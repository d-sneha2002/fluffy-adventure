{
 "cells": [
  {
   "cell_type": "markdown",
   "metadata": {},
   "source": [
    "1. Create a vehicle class with an init method having instance variables as name_of_vehicle, max_speed\n",
    "and average_of_vehicle."
   ]
  },
  {
   "cell_type": "code",
   "execution_count": 1,
   "metadata": {},
   "outputs": [
    {
     "name": "stdout",
     "output_type": "stream",
     "text": [
      "Car\n",
      "200\n",
      "Bike\n",
      "150\n"
     ]
    }
   ],
   "source": [
    "class Vehicle:\n",
    "    def __init__(self, name_of_vehicle, max_speed, average_of_vehicle):\n",
    "        self.name_of_vehicle = name_of_vehicle\n",
    "        self.max_speed = max_speed\n",
    "        self.average_of_vehicle = average_of_vehicle\n",
    "\n",
    "# Creating instances of the Vehicle class\n",
    "car = Vehicle(\"Car\", 200, 60)\n",
    "bike = Vehicle(\"Bike\", 150, 40)\n",
    "\n",
    "# Accessing attributes\n",
    "print(car.name_of_vehicle)  # Output: Car\n",
    "print(car.max_speed)      # Output: 150\n",
    "print(bike.name_of_vehicle)  # Output: bike\n",
    "print(bike.max_speed) "
   ]
  },
  {
   "cell_type": "markdown",
   "metadata": {},
   "source": [
    " 2. Create a child class car from the vehicle class created in Que 1, which will inherit the vehicle class.\n",
    "Create a method named seating_capacity which takes capacity as an argument and returns the name of: "
   ]
  },
  {
   "cell_type": "code",
   "execution_count": 2,
   "metadata": {},
   "outputs": [
    {
     "name": "stdout",
     "output_type": "stream",
     "text": [
      "Sedan has a seating capacity of 5 people.\n"
     ]
    }
   ],
   "source": [
    "class Vehicle:\n",
    "    def __init__(self, name_of_vehicle, max_speed, average_of_vehicle):\n",
    "        self.name_of_vehicle = name_of_vehicle\n",
    "        self.max_speed = max_speed\n",
    "        self.average_of_vehicle = average_of_vehicle\n",
    "\n",
    "class Car(Vehicle):\n",
    "    def seating_capacity(self, capacity):\n",
    "        return f\"{self.name_of_vehicle} has a seating capacity of {capacity} people.\"\n",
    "\n",
    "# Creating an instance of the Car class\n",
    "car = Car(\"Sedan\", 200, 60)\n",
    "\n",
    "# Using the seating_capacity method\n",
    "print(car.seating_capacity(5))  # Output: Sedan has a seating capacity of 5 people.\n"
   ]
  },
  {
   "cell_type": "markdown",
   "metadata": {},
   "source": [
    "3. What is multiple inheritance? Write a python code to demonstrate multiple inheritance."
   ]
  },
  {
   "cell_type": "code",
   "execution_count": 4,
   "metadata": {},
   "outputs": [
    {
     "name": "stdout",
     "output_type": "stream",
     "text": [
      "Animal is making a sound\n",
      "Flying\n"
     ]
    }
   ],
   "source": [
    "# Multiple inheritance is a feature in Python where a class can inherit attributes and methods from more than one parent class.\n",
    "\n",
    "class Animal:\n",
    "    def __init__(self, name):\n",
    "        self.name = name\n",
    "\n",
    "    def speak(self):\n",
    "        print(\"Animal is making a sound\")\n",
    "\n",
    "class Flyable:\n",
    "    def fly(self):\n",
    "        print(\"Flying\")\n",
    "\n",
    "class Bat(Animal, Flyable):\n",
    "    pass\n",
    "\n",
    "bat = Bat(\"Bat\")\n",
    "bat.speak()\n",
    "bat.fly()\n"
   ]
  },
  {
   "cell_type": "markdown",
   "metadata": {},
   "source": [
    "4. What are getter and setter in python? Create a class and create a getter and a setter method in this\n",
    "class."
   ]
  },
  {
   "cell_type": "code",
   "execution_count": 1,
   "metadata": {},
   "outputs": [
    {
     "name": "stdout",
     "output_type": "stream",
     "text": [
      "Getting value...\n",
      "25\n",
      "Getting value...\n",
      "30\n",
      "Age cannot be negative\n"
     ]
    }
   ],
   "source": [
    "class Person:\n",
    "    def __init__(self, age):\n",
    "        self._age = age  # Using an underscore to indicate a private attribute\n",
    "\n",
    "    @property\n",
    "    def age(self):\n",
    "        print(\"Getting value...\")\n",
    "        return self._age\n",
    "\n",
    "    @age.setter\n",
    "    def age(self, value):\n",
    "        if value >= 0:\n",
    "            self._age = value\n",
    "        else:\n",
    "            raise ValueError(\"Age cannot be negative\")\n",
    "\n",
    "person = Person(25)\n",
    "print(person.age)  # Output: Getting value... 25\n",
    "\n",
    "person.age = 30  # Output: Getting value...\n",
    "print(person.age)  # Output: Getting value... 30\n",
    "\n",
    "# Trying to set a negative age\n",
    "try:\n",
    "    person.age = -10\n",
    "except ValueError as e:\n",
    "    print(e)  # Output: Age cannot be negative\n"
   ]
  },
  {
   "cell_type": "markdown",
   "metadata": {},
   "source": [
    "5. What is method overriding in python? Write a python code to demonstrate method overriding."
   ]
  },
  {
   "cell_type": "code",
   "execution_count": 2,
   "metadata": {},
   "outputs": [
    {
     "name": "stdout",
     "output_type": "stream",
     "text": [
      "Animal makes a sound\n",
      "Woof!\n",
      "Meow!\n"
     ]
    }
   ],
   "source": [
    "class Animal:\n",
    "    def __init__(self, name):\n",
    "        self.name = name\n",
    "\n",
    "    def make_sound(self):\n",
    "        print(\"Animal makes a sound\")\n",
    "\n",
    "class Dog(Animal):\n",
    "    def make_sound(self):\n",
    "        print(\"Woof!\")\n",
    "\n",
    "class Cat(Animal):\n",
    "    def make_sound(self):\n",
    "        print(\"Meow!\")\n",
    "\n",
    "# Create objects\n",
    "animal = Animal(\"Generic Animal\")\n",
    "dog = Dog(\"Buddy\")\n",
    "cat = Cat(\"Whiskers\")\n",
    "\n",
    "# Call the make_sound method\n",
    "animal.make_sound()  # Output: Animal makes a sound\n",
    "dog.make_sound()    # Output: Woof!\n",
    "cat.make_sound()    # Output: Meow!\n"
   ]
  }
 ],
 "metadata": {
  "kernelspec": {
   "display_name": ".venv",
   "language": "python",
   "name": "python3"
  },
  "language_info": {
   "codemirror_mode": {
    "name": "ipython",
    "version": 3
   },
   "file_extension": ".py",
   "mimetype": "text/x-python",
   "name": "python",
   "nbconvert_exporter": "python",
   "pygments_lexer": "ipython3",
   "version": "3.10.13"
  }
 },
 "nbformat": 4,
 "nbformat_minor": 2
}
