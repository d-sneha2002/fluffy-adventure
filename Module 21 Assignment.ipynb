{
 "cells": [
  {
   "cell_type": "markdown",
   "metadata": {},
   "source": [
    "**Q1. What is an exception in pthon? Write the difference between Exceptions and Syntax errors.**"
   ]
  },
  {
   "cell_type": "markdown",
   "metadata": {},
   "source": [
    "Exceptions:\n",
    "-An unexpected glitch or mistake that interrupts program execution is an exception. The common flow is broken.\n",
    "-Exceptions can stem from invalid inputs, division by zero, absent files, or reaching outside boundaries.\n",
    "-Python flags the error with an exception bearing data about its type and specifics.\n",
    "-Common exceptions incorporate ZeroDivisionError, TypeError, ValueError, and FileNotFoundError.\n",
    "\n",
    "Syntax faults:\n",
    "-Syntax faults, also called parsing problems, occur when the interpreter faces code violating syntactic standards.\n",
    "-These prevent programs running since Python misunderstands the code.\n",
    "-Frequent causes involve missing colons or other errors breaking expected structures.\n",
    "\n",
    "Difference between Exceptions and Syntax Errors:\n",
    "\n",
    "-Cause:\n",
    "Exceptions: Caused by runtime conditions (e.g., division by zero, invalid input).\n",
    "Syntax Errors: Caused by violations of Python’s syntax rules (e.g., missing colons, unmatched parentheses).\n",
    "-When Detected:\n",
    "Exceptions: Detected during program execution.\n",
    "Syntax Errors: Detected during the initial parsing phase (before execution).\n",
    "-Handling:\n",
    "Exceptions: Can be handled using try and except blocks.\n",
    "Syntax Errors: Must be fixed in the code before running the program.\n",
    "\n",
    "Examples:\n",
    "Exceptions: ZeroDivisionError, TypeError, etc.\n",
    "Syntax Errors: Missing colons, unmatched parentheses, etc.\n",
    "\n",
    "For example, consider the following scenarios:\n",
    "An exception: Trying to divide a number by zero.\n",
    "A syntax error: Forgetting to close a parenthesis in a function call."
   ]
  },
  {
   "cell_type": "markdown",
   "metadata": {},
   "source": [
    "**Q2. What happens when an exception is not handled? Explain with an example.**"
   ]
  },
  {
   "cell_type": "markdown",
   "metadata": {
    "vscode": {
     "languageId": "plaintext"
    }
   },
   "source": [
    "Unhandled Exceptions in Python\n",
    "In python, if there is an exception in a piece of code that occurs outside the try-except block as shown above, then instead of stopping at the error it will quit abruptly. This is called an unhandled exception.\n",
    "\n",
    "It generates an error message (or a traceback) with the details of the line number where it occurred, corresponding to function name that caused in exception and hence tells what type it was.\n",
    "\n",
    "By using try-except blocks, you can make your code more robust and prevent unexpected program termination due to unhandled exceptions."
   ]
  },
  {
   "cell_type": "code",
   "execution_count": 1,
   "metadata": {},
   "outputs": [
    {
     "ename": "ZeroDivisionError",
     "evalue": "division by zero",
     "output_type": "error",
     "traceback": [
      "\u001b[0;31m---------------------------------------------------------------------------\u001b[0m",
      "\u001b[0;31mZeroDivisionError\u001b[0m                         Traceback (most recent call last)",
      "Cell \u001b[0;32mIn[1], line 9\u001b[0m\n\u001b[1;32m      6\u001b[0m num2 \u001b[38;5;241m=\u001b[39m \u001b[38;5;241m0\u001b[39m\n\u001b[1;32m      8\u001b[0m \u001b[38;5;66;03m# Without error handling\u001b[39;00m\n\u001b[0;32m----> 9\u001b[0m result \u001b[38;5;241m=\u001b[39m \u001b[43mdivide\u001b[49m\u001b[43m(\u001b[49m\u001b[43mnum1\u001b[49m\u001b[43m,\u001b[49m\u001b[43m \u001b[49m\u001b[43mnum2\u001b[49m\u001b[43m)\u001b[49m\n\u001b[1;32m     10\u001b[0m \u001b[38;5;28mprint\u001b[39m(result)\n",
      "Cell \u001b[0;32mIn[1], line 2\u001b[0m, in \u001b[0;36mdivide\u001b[0;34m(x, y)\u001b[0m\n\u001b[1;32m      1\u001b[0m \u001b[38;5;28;01mdef\u001b[39;00m \u001b[38;5;21mdivide\u001b[39m(x, y):\n\u001b[0;32m----> 2\u001b[0m     result \u001b[38;5;241m=\u001b[39m \u001b[43mx\u001b[49m\u001b[43m \u001b[49m\u001b[38;5;241;43m/\u001b[39;49m\u001b[43m \u001b[49m\u001b[43my\u001b[49m\n\u001b[1;32m      3\u001b[0m     \u001b[38;5;28;01mreturn\u001b[39;00m result\n",
      "\u001b[0;31mZeroDivisionError\u001b[0m: division by zero"
     ]
    }
   ],
   "source": [
    "def divide(x, y):\n",
    "    result = x / y\n",
    "    return result\n",
    "\n",
    "num1 = 10\n",
    "num2 = 0\n",
    "\n",
    "# Without error handling\n",
    "result = divide(num1, num2)\n",
    "print(result)\n"
   ]
  },
  {
   "cell_type": "code",
   "execution_count": 2,
   "metadata": {},
   "outputs": [
    {
     "name": "stdout",
     "output_type": "stream",
     "text": [
      "Error: Division by zero\n",
      "None\n"
     ]
    }
   ],
   "source": [
    "\"To prevent this, it's crucial to use try-except blocks to gracefully handle exceptions:\"\n",
    "def divide(x, y):\n",
    "    try:\n",
    "        result = x / y\n",
    "        return result\n",
    "    except ZeroDivisionError:\n",
    "        print(\"Error: Division by zero\")\n",
    "        return None\n",
    "\n",
    "num1 = 10\n",
    "num2 = 0\n",
    "\n",
    "result = divide(num1, num2)\n",
    "print(result)\n"
   ]
  },
  {
   "cell_type": "markdown",
   "metadata": {},
   "source": [
    "**Q3. Which Python statements are used to catch and handle exceptions? Explain with an example.**"
   ]
  },
  {
   "cell_type": "markdown",
   "metadata": {},
   "source": [
    "In python try, except, and else statements are used to handle exceptions gracefully.\n",
    "\n",
    "try block\n",
    "This block contains the code that might raise an exception.\n",
    "\n",
    "except block\n",
    "This block is executed if an exception occurs in the try block. You can specify the type of exception to catch.\n",
    "\n",
    "else block (optional)\n",
    "This block is executed if no exception occurs in the try block."
   ]
  },
  {
   "cell_type": "code",
   "execution_count": 1,
   "metadata": {},
   "outputs": [
    {
     "name": "stdout",
     "output_type": "stream",
     "text": [
      "Result: 5.0\n",
      "Division successful\n",
      "Error: Division by zero!\n"
     ]
    }
   ],
   "source": [
    "def divide(x, y):\n",
    "  try:\n",
    "    result = x / y\n",
    "    print(\"Result:\", result)\n",
    "  except ZeroDivisionError:\n",
    "    print(\"Error: Division by zero!\")\n",
    "  else:\n",
    "    print(\"Division successful\")\n",
    "\n",
    "# Example usage:\n",
    "divide(10, 2)  # Output: Result: 5.0\n",
    "divide(10, 0)  # Output: Error: Division by zero!\n"
   ]
  },
  {
   "cell_type": "markdown",
   "metadata": {},
   "source": [
    "**Q4. Explain with an example**\n",
    "    **a. try and else**\n",
    "    **b. fainally**\n",
    "    **c. raise**"
   ]
  },
  {
   "cell_type": "markdown",
   "metadata": {},
   "source": [
    "a. try and else\n",
    "The try and else blocks are used together to handle potential exceptions in Python code. The try block contains code that might raise an exception, and the else block contains code that will be executed if no exception occurs within the try block."
   ]
  },
  {
   "cell_type": "code",
   "execution_count": 2,
   "metadata": {},
   "outputs": [
    {
     "name": "stdout",
     "output_type": "stream",
     "text": [
      "Result: 5.0\n",
      "Division successful\n",
      "Error: Division by zero!\n"
     ]
    }
   ],
   "source": [
    "def divide(x, y):\n",
    "    try:\n",
    "        result = x / y\n",
    "        print(\"Result:\", result)\n",
    "    except ZeroDivisionError:\n",
    "        print(\"Error: Division by zero!\")\n",
    "    else:\n",
    "        print(\"Division successful\")\n",
    "\n",
    "# Example usage:\n",
    "divide(10, 2)  # Output: Result: 5.0\n",
    "divide(10, 0)  # Output: Error: Division by zero!\n"
   ]
  },
  {
   "cell_type": "markdown",
   "metadata": {},
   "source": [
    "b. finally\n",
    "The finally block is used to define code that will be executed regardless of whether an exception occurs or not within the try block. It is often used for cleanup operations, such as closing files or database connections."
   ]
  },
  {
   "cell_type": "code",
   "execution_count": 3,
   "metadata": {},
   "outputs": [
    {
     "name": "stdout",
     "output_type": "stream",
     "text": [
      "Result: 5.0\n",
      "Division successful\n",
      "This will always execute\n",
      "Error: Division by zero!\n",
      "This will always execute\n"
     ]
    }
   ],
   "source": [
    "def divide(x, y):\n",
    "    try:\n",
    "        result = x / y\n",
    "        print(\"Result:\", result)\n",
    "    except ZeroDivisionError:\n",
    "        print(\"Error: Division by zero!\")\n",
    "    else:\n",
    "        print(\"Division successful\")\n",
    "    finally:\n",
    "        print(\"This will always execute\")\n",
    "\n",
    "# Example usage:\n",
    "divide(10, 2)  # Output: Result: 5.0\n",
    "divide(10, 0)  # Output: Error: Division by zero!\n"
   ]
  },
  {
   "cell_type": "markdown",
   "metadata": {},
   "source": [
    "c. raise\n",
    "The raise statement is used to explicitly raise an exception. This can be useful for signaling errors or unexpected conditions in your code."
   ]
  },
  {
   "cell_type": "code",
   "execution_count": 4,
   "metadata": {},
   "outputs": [
    {
     "name": "stdout",
     "output_type": "stream",
     "text": [
      "Division by zero is not allowed\n"
     ]
    }
   ],
   "source": [
    "def divide(x, y):\n",
    "    if y == 0:\n",
    "        raise ValueError(\"Division by zero is not allowed\")\n",
    "    else:\n",
    "        result = x / y\n",
    "        return result\n",
    "\n",
    "# Example usage:\n",
    "try:\n",
    "    result = divide(10, 0)\n",
    "except ValueError as e:\n",
    "    print(e)\n"
   ]
  },
  {
   "cell_type": "markdown",
   "metadata": {},
   "source": [
    "**Q5. What are Custom Exceptions in python? Why do we need Custom Exceptions? Explain with an example.**"
   ]
  },
  {
   "cell_type": "markdown",
   "metadata": {},
   "source": [
    "Custom exceptions are user-defined exceptions in Python that allow you to create specific error types for your application. This is useful for providing more informative error messages and handling errors in a more specific way."
   ]
  },
  {
   "cell_type": "code",
   "execution_count": 1,
   "metadata": {},
   "outputs": [
    {
     "name": "stdout",
     "output_type": "stream",
     "text": [
      "Age cannot be negative\n"
     ]
    }
   ],
   "source": [
    "class InvalidAgeError(Exception):\n",
    "    pass\n",
    "\n",
    "def check_age(age):\n",
    "    if age < 0:\n",
    "        raise InvalidAgeError(\"Age cannot be negative\")\n",
    "    elif age < 18:\n",
    "        print(\"You are a minor.\")\n",
    "    else:\n",
    "        print(\"You are an adult.\")\n",
    "\n",
    "try:\n",
    "    check_age(-5)\n",
    "except InvalidAgeError as e:\n",
    "    print(e)\n"
   ]
  },
  {
   "cell_type": "markdown",
   "metadata": {},
   "source": [
    "**Q6. Create a custom exception class. Use this class to handle an exception.**"
   ]
  },
  {
   "cell_type": "code",
   "execution_count": 2,
   "metadata": {},
   "outputs": [
    {
     "name": "stdout",
     "output_type": "stream",
     "text": [
      "Input must be an integer\n"
     ]
    }
   ],
   "source": [
    "class InvalidInputError(Exception):\n",
    "    pass\n",
    "\n",
    "def process_input(value):\n",
    "    if not isinstance(value, int):\n",
    "        raise InvalidInputError(\"Input must be an integer\")\n",
    "    else:\n",
    "        print(\"Processing input:\", value)\n",
    "\n",
    "try:\n",
    "    process_input(\"hello\")\n",
    "except InvalidInputError as e:\n",
    "    print(e)\n"
   ]
  }
 ],
 "metadata": {
  "kernelspec": {
   "display_name": ".venv",
   "language": "python",
   "name": "python3"
  },
  "language_info": {
   "codemirror_mode": {
    "name": "ipython",
    "version": 3
   },
   "file_extension": ".py",
   "mimetype": "text/x-python",
   "name": "python",
   "nbconvert_exporter": "python",
   "pygments_lexer": "ipython3",
   "version": "3.10.13"
  }
 },
 "nbformat": 4,
 "nbformat_minor": 2
}
