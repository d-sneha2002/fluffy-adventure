{
 "cells": [
  {
   "cell_type": "markdown",
   "metadata": {},
   "source": [
    "# MongoDB"
   ]
  },
  {
   "cell_type": "markdown",
   "metadata": {},
   "source": [
    "**Q1. What is MongoDB? Explain non-relational databases in short. In which scenarios it is preferred to use MongoDB over SQL databases?**\n",
    "\n",
    "MongoDB is a popular NoSQL (Not Only SQL) document-oriented database. It stores data in flexible, JSON-like documents, allowing for schema-less design and easy scaling.\n",
    "\n",
    "Non-relational databases (NoSQL) are designed to handle large volumes of unstructured or semi-structured data that don't fit well into traditional relational tables. They offer flexibility, scalability, and high performance for specific use cases.\n",
    "\n",
    "MongoDB is preferred over SQL databases in scenarios where:\n",
    "- Data is highly unstructured or semi-structured.\n",
    "- Rapid development and agility are prioritized.\n",
    "- Huge volumes of data need to be handled efficiently.\n",
    "- High scalability and performance are critical.\n",
    "- Complex queries and joins are less frequent."
   ]
  },
  {
   "cell_type": "markdown",
   "metadata": {},
   "source": [
    "**Q2. State and Explain the features of MongoDB.**\n",
    "\n",
    "MongoDB have several key features:\n",
    "\n",
    "- Document-oriented storage: Data is stored in flexible, JSON-like documents, allowing for nested structures.\n",
    "- Schema-less design: Documents can have different structures, providing flexibility.\n",
    "- High performance: MongoDB is optimized for fast read and write operations.\n",
    "- Scalability: It supports horizontal scaling to handle increasing data volumes.\n",
    "- Indexing: Provides rich indexing capabilities for efficient querying.\n",
    "- Replication and high availability: Ensures data durability and availability.\n",
    "- Aggregation framework: Enables complex data analysis and aggregation operations."
   ]
  },
  {
   "cell_type": "markdown",
   "metadata": {},
   "source": [
    "**Q3. Write a code to connect MongoDB to Python. Also, create a database and a collection in MongoDB.**"
   ]
  },
  {
   "cell_type": "code",
   "execution_count": 3,
   "metadata": {},
   "outputs": [
    {
     "name": "stdout",
     "output_type": "stream",
     "text": [
      "Collecting pymongo\n",
      "  Downloading pymongo-4.8.0-cp310-cp310-manylinux_2_17_x86_64.manylinux2014_x86_64.whl.metadata (22 kB)\n",
      "Collecting dnspython<3.0.0,>=1.16.0 (from pymongo)\n",
      "  Downloading dnspython-2.6.1-py3-none-any.whl.metadata (5.8 kB)\n",
      "Downloading pymongo-4.8.0-cp310-cp310-manylinux_2_17_x86_64.manylinux2014_x86_64.whl (1.2 MB)\n",
      "\u001b[2K   \u001b[90m━━━━━━━━━━━━━━━━━━━━━━━━━━━━━━━━━━━━━━━━\u001b[0m \u001b[32m1.2/1.2 MB\u001b[0m \u001b[31m4.4 MB/s\u001b[0m eta \u001b[36m0:00:00\u001b[0m00:01\u001b[0m00:01\u001b[0m\n",
      "\u001b[?25hDownloading dnspython-2.6.1-py3-none-any.whl (307 kB)\n",
      "\u001b[2K   \u001b[90m━━━━━━━━━━━━━━━━━━━━━━━━━━━━━━━━━━━━━━━━\u001b[0m \u001b[32m307.7/307.7 kB\u001b[0m \u001b[31m8.5 MB/s\u001b[0m eta \u001b[36m0:00:00\u001b[0m:00:01\u001b[0m\n",
      "\u001b[?25hInstalling collected packages: dnspython, pymongo\n",
      "Successfully installed dnspython-2.6.1 pymongo-4.8.0\n",
      "Note: you may need to restart the kernel to use updated packages.\n"
     ]
    }
   ],
   "source": [
    "pip install pymongo"
   ]
  },
  {
   "cell_type": "code",
   "execution_count": 4,
   "metadata": {},
   "outputs": [
    {
     "name": "stdout",
     "output_type": "stream",
     "text": [
      "Connected to MongoDB!\n"
     ]
    }
   ],
   "source": [
    "import pymongo\n",
    "\n",
    "# Replace with your MongoDB connection string\n",
    "client = pymongo.MongoClient(\"mongodb://localhost:27017/\")\n",
    "\n",
    "# Create a database\n",
    "db = client[\"mydatabase\"]\n",
    "\n",
    "# Create a collection\n",
    "collection = db[\"mycollection\"]\n",
    "\n",
    "print(\"Connected to MongoDB!\")\n"
   ]
  },
  {
   "cell_type": "code",
   "execution_count": null,
   "metadata": {},
   "outputs": [],
   "source": [
    "from pymongo.mongo_client import MongoClient\n",
    "\n",
    "uri = \"mongodb+srv://private:<password>@cluster0.mgthil9.mongodb.net/?retryWrites=true&w=majority\"\n",
    "\n",
    "# Create a new client and connect to the server\n",
    "client = MongoClient(uri)\n",
    "\n",
    "db = client[\"detabase\"]\n",
    "coll_create = db[\"coll\"]"
   ]
  },
  {
   "cell_type": "markdown",
   "metadata": {},
   "source": [
    "**Q4. Using the database and the collection created in question number 3, write a code to insert one record, and insert many records. Use the `find()` and `find_one()` methods to print the inserted record.**"
   ]
  },
  {
   "cell_type": "code",
   "execution_count": null,
   "metadata": {},
   "outputs": [],
   "source": [
    "data2 = { \n",
    "    \"name\":\"amitoj\",\n",
    "    \"roll\":3,\n",
    "    \"dept\":\"lwre\"\n",
    "}\n",
    "coll_create.insert_one(data2)\n",
    "\n",
    "data3 =  [\n",
    "    {\"roll\":1,\"name\":\"pulakesh\"},\n",
    "    {\"roll\":4,\"name\":\"tony\"},\n",
    "    {\"roll\":5,\"name\":\"rohit\"}\n",
    "]\n",
    "coll_create.insert_many(data3)\n",
    "\n",
    "\n",
    "for i in coll_create.find():\n",
    "    print(i)\n",
    "    \n",
    "print(\"printing one record\")\n",
    "coll_create.find_one()"
   ]
  },
  {
   "cell_type": "markdown",
   "metadata": {},
   "source": [
    "**Q5. Explain how you can use the `find()` method to query the MongoDB database. Write a simple code to demonstrate this.**"
   ]
  },
  {
   "cell_type": "code",
   "execution_count": null,
   "metadata": {},
   "outputs": [],
   "source": [
    "for i in coll_create.find({\"roll\":2}):\n",
    "    print(i)"
   ]
  },
  {
   "cell_type": "markdown",
   "metadata": {},
   "source": [
    "**Q6. Explain the sort() method. Give an example to demonstrate sorting in MongoDB.**\n",
    "\n",
    "The `sort()` method is used to sort documents in a collection based on one or more fields. It takes a document specifying the fields and sort order (1 for ascending, -1 for descending)."
   ]
  },
  {
   "cell_type": "code",
   "execution_count": null,
   "metadata": {},
   "outputs": [],
   "source": [
    "for i in coll_create.find().sort({\"roll\":1}):\n",
    "    print(i)\n"
   ]
  },
  {
   "cell_type": "markdown",
   "metadata": {},
   "source": [
    "**Q7. Explain why `delete_one()`, `delete_many()`, and `drop()` is used.**\n",
    "\n",
    "- `delete_one()`: Deletes a single document that matches the specified filter.\n",
    "- `delete_many()`: Deletes multiple documents that match the specified filter.\n",
    "- `drop()`: Deletes an entire collection.\n",
    "\n",
    "`delete_one()` is used when we want to remove a specific document.`delete_many()`is used when we want to remove multiple documents based on a criteria. `drop()`is used when we want to completely remove a collection."
   ]
  }
 ],
 "metadata": {
  "kernelspec": {
   "display_name": "Python 3 (ipykernel)",
   "language": "python",
   "name": "python3"
  },
  "language_info": {
   "codemirror_mode": {
    "name": "ipython",
    "version": 3
   },
   "file_extension": ".py",
   "mimetype": "text/x-python",
   "name": "python",
   "nbconvert_exporter": "python",
   "pygments_lexer": "ipython3",
   "version": "3.10.13"
  }
 },
 "nbformat": 4,
 "nbformat_minor": 4
}
