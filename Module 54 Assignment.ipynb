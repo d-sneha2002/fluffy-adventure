{
 "cells": [
  {
   "cell_type": "markdown",
   "metadata": {},
   "source": [
    "# Feature Engineering 2"
   ]
  },
  {
   "cell_type": "markdown",
   "metadata": {},
   "source": [
    "**Q1: What is the Filter method in feature selection, and how does it work?**\n",
    "\n",
    "The Filter method in feature selection is a univariate method that selects features based on their individual scores with the target variable. It does not consider the interaction between features.\n",
    "\n",
    "**Q2: How does the Wrapper method differ from the Filter method in feature selection?**\n",
    "\n",
    "The Wrapper method in feature selection is a multivariate method that selects features based on their performance in a model. It considers the interaction between features.   \n",
    "\n",
    "**Q3: What are some common techniques used in Embedded feature selection methods?**\n",
    "\n",
    "Some common techniques used in Embedded feature selection methods include:\n",
    "\n",
    "- Regularization: Penalizes large coefficients in the model, effectively shrinking some features to zero.\n",
    "- Decision Trees: Features that are important for splitting the data are given higher importance.\n",
    "- Random Forest: Measures the importance of features based on their contribution to the model's accuracy.\n",
    "\n",
    "**Q4: What are some drawbacks of using the Filter method for feature selection?**\n",
    "\n",
    "Some drawbacks of using the Filter method for feature selection include:\n",
    "\n",
    "- It does not consider the interaction between features.   \n",
    "- It can be sensitive to noise in the data.\n",
    "- It may not select the best features for the model.\n",
    "\n",
    "**Q5: In which situations would you prefer using the Filter method over the Wrapper method for feature selection?**\n",
    "\n",
    "I would prefer using the Filter method over the Wrapper method for feature selection when:\n",
    "- I have a large dataset with many features.\n",
    "- I need to select features quickly.\n",
    "- I am not concerned about the interaction between features.\n",
    "\n",
    "**Q6: In a telecom company, you are working on a project to develop a predictive model for customer churn. You are unsure of which features to include in the model because the dataset contains several different ones. Describe how you would choose the most pertinent attributes for the model using the Filter Method.**\n",
    "\n",
    "To choose the most pertinent attributes for the model using the Filter Method, you would first calculate the correlation between each feature and the target variable (customer churn). You would then select the features with the highest correlation scores.   \n",
    "\n",
    "**Q7: You are working on a project to predict the outcome of a soccer match. You have a large dataset with many features, including player statistics and team rankings. Explain how you would use the Embedded method to select the most relevant features for the model.**\n",
    "\n",
    "To select the most relevant features for the model using the Embedded method, you would train a model on the entire dataset and then use the model's coefficients or feature importance scores to select the most important features.   \n",
    "\n",
    "**Q8: You are working on a project to predict the price of a house based on its features, such as size, location, and age. You have a limited number of features, and you want to ensure that you select the most important ones for the model. Explain how you would use the Wrapper method to select the best set of features for the predictor.**\n",
    "\n",
    "\n",
    "To select the best set of features for the predictor using the Wrapper method, you would start with a small subset of features and then iteratively add or remove features based on their performance in the model. You would continue this process until you find the best set of features.   \n",
    "\n"
   ]
  },
  {
   "cell_type": "code",
   "execution_count": null,
   "metadata": {},
   "outputs": [],
   "source": []
  }
 ],
 "metadata": {
  "language_info": {
   "name": "python"
  }
 },
 "nbformat": 4,
 "nbformat_minor": 2
}
