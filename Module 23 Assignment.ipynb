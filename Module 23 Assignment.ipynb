{
 "cells": [
  {
   "cell_type": "markdown",
   "metadata": {},
   "source": [
    "**Q1. What is multithreading in python? Why is it used? Name the module used to handle threads in python.**\n"
   ]
  },
  {
   "cell_type": "markdown",
   "metadata": {},
   "source": [
    "Multithreading in Python is a mechanism that allows multiple threads to execute concurrently within a single process. This means that different parts of the program can run independently, potentially improving performance and responsiveness.\n",
    "\n",
    "It is used to:\n",
    "Improved performance: By utilizing multiple threads, we can take advantage of multi-core processors to speed up execution, especially for tasks that involve I/O operations.\n",
    "Responsiveness: Multithreading can help prevent the application from becoming unresponsive while performing long-running tasks.\n",
    "Concurrency: It enables handling multiple tasks simultaneously, improving overall efficiency.\n",
    "\n",
    "The **threading** module is used to handle threads in Python."
   ]
  },
  {
   "cell_type": "markdown",
   "metadata": {},
   "source": [
    "**Q2. Why threading module used? Write the use of the following functions:**\n",
    "    **1. activeCount()**\n",
    "    **2. currentThread()**\n",
    "    **3. enumerate()**"
   ]
  },
  {
   "cell_type": "markdown",
   "metadata": {},
   "source": [
    "The threading module provides a higher-level interface for working with threads as compared to the lower-level _thread module. It offers a more convenient way to create, manage, and synchronize threads.\n",
    "\n",
    "1. activeCount(): It returns the number of currently active threads.\n",
    "2. currentThread(): returns the currently executing thread object.\n",
    "3. enumerate(): It returns a list of all currently active thread objects."
   ]
  },
  {
   "cell_type": "markdown",
   "metadata": {},
   "source": [
    "**Q3. Explain the following functions:\n",
    "run()\n",
    "start()\n",
    "join()\n",
    "isAlive()**"
   ]
  },
  {
   "cell_type": "markdown",
   "metadata": {},
   "source": [
    "run(): It is the method that contains the code to be executed by the thread. By default, it does nothing. We typically override this method in a subclass of threading.Thread to define the thread's behavior.\n",
    "\n",
    "start(): It starts the thread's activity. It calls the run() method in a separate thread of control.\n",
    "\n",
    "join(): Waits for the thread to terminate. This blocks the calling thread until the thread whose join() method is called completes its execution.\n",
    "\n",
    "isAlive(): This returns True if the thread is still active, False otherwise.\n"
   ]
  },
  {
   "cell_type": "markdown",
   "metadata": {},
   "source": [
    "**Q4. Write a python program to create two threads. Thread one must print the list of squares and thread two must print the list of cubes.**"
   ]
  },
  {
   "cell_type": "code",
   "execution_count": 1,
   "metadata": {},
   "outputs": [
    {
     "name": "stdout",
     "output_type": "stream",
     "text": [
      "Square: 1\n",
      "Square: 4\n",
      "Square: 9\n",
      "Square: 16\n",
      "Square: 25\n",
      "Square: 36\n",
      "Square: 49\n",
      "Square: 64\n",
      "Square: 81\n",
      "Square: 100\n",
      "Cube: 1\n",
      "Cube: 8\n",
      "Cube: 27\n",
      "Cube: 64\n",
      "Cube: 125\n",
      "Cube: 216\n",
      "Cube: 343\n",
      "Cube: 512\n",
      "Cube: 729\n",
      "Cube: 1000\n"
     ]
    }
   ],
   "source": [
    "import threading\n",
    "\n",
    "def print_squares(n):\n",
    "    for i in range(1, n+1):\n",
    "        print(\"Square:\", i*i)\n",
    "\n",
    "def print_cubes(n):\n",
    "    for i in range(1, n+1):\n",
    "        print(\"Cube:\", i*i*i)\n",
    "\n",
    "if __name__ == \"__main__\":\n",
    "    t1 = threading.Thread(target=print_squares, args=(10,))\n",
    "    t2 = threading.Thread(target=print_cubes, args=(10,))\n",
    "\n",
    "    t1.start()\n",
    "    t2.start()\n",
    "\n",
    "    t1.join()\n",
    "    t2.join()\n"
   ]
  },
  {
   "cell_type": "markdown",
   "metadata": {},
   "source": [
    "**Q5. State advantages and disadvantages of multithreading.**"
   ]
  },
  {
   "cell_type": "markdown",
   "metadata": {},
   "source": [
    "Advantages:\n",
    "1. Improves performance for CPU-bound tasks.\n",
    "2. Increases responsiveness by allowing other tasks to run while one is blocked.\n",
    "3. Ability to handle multiple tasks concurrently.\n",
    "\n",
    "Disadvantages:\n",
    "1. Global Interpreter Lock (GIL) in Python limits true parallelism for CPU-bound tasks.\n",
    "2. Increases complexity due to potential race conditions and synchronization issues.\n",
    "3. Overhead associated with thread management."
   ]
  },
  {
   "cell_type": "markdown",
   "metadata": {},
   "source": [
    "**Q6. Explain deadlocks and race conditions.**"
   ]
  },
  {
   "cell_type": "markdown",
   "metadata": {},
   "source": [
    "1. Deadlocks: It occurs when two or more threads are blocked, each waiting for the other to release a resource, resulting in a stalemate.\n",
    "2. Race conditions: This happens when multiple threads access shared data concurrently, and the outcome depends on the unpredictable order of execution. It can lead to inconsistent results and data corruption."
   ]
  }
 ],
 "metadata": {
  "kernelspec": {
   "display_name": ".venv",
   "language": "python",
   "name": "python3"
  },
  "language_info": {
   "codemirror_mode": {
    "name": "ipython",
    "version": 3
   },
   "file_extension": ".py",
   "mimetype": "text/x-python",
   "name": "python",
   "nbconvert_exporter": "python",
   "pygments_lexer": "ipython3",
   "version": "3.10.13"
  }
 },
 "nbformat": 4,
 "nbformat_minor": 2
}
