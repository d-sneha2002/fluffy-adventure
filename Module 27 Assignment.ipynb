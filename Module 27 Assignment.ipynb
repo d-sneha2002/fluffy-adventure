{
 "cells": [
  {
   "cell_type": "markdown",
   "metadata": {},
   "source": [
    "# Web API"
   ]
  },
  {
   "cell_type": "markdown",
   "metadata": {},
   "source": [
    "**Q1. What is an API? Give an example, where an API is used in real life.**\n",
    "\n",
    "API stands for Application Programming Interface. It's essentially a set of rules or protocols that allows different software applications to communicate and interact with each other. Think of it as a middleman that facilitates data exchange between two systems.\n",
    "\n",
    "Real-life example: When you use a ride-sharing app (like Uber or Lyft), it communicates with the company's servers to request available drivers, book a ride, and track your trip. This interaction happens through an API.\n",
    "\n",
    "**Q2. Give advantages and disadvantages of using API.**\n",
    "\n",
    "Advantages of using APIs:\n",
    "- Efficiency: Reuses existing functionalities, saving development time.\n",
    "- Innovation: Enables creation of new applications and services.\n",
    "- Scalability: Allows for easy integration of new features and services.\n",
    "- Data sharing: Facilitates secure data exchange between different systems.\n",
    "\n",
    "Disadvantages of using APIs:\n",
    "- Dependency: Reliance on external services can introduce vulnerabilities.\n",
    "- Security risks: Improper API usage can lead to data breaches.\n",
    "- Performance issues: Poorly designed APIs can impact application performance.\n",
    "- Vendor lock-in: Tight coupling with a specific API provider can limit flexibility.\n",
    "\n",
    "**Q3. What is a Web API? Differentiate between API and Web API.**\n",
    "\n",
    "A Web API is a specific type of API that uses HTTP protocols to communicate over the web. It allows applications to interact with each other through the internet.\n"
   ]
  },
  {
   "cell_type": "markdown",
   "metadata": {},
   "source": [
    "![Key differences between API and Web API:](<Screenshot 2024-08-04 102337.png>)"
   ]
  },
  {
   "cell_type": "markdown",
   "metadata": {},
   "source": [
    "**Q4. Explain REST and SOAP Architecture. Mention shortcomings of SOAP.**\n",
    "\n",
    "REST (Representational State Transfer): A software architectural style for creating web services. It focuses on simplicity, scalability, and independence of components. RESTful APIs use HTTP methods (GET, POST, PUT, DELETE) to interact with resources.\n",
    "\n",
    "SOAP (Simple Object Access Protocol): A protocol for exchanging structured information in the form of XML messages. It's more complex than REST and often requires additional layers of infrastructure.\n",
    "\n",
    "Shortcomings of SOAP:\n",
    "- Complexity: SOAP messages are verbose and require more overhead compared to REST.\n",
    "- Performance: SOAP can be slower than REST due to its XML-based nature and additional layers of processing.\n",
    "- Tight coupling: SOAP services are often tightly coupled, making them less flexible than RESTful services.\n",
    "\n",
    "**Q5. Differentiate between REST and SOAP.**"
   ]
  },
  {
   "cell_type": "markdown",
   "metadata": {},
   "source": [
    "![Differentiate between REST and SOAP:](<Screenshot 2024-08-04 102629.png>)"
   ]
  },
  {
   "cell_type": "markdown",
   "metadata": {},
   "source": [
    "REST has is more in use due to its simplicity, scalability, and performance advantages over SOAP."
   ]
  },
  {
   "cell_type": "markdown",
   "metadata": {},
   "source": []
  }
 ],
 "metadata": {
  "language_info": {
   "name": "python"
  }
 },
 "nbformat": 4,
 "nbformat_minor": 2
}
