{
 "cells": [
  {
   "cell_type": "markdown",
   "metadata": {},
   "source": [
    "# Machine Learning 1"
   ]
  },
  {
   "cell_type": "markdown",
   "metadata": {},
   "source": [
    "**Q1. Explain the following with an example:**\n",
    "\n",
    "Artificial Intelligence (AI):\n",
    "- The broader concept of creating intelligent agents, which are systems that can reason, learn, and act autonomously.\n",
    "- Example: Self-driving cars, virtual assistants.\n",
    "\n",
    "Machine Learning (ML):\n",
    "- A subset of AI that focuses on developing algorithms that allow computers to learn from and make predictions on data.\n",
    "- Example: Spam filters, recommendation systems.\n",
    "\n",
    "Deep Learning (DL):\n",
    "- A subset of ML that uses artificial neural networks to learn complex patterns from large amounts of data.\n",
    "- Example: Image recognition, natural language processing.\n",
    "\n",
    "**Q2. What is supervised learning? List some examples of supervised learning.**\n",
    "\n",
    "Supervised learning is a type of machine learning where the algorithm learns from labeled data. The model is trained on input data with corresponding correct outputs.\n",
    "\n",
    "Examples:\n",
    "- Image classification (identifying objects in images)\n",
    "- Spam detection\n",
    "- Regression analysis (predicting house prices)\n",
    "\n",
    "**Q3. What is unsupervised learning? List some examples of unsupervised learning.**\n",
    "\n",
    "Unsupervised learning is a type of machine learning where the algorithm learns from unlabeled data. The model finds patterns and structures in the data without explicit guidance.\n",
    "\n",
    "Examples:\n",
    "- Clustering (grouping similar data points)\n",
    "- Anomaly detection (identifying unusual data points)\n",
    "- Dimensionality reduction (reducing the number of features)\n",
    "\n",
    "Q4. What is the difference between AI, ML, DL, and DS?\n",
    "\n",
    "- AI: The overarching field of creating intelligent agents.\n",
    "- ML: A subset of AI focused on learning from data.\n",
    "- DL: A subset of ML using neural networks.\n",
    "- DS: The process of cleaning, exploring, and analyzing data to extract insights.\n"
   ]
  },
  {
   "cell_type": "markdown",
   "metadata": {},
   "source": [
    "**Q5. What are the main differences between supervised, unsupervised, and semi-supervised learning?**"
   ]
  },
  {
   "cell_type": "code",
   "execution_count": 7,
   "metadata": {},
   "outputs": [],
   "source": [
    "import pandas as pd\n",
    "\n",
    "# Create a dictionary with the data\n",
    "data = {\n",
    "    'Feature': ['Data', 'Goal', 'Examples'],\n",
    "    'Supervised Learning': ['Labeled', 'Predict output based on input', 'Image classification, regression'],\n",
    "    'Unsupervised Learning': ['Unlabeled', 'Find patterns in data', 'Clustering, anomaly detection'],\n",
    "    'Semi-supervised Learning': ['Combination of labeled and unlabeled', 'Improve supervised learning with limited labeled data', 'Text classification with limited labeled data']\n",
    "}\n",
    "\n",
    "# Create a DataFrame from the dictionary\n",
    "df = pd.DataFrame(data)\n",
    "\n",
    "# Save the DataFrame to an Excel file\n",
    "df.to_excel('learning_types.xlsx', index=False)\n"
   ]
  },
  {
   "cell_type": "code",
   "execution_count": 8,
   "metadata": {},
   "outputs": [
    {
     "name": "stdout",
     "output_type": "stream",
     "text": [
      "    Feature               Supervised Learning          Unsupervised Learning  \\\n",
      "0      Data                           Labeled                      Unlabeled   \n",
      "1      Goal     Predict output based on input          Find patterns in data   \n",
      "2  Examples  Image classification, regression  Clustering, anomaly detection   \n",
      "\n",
      "                            Semi-supervised Learning  \n",
      "0               Combination of labeled and unlabeled  \n",
      "1  Improve supervised learning with limited label...  \n",
      "2      Text classification with limited labeled data  \n"
     ]
    }
   ],
   "source": [
    "print(df)\n"
   ]
  },
  {
   "cell_type": "markdown",
   "metadata": {},
   "source": [
    "**Q6. What is train, test, and validation split? Explain the importance of each term.**\n",
    "\n",
    "- Train set: Used to train the model.\n",
    "- Test set: Used to evaluate the model's performance on unseen data.\n",
    "- Validation set: Used to tune hyperparameters and prevent overfitting.\n",
    "\n",
    "It's essential to split the data into these sets to avoid overfitting and to get a reliable estimate of the model's performance.\n",
    "\n",
    "**Q7. How can unsupervised learning be used in anomaly detection?**\n",
    "\n",
    "- Unsupervised learning can be used for anomaly detection by identifying data points that deviate significantly from normal patterns.\n",
    "- Clustering algorithms can group similar data points, and outliers (anomalies) can be detected as points that don't belong to any cluster.\n",
    "   \n",
    "**Q8. List down some commonly used supervised learning algorithms and unsupervised learning algorithms.**\n",
    "\n",
    "Supervised Learning Algorithms:\n",
    "\n",
    "- Linear Regression\n",
    "- Logistic Regression\n",
    "- Decision Trees\n",
    "- Support Vector Machines\n",
    "- Random Forest\n",
    "- Naive Bayes\n",
    "\n",
    "Unsupervised Learning Algorithms:\n",
    "- K-Means Clustering\n",
    "- Hierarchical Clustering\n",
    "- Principal Component Analysis (PCA)\n",
    "- Anomaly Detection (Isolation Forest, One-Class SVM)"
   ]
  },
  {
   "cell_type": "markdown",
   "metadata": {},
   "source": []
  }
 ],
 "metadata": {
  "kernelspec": {
   "display_name": ".venv",
   "language": "python",
   "name": "python3"
  },
  "language_info": {
   "codemirror_mode": {
    "name": "ipython",
    "version": 3
   },
   "file_extension": ".py",
   "mimetype": "text/x-python",
   "name": "python",
   "nbconvert_exporter": "python",
   "pygments_lexer": "ipython3",
   "version": "3.10.13"
  }
 },
 "nbformat": 4,
 "nbformat_minor": 2
}
