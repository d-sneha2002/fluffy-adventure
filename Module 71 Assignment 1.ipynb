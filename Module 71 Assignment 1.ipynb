{
 "cells": [
  {
   "cell_type": "markdown",
   "metadata": {},
   "source": [
    "# Ensemble Techniques And Its Types-1"
   ]
  },
  {
   "cell_type": "markdown",
   "metadata": {},
   "source": [
    "**Q1. What is an ensemble technique in machine learning?**\n",
    "\n",
    "An ensemble technique in machine learning is a method that combines multiple models to improve predictive performance. Instead of relying on a single model, ensembles leverage the strengths of various models to make more accurate and robust predictions.\n",
    "\n",
    "**Q2. Why are ensemble techniques used in machine learning?**\n",
    "\n",
    "Ensemble techniques are used in machine learning for several reasons:\n",
    "\n",
    "Improved accuracy: Ensembles often outperform individual models by reducing variance and bias.\n",
    "Enhanced robustness: Ensembles can be more resilient to overfitting and noisy data.\n",
    "Handling complex patterns: Ensembles can capture intricate relationships in data that might be missed by individual models.\n",
    "\n",
    "**Q3. What is bagging?**\n",
    "\n",
    "Bagging (Bootstrap Aggregating) is an ensemble technique where multiple models are trained on different subsets of the training data. These subsets are created by sampling with replacement, meaning the same data point can appear multiple times in a subset. The predictions from these models are then combined, usually by averaging or voting, to produce the final prediction.   \n",
    "\n",
    "**Q4. What is boosting?**\n",
    "\n",
    "Boosting is an ensemble technique where multiple models are trained sequentially. Each subsequent model focuses on correcting the errors of the previous models. This process iteratively improves the overall performance of the ensemble.   \n",
    "\n",
    "**Q5. What are the benefits of using ensemble techniques?**\n",
    "\n",
    "The benefits of using ensemble techniques include:\n",
    "\n",
    "Improved accuracy\n",
    "Enhanced robustness\n",
    "Better generalization to unseen data\n",
    "Ability to handle complex patterns\n",
    "Reduced overfitting\n",
    "\n",
    "**Q6. Are ensemble techniques always better than individual models?**\n",
    "\n",
    "While ensemble techniques often outperform individual models, it's not always guaranteed. The effectiveness of an ensemble depends on the diversity of the base models and the appropriate combination method. In some cases, a well-tuned individual model might still perform better.\n",
    "\n",
    "**Q7. How is the confidence interval calculated using bootstrap?**\n",
    "\n",
    "The confidence interval using bootstrap is calculated by:\n",
    "\n",
    "Sampling with replacement from the original data to create multiple bootstrap samples.\n",
    "Calculating the statistic of interest (e.g., mean) for each bootstrap sample.\n",
    "Sorting the calculated statistics.\n",
    "Determining the desired confidence level (e.g., 95%).\n",
    "Finding the corresponding percentiles from the sorted statistics to define the confidence interval.\n",
    "\n",
    "**Q8. How does bootstrap work and What are the steps involved in bootstrap?**\n",
    "\n",
    "Bootstrap works by:\n",
    "\n",
    "Sampling with replacement from the original data to create multiple bootstrap samples.\n",
    "Calculating the statistic of interest (e.g., mean, median) for each bootstrap sample.\n",
    "Using the distribution of these statistics to estimate the sampling distribution of the original statistic.\n",
    "Deriving confidence intervals or other statistical inferences based on the estimated sampling distribution.\n",
    "\n",
    "**Q9. A researcher wants to estimate the mean height of a population of trees. They measure the height of a sample of 50 trees and obtain a mean height of 15 meters and a standard deviation of 2 meters. Use bootstrap to estimate the 95% confidence interval for the population mean height.**\n",
    "\n",
    "To estimate the 95% confidence interval for the population mean height using bootstrap, the researcher would follow these steps:   \n",
    "\n",
    "Create multiple bootstrap samples by sampling with replacement from the original sample of 50 tree heights.\n",
    "Calculate the mean height for each bootstrap sample.\n",
    "Sort the calculated mean heights.\n",
    "Find the 2.5th and 97.5th percentiles of the sorted mean heights to determine the 95% confidence interval."
   ]
  },
  {
   "cell_type": "code",
   "execution_count": 1,
   "metadata": {},
   "outputs": [
    {
     "name": "stdout",
     "output_type": "stream",
     "text": [
      "Bootstrap 95% confidence interval: (np.float64(14.033849846852862), np.float64(15.061040878849226))\n"
     ]
    }
   ],
   "source": [
    "import numpy as np\n",
    "\n",
    "def bootstrap_ci(data, B, alpha):\n",
    "  \"\"\"\n",
    "  Calculates the bootstrap confidence interval for the mean.\n",
    "\n",
    "  Args:\n",
    "    data: The original data sample.\n",
    "    B: The number of bootstrap samples.\n",
    "    alpha: The significance level (1 - confidence level).\n",
    "\n",
    "  Returns:\n",
    "    A tuple containing the lower and upper bounds of the confidence interval.\n",
    "  \"\"\"\n",
    "\n",
    "  n = len(data)\n",
    "  boot_means = np.zeros(B)\n",
    "\n",
    "  for i in range(B):\n",
    "    sample = np.random.choice(data, size=n, replace=True)\n",
    "    boot_means[i] = np.mean(sample)\n",
    "\n",
    "  lower_bound = np.percentile(boot_means, alpha/2 * 100)\n",
    "  upper_bound = np.percentile(boot_means, (1 - alpha/2) * 100)\n",
    "\n",
    "  return lower_bound, upper_bound\n",
    "\n",
    "# Sample data (replace with your actual data)\n",
    "sample_mean = 15\n",
    "sample_std = 2\n",
    "sample_size = 50\n",
    "\n",
    "# Generate simulated data (assuming normal distribution)\n",
    "np.random.seed(42)  # For reproducibility\n",
    "data = np.random.normal(sample_mean, sample_std, sample_size)\n",
    "\n",
    "# Bootstrap parameters\n",
    "B = 10000  # Number of bootstrap samples\n",
    "alpha = 0.05  # Significance level for 95% confidence interval\n",
    "\n",
    "ci = bootstrap_ci(data, B, alpha)\n",
    "\n",
    "print(\"Bootstrap 95% confidence interval:\", ci)\n"
   ]
  },
  {
   "cell_type": "code",
   "execution_count": null,
   "metadata": {},
   "outputs": [],
   "source": []
  },
  {
   "cell_type": "markdown",
   "metadata": {},
   "source": []
  }
 ],
 "metadata": {
  "kernelspec": {
   "display_name": ".venv",
   "language": "python",
   "name": "python3"
  },
  "language_info": {
   "codemirror_mode": {
    "name": "ipython",
    "version": 3
   },
   "file_extension": ".py",
   "mimetype": "text/x-python",
   "name": "python",
   "nbconvert_exporter": "python",
   "pygments_lexer": "ipython3",
   "version": "3.10.13"
  }
 },
 "nbformat": 4,
 "nbformat_minor": 2
}
