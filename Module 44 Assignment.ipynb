{
 "cells": [
  {
   "cell_type": "markdown",
   "metadata": {},
   "source": [
    "# Statistics Advance 1"
   ]
  },
  {
   "cell_type": "markdown",
   "metadata": {},
   "source": [
    "**Q1. What is the Probability density function?**\n",
    "\n",
    "Probability density function (PDF) is a function that defines the probability distribution of a continuous random variable. It represents the likelihood of a random variable taking on a specific value.   \n",
    "\n",
    "**Q2. What are the types of Probability distribution?**\n",
    "\n",
    "There are numerous probability distributions, but some common ones include:\n",
    "\n",
    "- Normal distribution: Bell-shaped curve, symmetric around the mean.\n",
    "- Binomial distribution: Models the probability of successes in a fixed number of trials.\n",
    "- Poisson distribution: Models the number of events occurring in a fixed interval of time.\n",
    "- Uniform distribution: All outcomes are equally likely.\n",
    "- Exponential distribution: Models the time between events in a Poisson process."
   ]
  },
  {
   "cell_type": "markdown",
   "metadata": {},
   "source": [
    "**Q3. Write a Python function to calculate the probability density function of a normal distribution with given mean and standard deviation at a given point.**"
   ]
  },
  {
   "cell_type": "code",
   "execution_count": 2,
   "metadata": {},
   "outputs": [
    {
     "name": "stdout",
     "output_type": "stream",
     "text": [
      "Collecting scipy\n",
      "  Downloading scipy-1.14.0-cp310-cp310-manylinux_2_17_x86_64.manylinux2014_x86_64.whl.metadata (60 kB)\n",
      "Requirement already satisfied: numpy<2.3,>=1.23.5 in /workspaces/codespaces-jupyter/.venv/lib/python3.10/site-packages (from scipy) (2.0.1)\n",
      "Downloading scipy-1.14.0-cp310-cp310-manylinux_2_17_x86_64.manylinux2014_x86_64.whl (41.1 MB)\n",
      "\u001b[2K   \u001b[90m━━━━━━━━━━━━━━━━━━━━━━━━━━━━━━━━━━━━━━━━\u001b[0m \u001b[32m41.1/41.1 MB\u001b[0m \u001b[31m41.4 MB/s\u001b[0m eta \u001b[36m0:00:00\u001b[0m00:01\u001b[0m00:01\u001b[0m\n",
      "\u001b[?25hInstalling collected packages: scipy\n",
      "Successfully installed scipy-1.14.0\n",
      "Note: you may need to restart the kernel to use updated packages.\n"
     ]
    }
   ],
   "source": [
    "pip install scipy"
   ]
  },
  {
   "cell_type": "code",
   "execution_count": 10,
   "metadata": {},
   "outputs": [
    {
     "name": "stdout",
     "output_type": "stream",
     "text": [
      "0.05399096651318806\n"
     ]
    }
   ],
   "source": [
    "import scipy.stats as stats\n",
    "\n",
    "def normal_pdf(x, mean, std_dev):\n",
    "  \"\"\"Calculates the probability density function of a normal distribution.\n",
    "\n",
    "  Args:\n",
    "    x: The point at which to evaluate the PDF.\n",
    "    mean: The mean of the normal distribution.\n",
    "    std_dev: The standard deviation of the normal distribution.\n",
    "\n",
    "  Returns:\n",
    "    The probability density at the given point.\n",
    "  \"\"\"\n",
    "\n",
    "  return stats.norm.pdf(x, loc=mean, scale=std_dev)\n",
    "\n",
    "# Example usage:\n",
    "x_value = 2\n",
    "mean_value = 0\n",
    "std_dev_value = 1\n",
    "\n",
    "pdf_value = normal_pdf(x_value, mean_value, std_dev_value)\n",
    "print(pdf_value)\n"
   ]
  },
  {
   "cell_type": "markdown",
   "metadata": {},
   "source": [
    "**Q4. What are the properties of Binomial distribution? Give two examples of events where binomial distribution can be applied.**\n",
    "\n",
    "- Fixed number of trials (n)\n",
    "- Each trial has two possible outcomes (success or failure)\n",
    "- Trials are independent\n",
    "- Probability of success (p) remains constant\n",
    "- The random variable is the number of successes\n",
    "\n",
    "Examples:\n",
    "\n",
    "- Flipping a coin multiple times and counting the number of heads.\n",
    "- Checking for defective items in a sample of products."
   ]
  },
  {
   "cell_type": "markdown",
   "metadata": {},
   "source": [
    "**Q5. Generate a random sample of size 1000 from a binomial distribution with probability of success 0.4 and plot a histogram of the results using matplotlib.**"
   ]
  },
  {
   "cell_type": "code",
   "execution_count": 11,
   "metadata": {},
   "outputs": [
    {
     "data": {
      "image/png": "[encoded data removed]",
      "text/plain": [
       "<Figure size 640x480 with 1 Axes>"
      ]
     },
     "metadata": {},
     "output_type": "display_data"
    }
   ],
   "source": [
    "import numpy as np\n",
    "import matplotlib.pyplot as plt\n",
    "\n",
    "# Generate random sample\n",
    "sample = np.random.binomial(n=1, p=0.4, size=1000)\n",
    "\n",
    "# Plot histogram\n",
    "plt.hist(sample, bins=10)\n",
    "plt.title(\"Binomial Distribution Histogram\")\n",
    "plt.xlabel(\"Number of Successes\")\n",
    "plt.ylabel(\"Frequency\")\n",
    "plt.show()\n"
   ]
  },
  {
   "cell_type": "markdown",
   "metadata": {},
   "source": [
    "**Q6. Write a Python function to calculate the cumulative distribution function of a Poisson distribution with given mean at a given point.**"
   ]
  },
  {
   "cell_type": "code",
   "execution_count": 12,
   "metadata": {},
   "outputs": [],
   "source": [
    "import scipy.stats as stats\n",
    "\n",
    "def poisson_cdf(x, mean):\n",
    "  \"\"\"Calculates the cumulative distribution function of a Poisson distribution.\n",
    "\n",
    "  Args:\n",
    "    x: The point at which to evaluate the CDF.\n",
    "    mean: The mean of the Poisson distribution.\n",
    "\n",
    "  Returns:\n",
    "    The cumulative probability at the given point.\n",
    "  \"\"\"\n",
    "\n",
    "  return stats.poisson.cdf(x, mu=mean)\n"
   ]
  },
  {
   "cell_type": "markdown",
   "metadata": {},
   "source": [
    "**Q7. How Binomial distribution different from Poisson distribution?**\n",
    "\n",
    "- Binomial: Fixed number of trials, two outcomes, probability of success remains constant.\n",
    "- Poisson: Counts the number of events in a fixed interval, events occur independently, the average rate of events is constant."
   ]
  },
  {
   "cell_type": "markdown",
   "metadata": {},
   "source": [
    "**Q8. Generate a random sample of size 1000 from a Poisson distribution with mean 5 and calculate the sample mean and variance.**"
   ]
  },
  {
   "cell_type": "code",
   "execution_count": 13,
   "metadata": {},
   "outputs": [
    {
     "name": "stdout",
     "output_type": "stream",
     "text": [
      "Sample mean: 4.992\n",
      "Sample variance: 5.131936\n"
     ]
    }
   ],
   "source": [
    "import numpy as np\n",
    "\n",
    "# Generate random sample\n",
    "sample = np.random.poisson(lam=5, size=1000)\n",
    "\n",
    "# Calculate sample mean and variance\n",
    "sample_mean = np.mean(sample)\n",
    "sample_variance = np.var(sample)\n",
    "\n",
    "print(\"Sample mean:\", sample_mean)\n",
    "print(\"Sample variance:\", sample_variance)\n"
   ]
  },
  {
   "cell_type": "markdown",
   "metadata": {},
   "source": [
    "**Q9. How mean and variance are related in Binomial distribution and Poisson distribution?**\n",
    "\n",
    "- Binomial: Mean = np, Variance = np(1-p)\n",
    "- Poisson: Mean = variance = λ\n",
    "\n",
    "**Q10. In normal distribution with respect to mean position, where does the least frequent data appear?**\n",
    "\n",
    "In a normal distribution, the least frequent data appears in the tails of the distribution, far from the mean."
   ]
  },
  {
   "cell_type": "markdown",
   "metadata": {},
   "source": []
  }
 ],
 "metadata": {
  "kernelspec": {
   "display_name": ".venv",
   "language": "python",
   "name": "python3"
  },
  "language_info": {
   "codemirror_mode": {
    "name": "ipython",
    "version": 3
   },
   "file_extension": ".py",
   "mimetype": "text/x-python",
   "name": "python",
   "nbconvert_exporter": "python",
   "pygments_lexer": "ipython3",
   "version": "3.10.13"
  }
 },
 "nbformat": 4,
 "nbformat_minor": 2
}
