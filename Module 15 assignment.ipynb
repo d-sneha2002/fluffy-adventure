{
 "cells": [
  {
   "cell_type": "markdown",
   "metadata": {},
   "source": [
    "1. Create a function which will take a list as an argument and return the product of all the numbers\n",
    "after creating a flat list.\n",
    "Use the below-given list as an argument for your function.\n",
    "list1 = [1,2,3,4, [44,55,66, True], False, (34,56,78,89,34), {1,2,3,3,2,1}, {1:34, \"key2\": [55, 67, 78, 89], 4: (45,\n",
    "22, 61, 34)}, [56, 'data science'], 'Machine Learning']"
   ]
  },
  {
   "cell_type": "code",
   "execution_count": 1,
   "metadata": {},
   "outputs": [
    {
     "name": "stdout",
     "output_type": "stream",
     "text": [
      "0\n"
     ]
    }
   ],
   "source": [
    "def calculate_product(lst):\n",
    "  \"\"\"Calculates the product of all numbers in a nested list.\n",
    "\n",
    "  Args:\n",
    "    lst: A nested list containing numbers and other data structures.\n",
    "\n",
    "  Returns:\n",
    "    The product of all numeric values in the list.\n",
    "  \"\"\"\n",
    "\n",
    "  def flatten(lst):\n",
    "    for item in lst:\n",
    "      if isinstance(item, (int, float)):\n",
    "        yield item\n",
    "      elif isinstance(item, dict):\n",
    "        for key, value in item.items():\n",
    "          if isinstance(key, (int, float)):\n",
    "            yield key\n",
    "          if isinstance(value, (int, float)):\n",
    "            yield value\n",
    "      elif isinstance(item, (list, tuple)):\n",
    "        yield from flatten(item)\n",
    "\n",
    "  product = 1\n",
    "  for num in flatten(lst):\n",
    "    product *= num\n",
    "  return product\n",
    "\n",
    "list1 = [1, 2, 3, 4, [44, 55, 66, True], False, (34, 56, 78, 89, 34), (1, 2, 3, 3, 2, 1), {1: 34, \"key2\": [55, 67, 78, 89], 4: (45, 22, 61, 34)}, [50, 'data science'], 'Machine Learning']\n",
    "\n",
    "result = calculate_product(list1)\n",
    "print(result)\n"
   ]
  },
  {
   "cell_type": "markdown",
   "metadata": {},
   "source": [
    "2. Write a python program for encrypting a message sent to you by your friend. The logic of encryption\n",
    "should be such that, for a the output should be z. For b, the output should be y. For c, the output should\n",
    "be x respectively. Also, the whitespace should be replaced with a dollar sign. Keep the punctuation\n",
    "marks unchanged.\n",
    "Input Sentence: I want to become a Data Scientist.\n",
    "Encrypt the above input sentence using the program you just created."
   ]
  },
  {
   "cell_type": "code",
   "execution_count": 2,
   "metadata": {},
   "outputs": [
    {
     "name": "stdout",
     "output_type": "stream",
     "text": [
      "r$dzmg$gl$yvxlnv$z$wzgz$hxrvmgrhg.\n"
     ]
    }
   ],
   "source": [
    "def encrypt_message(message):\n",
    "  \"\"\"Encrypts a message using a simple substitution cipher.\n",
    "\n",
    "  Args:\n",
    "    message: The input message to be encrypted.\n",
    "\n",
    "  Returns:\n",
    "    The encrypted message.\n",
    "  \"\"\"\n",
    "\n",
    "  alphabet = 'abcdefghijklmnopqrstuvwxyz'\n",
    "  encrypted = ''\n",
    "\n",
    "  for char in message.lower():\n",
    "    if char.isalpha():\n",
    "      index = alphabet.index(char)\n",
    "      encrypted += alphabet[25 - index]\n",
    "    elif char == ' ':\n",
    "      encrypted += '$'\n",
    "    else:\n",
    "      encrypted += char\n",
    "\n",
    "  return encrypted\n",
    "\n",
    "input_sentence = \"I want to become a Data Scientist.\"\n",
    "encrypted_message = encrypt_message(input_sentence)\n",
    "print(encrypted_message)\n"
   ]
  }
 ],
 "metadata": {
  "kernelspec": {
   "display_name": ".venv",
   "language": "python",
   "name": "python3"
  },
  "language_info": {
   "codemirror_mode": {
    "name": "ipython",
    "version": 3
   },
   "file_extension": ".py",
   "mimetype": "text/x-python",
   "name": "python",
   "nbconvert_exporter": "python",
   "pygments_lexer": "ipython3",
   "version": "3.10.13"
  }
 },
 "nbformat": 4,
 "nbformat_minor": 2
}
