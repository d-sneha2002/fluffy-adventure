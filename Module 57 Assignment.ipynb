{
 "cells": [
  {
   "cell_type": "markdown",
   "metadata": {},
   "source": [
    "# Feature Engineering 5"
   ]
  },
  {
   "cell_type": "markdown",
   "metadata": {},
   "source": [
    "**Q1. What is the difference between Ordinal Encoding and Label Encoding? Provide an example of when you might choose one over the other.**\n",
    "\n",
    "Label Encoding assigns a unique integer to each category in a categorical variable, regardless of any inherent order.\n",
    "\n",
    "Ordinal Encoding also assigns integers to categories, but it preserves the order between them.\n",
    "\n",
    "When to use which:\n",
    "\n",
    "Label Encoding: Use when there's no inherent order in the categories (e.g., color, gender).\n",
    "\n",
    "Ordinal Encoding: Use when there's a clear order or ranking among the categories (e.g., education level, product rating).\n",
    "\n",
    "**Q2. Explain how Target Guided Ordinal Encoding works and provide an example of when you might use it in a machine learning project.**\n",
    "\n",
    "Target Guided Ordinal Encoding assigns labels to categories based on the target variable. The categories are ordered based on their mean target value.\n",
    "\n",
    "Example:\n",
    "In a customer churn prediction model, you might use target guided ordinal encoding for the \"tenure\" feature. Customers with higher tenure might be less likely to churn. By ordering the tenure categories based on churn rate, you can capture this information in the encoding.\n",
    "\n",
    "**Q3. Define covariance and explain why it is important in statistical analysis. How is covariance calculated?**\n",
    "\n",
    "Covariance measures the relationship between two variables. A positive covariance indicates that the two variables tend to move in the same direction, while a negative covariance suggests they move in opposite directions. A covariance of zero implies no linear relationship.   \n",
    "\n",
    "Importance:\n",
    "\n",
    "- Understanding relationships between variables\n",
    "- Feature selection\n",
    "- Portfolio management\n",
    "- Risk assessment\n",
    "\n",
    "Calculation:\n",
    "`cov(X, Y) = E[(X - E[X])(Y - E[Y])]`\n",
    "\n",
    "where:\n",
    "- E[] is the expected value\n",
    "- X and Y are the two variables"
   ]
  },
  {
   "cell_type": "markdown",
   "metadata": {},
   "source": [
    "**Q4. For a dataset with the following categorical variables: Color (red, green, blue), Size (small, medium, large), and Material (wood, metal, plastic), perform label encoding using Python's scikit-learn library. Show your code and explain the output.**"
   ]
  },
  {
   "cell_type": "code",
   "execution_count": 3,
   "metadata": {},
   "outputs": [
    {
     "name": "stdout",
     "output_type": "stream",
     "text": [
      "Collecting scikit-learn\n",
      "  Downloading scikit_learn-1.5.1-cp310-cp310-manylinux_2_17_x86_64.manylinux2014_x86_64.whl.metadata (12 kB)\n",
      "Requirement already satisfied: numpy>=1.19.5 in /workspaces/codespaces-jupyter/.venv/lib/python3.10/site-packages (from scikit-learn) (2.0.1)\n",
      "Requirement already satisfied: scipy>=1.6.0 in /workspaces/codespaces-jupyter/.venv/lib/python3.10/site-packages (from scikit-learn) (1.14.0)\n",
      "Collecting joblib>=1.2.0 (from scikit-learn)\n",
      "  Downloading joblib-1.4.2-py3-none-any.whl.metadata (5.4 kB)\n",
      "Collecting threadpoolctl>=3.1.0 (from scikit-learn)\n",
      "  Downloading threadpoolctl-3.5.0-py3-none-any.whl.metadata (13 kB)\n",
      "Downloading scikit_learn-1.5.1-cp310-cp310-manylinux_2_17_x86_64.manylinux2014_x86_64.whl (13.4 MB)\n",
      "\u001b[2K   \u001b[90m━━━━━━━━━━━━━━━━━━━━━━━━━━━━━━━━━━━━━━━━\u001b[0m \u001b[32m13.4/13.4 MB\u001b[0m \u001b[31m29.3 MB/s\u001b[0m eta \u001b[36m0:00:00\u001b[0m \u001b[36m0:00:01\u001b[0m\n",
      "\u001b[?25hDownloading joblib-1.4.2-py3-none-any.whl (301 kB)\n",
      "Downloading threadpoolctl-3.5.0-py3-none-any.whl (18 kB)\n",
      "Installing collected packages: threadpoolctl, joblib, scikit-learn\n",
      "Successfully installed joblib-1.4.2 scikit-learn-1.5.1 threadpoolctl-3.5.0\n",
      "Note: you may need to restart the kernel to use updated packages.\n"
     ]
    }
   ],
   "source": [
    "pip install scikit-learn\n"
   ]
  },
  {
   "cell_type": "code",
   "execution_count": 4,
   "metadata": {},
   "outputs": [
    {
     "name": "stdout",
     "output_type": "stream",
     "text": [
      "   Color  Size  Material\n",
      "0      2     2         2\n",
      "1      1     1         0\n",
      "2      0     0         1\n",
      "3      2     2         2\n"
     ]
    }
   ],
   "source": [
    "import pandas as pd\n",
    "from sklearn.preprocessing import LabelEncoder\n",
    "\n",
    "data = {'Color': ['red', 'green', 'blue', 'red'],\n",
    "        'Size': ['small', 'medium', 'large', 'small'],\n",
    "        'Material': ['wood', 'metal', 'plastic', 'wood']}\n",
    "df = pd.DataFrame(data)\n",
    "\n",
    "le = LabelEncoder()\n",
    "for col in df.columns:\n",
    "    df[col] = le.fit_transform(df[col])\n",
    "\n",
    "print(df)\n"
   ]
  },
  {
   "cell_type": "markdown",
   "metadata": {},
   "source": [
    "**Q5. Calculate the covariance matrix for the following variables in a dataset: Age, Income, and Education level. Interpret the results.**\n",
    "Note: To calculate the covariance matrix, we would need actual numerical data for Age, Income, and Education level. Assuming you have this data in a pandas DataFrame named 'data', you can use:"
   ]
  },
  {
   "cell_type": "code",
   "execution_count": 16,
   "metadata": {},
   "outputs": [
    {
     "name": "stdout",
     "output_type": "stream",
     "text": [
      "                       Age        Income  Education_level\n",
      "Age                   49.0  2.100000e+06        10.500000\n",
      "Income           2100000.0  9.333333e+10    566666.666667\n",
      "Education_level       10.5  5.666667e+05         6.333333\n"
     ]
    }
   ],
   "source": [
    "import pandas as pd\n",
    "import numpy as np\n",
    "\n",
    "# Sample DataFrame\n",
    "data = {'Name': ['Jack', 'John', 'Jenny'],\n",
    "        'Age': [28, 21, 35],\n",
    "        'Income': [2000000, 1800000, 2400000],  # Remove quotes for numerical values\n",
    "        'Education_level': [12+4, 12+6, 12+9]}\n",
    "\n",
    "df = pd.DataFrame(data)\n",
    "\n",
    "# Convert 'Income' and 'Education_level' column to numeric\n",
    "df['Income'] = pd.to_numeric(df['Income'])\n",
    "df['Education_level'] = pd.to_numeric(df['Education_level'])\n",
    "# Calculate covariance matrix for numerical columns\n",
    "covariance_matrix = df[['Age', 'Income','Education_level']].cov()  \n",
    "print(covariance_matrix)\n"
   ]
  },
  {
   "cell_type": "markdown",
   "metadata": {},
   "source": [
    "The output will be a 3x3 matrix. The diagonal elements represent the variance of each variable, and the off-diagonal elements represent the covariance between pairs of variables.\n",
    "\n",
    "Interpretation:\n",
    "\n",
    "- Positive covariance: Two variables tend to increase or decrease together.\n",
    "- Negative covariance: Two variables tend to move in opposite directions.\n",
    "- High magnitude covariance: Strong relationship between variables.\n",
    "- Low magnitude covariance: Weak relationship between variables."
   ]
  },
  {
   "cell_type": "markdown",
   "metadata": {},
   "source": [
    "**Q6. You are working on a machine learning project with a dataset containing several categorical variables, including \"Gender\" (Male/Female), \"Education Level\" (High School/Bachelor's/Master's/PhD), and \"Employment Status\" (Unemployed/Part-Time/Full-Time). Which encoding method would you use for each variable, and why?**\n",
    "\n",
    "- Gender: Label encoding (no inherent order)\n",
    "- Education Level: Ordinal encoding (there's a clear hierarchy)\n",
    "- Employment Status: Label encoding (no inherent order)"
   ]
  },
  {
   "cell_type": "markdown",
   "metadata": {},
   "source": [
    "**Q7. You are analyzing a dataset with two continuous variables, \"Temperature\" and \"Humidity\", and two categorical variables, \"Weather Condition\" (Sunny/Cloudy/Rainy) and \"Wind Direction\" (North/South/East/West). Calculate the covariance between each pair of variables and interpret the results.**"
   ]
  },
  {
   "cell_type": "code",
   "execution_count": null,
   "metadata": {},
   "outputs": [],
   "source": [
    "import pandas as pd\n",
    "import numpy as np\n",
    "\n",
    "data = {'Temperature': ['Jack', 'John', 'Jenny'],\n",
    "        'Humidity': [28, 21, 35],\n",
    "        'Weather Condition': [2000000, 1800000, 2400000],  # Remove quotes for numerical values\n",
    "        'Wind Direction': [12+4, 12+6, 12+9]}\n",
    "df = pd.DataFrame(data)\n",
    "\n",
    "covariance_matrix = df[['Temperature', 'Humidity']].cov()\n",
    "print(covariance_matrix)\n",
    "\n",
    "covariance_matrix = df[['Weather Condition', 'Wind Direction']].cov()\n",
    "print(covariance_matrix)"
   ]
  },
  {
   "cell_type": "code",
   "execution_count": 18,
   "metadata": {},
   "outputs": [
    {
     "name": "stdout",
     "output_type": "stream",
     "text": [
      "Covariance Matrix:\n",
      " [[  9.3  -21.25   0.9    3.1 ]\n",
      " [-21.25  62.5   -1.25  -8.75]\n",
      " [  0.9   -1.25   0.7    0.55]\n",
      " [  3.1   -8.75   0.55   1.7 ]]\n"
     ]
    }
   ],
   "source": [
    "import numpy as np\n",
    "\n",
    "temperature = np.array([25, 22, 27, 30, 24])\n",
    "humidity = np.array([60, 65, 55, 50, 70])\n",
    "\n",
    "weather_condition = np.array([0, 1, 0, 2, 1])\n",
    "wind_direction = np.array([0, 1, 2, 3, 0])\n",
    "data = np.vstack([temperature, humidity, weather_condition, wind_direction])\n",
    "\n",
    "cov_matrix = np.cov(data, bias=False)\n",
    "print(\"Covariance Matrix:\\n\", cov_matrix)"
   ]
  },
  {
   "cell_type": "markdown",
   "metadata": {},
   "source": [
    "- Temperature and Humidity: A moderate negative relationship.\n",
    "- Temperature and Weather Condition: A slight positive relationship.\n",
    "- Temperature and Wind Direction: A slight positive relationship.\n",
    "- Humidity and Weather Condition: A slight negative relationship.\n",
    "- Humidity and Wind Direction: A moderate negative relationship.\n",
    "- Weather Condition and Wind Direction: A slight positive relationship."
   ]
  },
  {
   "cell_type": "markdown",
   "metadata": {},
   "source": []
  }
 ],
 "metadata": {
  "kernelspec": {
   "display_name": ".venv",
   "language": "python",
   "name": "python3"
  },
  "language_info": {
   "codemirror_mode": {
    "name": "ipython",
    "version": 3
   },
   "file_extension": ".py",
   "mimetype": "text/x-python",
   "name": "python",
   "nbconvert_exporter": "python",
   "pygments_lexer": "ipython3",
   "version": "3.10.13"
  }
 },
 "nbformat": 4,
 "nbformat_minor": 2
}
