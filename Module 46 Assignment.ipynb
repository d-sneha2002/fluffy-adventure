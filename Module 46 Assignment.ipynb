{
 "cells": [
  {
   "cell_type": "markdown",
   "metadata": {},
   "source": [
    "# Statistics Advance 3"
   ]
  },
  {
   "cell_type": "markdown",
   "metadata": {},
   "source": [
    "**Q1: What is Estimation Statistics? Explain point estimate and interval estimate.**\n",
    "\n",
    "\n",
    "Estimation statistics involves using sample data to make inferences about a population parameter. It helps provide an estimate of unknown characteristics of a population based on observed data.\n",
    "\n",
    "Point Estimate:\n",
    "\n",
    "A point estimate is a single value calculated from sample data that serves as an estimate of a population parameter. For example, if you want to estimate the average height of a population, the sample mean is a point estimate of the population mean.\n",
    "\n",
    "Interval Estimate:\n",
    "\n",
    "An interval estimate provides a range of values, rather than a single point, within which the population parameter is expected to lie. This range is associated with a level of confidence. For example, a 95% confidence interval for the mean height might be 65 to 70 inches, indicating that you are 95% confident that the true population mean falls within this range."
   ]
  },
  {
   "cell_type": "markdown",
   "metadata": {},
   "source": [
    "Q2. Write a Python function to estimate the population mean using a sample mean and standard deviation."
   ]
  },
  {
   "cell_type": "code",
   "execution_count": 1,
   "metadata": {},
   "outputs": [
    {
     "name": "stdout",
     "output_type": "stream",
     "text": [
      "95% confidence interval for the population mean: (np.float64(46.421611712565685), np.float64(53.578388287434315))\n"
     ]
    }
   ],
   "source": [
    "import scipy.stats as stats\n",
    "import math\n",
    "\n",
    "def estimate_population_mean(sample_mean, sample_std_dev, sample_size, confidence_level=0.95):\n",
    "\n",
    "    standard_error = sample_std_dev / math.sqrt(sample_size)\n",
    "    \n",
    "    critical_value = stats.norm.ppf((1 + confidence_level) / 2)\n",
    "    \n",
    "    margin_of_error = critical_value * standard_error\n",
    "    \n",
    "    lower_bound = sample_mean - margin_of_error\n",
    "    upper_bound = sample_mean + margin_of_error\n",
    "    \n",
    "    return lower_bound, upper_bound\n",
    "\n",
    "sample_mean = 50\n",
    "sample_std_dev = 10\n",
    "sample_size = 30\n",
    "\n",
    "confidence_interval = estimate_population_mean(sample_mean, sample_std_dev, sample_size)\n",
    "print(f\"95% confidence interval for the population mean: {confidence_interval}\")\n"
   ]
  },
  {
   "cell_type": "markdown",
   "metadata": {},
   "source": [
    "**Q3: What is Hypothesis testing? Why is it used? State the importance of Hypothesis testing.**\n",
    "\n",
    "Hypothesis testing is a statistical method used to make inferences or draw conclusions about a population based on sample data. It involves formulating two competing statements, called hypotheses, and using statistical methods to determine which hypothesis is supported by the sample data.\n",
    "\n",
    "It Is Used:\n",
    "- Decision-Making: Hypothesis testing provides a framework for making decisions based on data. It helps determine whether observed effects or differences are statistically significant or likely due to random chance.\n",
    "- Scientific Validation: It is used to validate scientific research and experiments. By testing hypotheses, researchers can confirm or refute theories and claims based on empirical evidence.\n",
    "- Risk Management: In fields like medicine, finance, and quality control, hypothesis testing helps manage risk by evaluating whether interventions or changes have significant effects.\n",
    "\n",
    "Importance of Hypothesis Testing:\n",
    "- Objective Assessment: It offers an objective method for assessing whether sample data supports a particular claim or hypothesis, reducing bias and subjective judgment.\n",
    "- Evidence-Based Decisions: It provides a systematic way to make decisions based on statistical evidence, enhancing the reliability and validity of conclusions.\n",
    "- Scientific Progress: Hypothesis testing is fundamental to scientific research, allowing researchers to test theories and contribute to knowledge and advancements in various fields."
   ]
  },
  {
   "cell_type": "markdown",
   "metadata": {},
   "source": [
    "**Q4. Create a hypothesis that states whether the average weight of male college students is greater than the average weight of female college students.**\n",
    "\n",
    "To create a hypothesis regarding whether the average weight of male college students is greater than that of female college students, follow these steps:\n",
    "\n",
    "- Null Hypothesis (H0): This is the default assumption that there is no difference between the two groups.\n",
    "- H0: The average weight of male college students is equal to the average weight of female college students.\n",
    "- Alternative Hypothesis (H1 or Ha): This is the statement that reflects the research question or claim.\n",
    "- H1: The average weight of male college students is greater than the average weight of female college students."
   ]
  },
  {
   "cell_type": "markdown",
   "metadata": {},
   "source": [
    "Q5. Write a Python script to conduct a hypothesis test on the difference between two population means, given a sample from each population."
   ]
  },
  {
   "cell_type": "code",
   "execution_count": 2,
   "metadata": {},
   "outputs": [
    {
     "name": "stdout",
     "output_type": "stream",
     "text": [
      "Mean of Sample 1: 62.29\n",
      "Mean of Sample 2: 55.29\n",
      "T-Statistic: 2.92\n",
      "P-Value: 0.0142\n",
      "Reject Null Hypothesis: True\n"
     ]
    }
   ],
   "source": [
    "import numpy as np\n",
    "import scipy.stats as stats\n",
    "\n",
    "def two_sample_t_test(sample1, sample2, alpha=0.05):\n",
    "    \n",
    "    mean1 = np.mean(sample1)\n",
    "    mean2 = np.mean(sample2)\n",
    "    std_dev1 = np.std(sample1, ddof=1)\n",
    "    std_dev2 = np.std(sample2, ddof=1)\n",
    "    n1 = len(sample1)\n",
    "    n2 = len(sample2)\n",
    "    \n",
    "    t_statistic, p_value = stats.ttest_ind(sample1, sample2, equal_var=False)\n",
    "    \n",
    "    reject_null = p_value < alpha\n",
    "  \n",
    "    return {\n",
    "        'mean1': mean1,\n",
    "        'mean2': mean2,\n",
    "        't-statistic': t_statistic,\n",
    "        'p-value': p_value,\n",
    "        'reject_null': reject_null,\n",
    "        'alpha': alpha\n",
    "    }\n",
    "\n",
    "sample1 = [55, 58, 60, 62, 64, 67, 70]  # Sample data from population 1\n",
    "sample2 = [50, 52, 54, 55, 57, 59, 60]  # Sample data from population 2\n",
    "\n",
    "results = two_sample_t_test(sample1, sample2)\n",
    "\n",
    "print(f\"Mean of Sample 1: {results['mean1']:.2f}\")\n",
    "print(f\"Mean of Sample 2: {results['mean2']:.2f}\")\n",
    "print(f\"T-Statistic: {results['t-statistic']:.2f}\")\n",
    "print(f\"P-Value: {results['p-value']:.4f}\")\n",
    "print(f\"Reject Null Hypothesis: {results['reject_null']}\")\n"
   ]
  },
  {
   "cell_type": "markdown",
   "metadata": {},
   "source": [
    "**Q6: What is a null and alternative hypothesis? Give some examples.**\n",
    "\n",
    "In hypothesis testing, the null and alternative hypotheses are two competing statements about a population parameter that are tested using sample data.\n",
    "\n",
    "Null Hypothesis (H0)\n",
    "- Definition: The null hypothesis is the default or initial assumption that there is no effect, no difference, or no relationship between variables. It represents the status quo or a baseline condition.\n",
    "- Purpose: It is what you test against to determine if there is enough evidence to reject it in favor of the alternative hypothesis.\n",
    "\n",
    "Alternative Hypothesis (H1 or Ha)\n",
    "- Definition: The alternative hypothesis is the statement that represents a new effect, difference, or relationship that you are testing for. It is what you want to provide evidence for.\n",
    "- Purpose: It is what you conclude if the data provides sufficient evidence to reject the null hypothesis.\n",
    "\n",
    "Example : Testing for a Difference in Means\n",
    "\n",
    "Research Question: Is the average test score of students who study with a new method higher than those who study with the traditional method?\n",
    "\n",
    "Null Hypothesis (H0): The average test score of students using the new method is equal to the average test score of students using the traditional method.\n",
    "\n",
    "Alternative Hypothesis (H1): The average test score of students using the new method is higher than the average test score of students using the traditional method."
   ]
  },
  {
   "cell_type": "markdown",
   "metadata": {},
   "source": [
    "Q7: Write down the steps involved in hypothesis testing.\n",
    "\n",
    "1. State the Hypotheses:\n",
    "Formulate the null hypothesis (H0) and the alternative hypothesis (H1 or Ha).\n",
    "2. Choose the Significance Level:\n",
    "Select the significance level (alpha), commonly set at 0.05 or 5%, which represents the probability of rejecting the null hypothesis when it is true.\n",
    "3. Select the Test Type:\n",
    "Choose the appropriate statistical test based on the data type and hypotheses (e.g., t-test, chi-square test, ANOVA).\n",
    "4. Collect Data:\n",
    "Gather sample data that will be used for the test.\n",
    "5. Calculate the Test Statistic:\n",
    "Compute the test statistic using the sample data. This could be a t-value, z-value, chi-square value, etc., depending on the test.\n",
    "6. Determine the p-Value:\n",
    "Calculate the p-value, which is the probability of observing the test statistic or something more extreme, assuming the null hypothesis is true.\n",
    "7. Compare p-Value to Significance Level:\n",
    "Compare the p-value to the significance level (alpha). If the p-value is less than or equal to alpha, reject the null hypothesis. Otherwise, do not reject the null hypothesis.\n",
    "8. Draw Conclusions:\n",
    "Interpret the results in the context of the research question. State whether there is enough evidence to support the alternative hypothesis or not."
   ]
  },
  {
   "cell_type": "markdown",
   "metadata": {},
   "source": [
    "**Q8. Define p-value and explain its significance in hypothesis testing.**\n",
    "\n",
    "The p-value represents the probability of observing a test statistic at least as extreme as the one obtained from the sample, assuming that the null hypothesis is true.\n",
    "\n",
    "Significance in Hypothesis Testing:\n",
    "\n",
    "- Decision Making:\n",
    "The p-value helps determine whether to reject the null hypothesis. If the p-value is less than or equal to the chosen significance level (alpha, commonly 0.05), the null hypothesis is rejected in favor of the alternative hypothesis.\n",
    "\n",
    "- Indicates Strength of Evidence:\n",
    "A small p-value (e.g., less than 0.05) suggests that the observed data is unlikely under the null hypothesis, providing strong evidence to reject the null hypothesis.\n",
    "A large p-value indicates that the observed data is consistent with the null hypothesis, suggesting insufficient evidence to reject it.\n",
    "\n",
    "- Quantifies Uncertainty:\n",
    "The p-value quantifies the uncertainty of the test results. It provides a way to assess how well the sample data supports the null hypothesis compared to the alternative hypothesis.\n",
    "\n",
    "- Contextual Interpretation:\n",
    "While a small p-value indicates statistical significance, it does not measure the magnitude or practical significance of an effect. Thus, it should be interpreted in the context of the study and other relevant factors."
   ]
  },
  {
   "cell_type": "markdown",
   "metadata": {},
   "source": [
    "**Q9. Generate a Student's t-distribution plot using Python's matplotlib library, with the degrees of freedom parameter set to 10.**"
   ]
  },
  {
   "cell_type": "code",
   "execution_count": 3,
   "metadata": {},
   "outputs": [
    {
     "data": {
      "image/png": "[encoded data removed]",
      "text/plain": [
       "<Figure size 1000x600 with 1 Axes>"
      ]
     },
     "metadata": {},
     "output_type": "display_data"
    }
   ],
   "source": [
    "import numpy as np\n",
    "import matplotlib.pyplot as plt\n",
    "from scipy.stats import t\n",
    "\n",
    "# Set the degrees of freedom\n",
    "df = 10\n",
    "\n",
    "# Generate a range of values\n",
    "x = np.linspace(-5, 5, 1000)\n",
    "\n",
    "# Compute the probability density function (PDF) for the t-distribution\n",
    "pdf = t.pdf(x, df)\n",
    "\n",
    "plt.figure(figsize=(10, 6))\n",
    "plt.plot(x, pdf, label=f\"t-distribution (df={df})\", color='blue')\n",
    "plt.fill_between(x, pdf, alpha=0.2, color='blue')\n",
    "plt.title(\"Student's t-Distribution with 10 Degrees of Freedom\")\n",
    "plt.xlabel(\"x\")\n",
    "plt.ylabel(\"Probability Density\")\n",
    "plt.legend()\n",
    "plt.grid(True)\n",
    "plt.show()\n"
   ]
  },
  {
   "cell_type": "markdown",
   "metadata": {},
   "source": [
    "**Q10. Write a Python program to calculate the two-sample t-test for independent samples, given two random samples of equal size and a null hypothesis that the population means are equal.**"
   ]
  },
  {
   "cell_type": "code",
   "execution_count": 4,
   "metadata": {},
   "outputs": [
    {
     "name": "stdout",
     "output_type": "stream",
     "text": [
      "T-Statistic: 1.30\n",
      "P-Value: 0.2181\n",
      "Reject Null Hypothesis: False\n"
     ]
    }
   ],
   "source": [
    "import numpy as np\n",
    "import scipy.stats as stats\n",
    "\n",
    "def two_sample_t_test(sample1, sample2, alpha=0.05):\n",
    "\n",
    "    sample1 = np.array(sample1)\n",
    "    sample2 = np.array(sample2)\n",
    "    \n",
    "    t_statistic, p_value = stats.ttest_ind(sample1, sample2, equal_var=True)\n",
    "    \n",
    "    reject_null = p_value < alpha\n",
    "    \n",
    "    return {\n",
    "        't-statistic': t_statistic,\n",
    "        'p-value': p_value,\n",
    "        'reject_null': reject_null,\n",
    "        'alpha': alpha\n",
    "    }\n",
    "\n",
    "sample1 = [22, 25, 28, 30, 27, 29, 24]\n",
    "sample2 = [20, 23, 26, 28, 25, 27, 22]\n",
    "\n",
    "results = two_sample_t_test(sample1, sample2)\n",
    "\n",
    "print(f\"T-Statistic: {results['t-statistic']:.2f}\")\n",
    "print(f\"P-Value: {results['p-value']:.4f}\")\n",
    "print(f\"Reject Null Hypothesis: {results['reject_null']}\")\n"
   ]
  },
  {
   "cell_type": "markdown",
   "metadata": {},
   "source": [
    "**Q11: What is Student’s t distribution? When to use the t-Distribution.**\n",
    "\n",
    "Student's t-distribution is a probability distribution used in statistics that describes how sample means are distributed when the sample size is small and the population standard deviation is unknown. It is similar to the standard normal distribution but has heavier tails, which account for the increased uncertainty with smaller samples.\n",
    "\n",
    "When to Use the t-Distribution:\n",
    "\n",
    "- Small Sample Sizes:\n",
    "Use the t-distribution when working with small sample sizes (typically less than 30) because it better accounts for the variability in the sample mean.\n",
    "\n",
    "- Unknown Population Standard Deviation:\n",
    "When the population standard deviation is unknown and needs to be estimated from the sample data. The t-distribution adjusts for the added uncertainty by having thicker tails compared to the normal distribution.\n",
    "\n",
    "- Hypothesis Testing for Means:\n",
    "Use the t-distribution in hypothesis tests involving sample means, such as t-tests for comparing means, when the sample size is small and the population standard deviation is not known.\n",
    "\n",
    "- Confidence Intervals:\n",
    "Apply the t-distribution to construct confidence intervals for the mean when dealing with small samples and an unknown population standard deviation."
   ]
  },
  {
   "cell_type": "markdown",
   "metadata": {},
   "source": [
    "**Q12: What is t-statistic? State the formula for t-statistic.**\n",
    "\n",
    "The t-statistic is a standardized value used in hypothesis testing to determine if there is a significant difference between sample means or between a sample mean and a known value. It is especially useful when dealing with small sample sizes and unknown population standard deviations.\n",
    "\n",
    "- One-Sample t-Test:\n",
    "\n",
    "t = (Sample Mean - Population Mean) / (Sample Standard Deviation / sqrt(Sample Size))\n",
    "\n",
    "- Two-Sample t-Test:\n",
    "\n",
    "t = (Mean of First Sample - Mean of Second Sample) / sqrt((Variance of First Sample / Size of First Sample) + (Variance of Second Sample / Size of Second Sample))\n",
    "\n",
    "- Paired t-Test:\n",
    "\n",
    "t = (Mean of Differences) / (Standard Deviation of Differences / sqrt(Number of Pairs))"
   ]
  },
  {
   "cell_type": "markdown",
   "metadata": {},
   "source": [
    "**Q13. A coffee shop owner wants to estimate the average daily revenue for their shop. They take a random sample of 50 days and find the sample mean revenue to be $500 with a standard deviation of $50. Estimate the population mean revenue with a 95% confidence interval.**"
   ]
  },
  {
   "cell_type": "code",
   "execution_count": 5,
   "metadata": {},
   "outputs": [
    {
     "name": "stdout",
     "output_type": "stream",
     "text": [
      "95% Confidence Interval: (np.float64(486.1409617565032), np.float64(513.8590382434968))\n"
     ]
    }
   ],
   "source": [
    "import numpy as np\n",
    "import scipy.stats as stats\n",
    "\n",
    "sample_mean = 500\n",
    "sample_std_dev = 50\n",
    "sample_size = 50\n",
    "\n",
    "standard_error = sample_std_dev / np.sqrt(sample_size)\n",
    "z_value = stats.norm.ppf(0.975)\n",
    "margin_of_error = z_value * standard_error\n",
    "confidence_interval = (sample_mean - margin_of_error, sample_mean + margin_of_error)\n",
    "\n",
    "print(f\"95% Confidence Interval: {confidence_interval}\")\n"
   ]
  },
  {
   "cell_type": "markdown",
   "metadata": {},
   "source": [
    "**Q14. A researcher hypothesizes that a new drug will decrease blood pressure by 10 mmHg. They conduct a clinical trial with 100 patients and find that the sample mean decrease in blood pressure is 8 mmHg with a standard deviation of 3 mmHg. Test the hypothesis with a significance level of 0.05.**"
   ]
  },
  {
   "cell_type": "code",
   "execution_count": 6,
   "metadata": {},
   "outputs": [
    {
     "name": "stdout",
     "output_type": "stream",
     "text": [
      "t-Statistic: -6.67\n",
      "Critical t-Value: 1.98\n",
      "Reject Null Hypothesis: True\n"
     ]
    }
   ],
   "source": [
    "import scipy.stats as stats\n",
    "\n",
    "sample_mean = 8\n",
    "population_mean = 10\n",
    "sample_std_dev = 3\n",
    "sample_size = 100\n",
    "alpha = 0.05\n",
    "\n",
    "standard_error = sample_std_dev / (sample_size ** 0.5)\n",
    "t_statistic = (sample_mean - population_mean) / standard_error\n",
    "critical_value = stats.t.ppf(1 - alpha / 2, df=sample_size - 1)\n",
    "\n",
    "print(f\"t-Statistic: {t_statistic:.2f}\")\n",
    "print(f\"Critical t-Value: {critical_value:.2f}\")\n",
    "\n",
    "reject_null = abs(t_statistic) > critical_value\n",
    "print(f\"Reject Null Hypothesis: {reject_null}\")\n"
   ]
  },
  {
   "cell_type": "markdown",
   "metadata": {},
   "source": [
    "**Q15. An electronics company produces a certain type of product with a mean weight of 5 pounds and a standard deviation of 0.5 pounds. A random sample of 25 products is taken, and the sample mean weight is found to be 4.8 pounds. Test the hypothesis that the true mean weight of the products is less than 5 pounds with a significance level of 0.01.**"
   ]
  },
  {
   "cell_type": "code",
   "execution_count": 7,
   "metadata": {},
   "outputs": [
    {
     "data": {
      "text/plain": [
       "(-2.0000000000000018, np.float64(0.0227501319481791), np.False_)"
      ]
     },
     "execution_count": 7,
     "metadata": {},
     "output_type": "execute_result"
    }
   ],
   "source": [
    "import scipy.stats as stats\n",
    "\n",
    "mean_population = 5\n",
    "std_deviation = 0.5\n",
    "sample_size = 25\n",
    "sample_mean = 4.8\n",
    "alpha = 0.01\n",
    "\n",
    "test_statistic = (sample_mean - mean_population) / (std_deviation / (sample_size ** 0.5))\n",
    "\n",
    "p_value = stats.norm.cdf(test_statistic)\n",
    "\n",
    "reject_null = p_value < alpha\n",
    "\n",
    "test_statistic, p_value, reject_null\n"
   ]
  },
  {
   "cell_type": "markdown",
   "metadata": {},
   "source": [
    "**Q16. Two groups of students are given different study materials to prepare for a test. The first group (n1 = 30) has a mean score of 80 with a standard deviation of 10, and the second group (n2 = 40) has a mean score of 75 with a standard deviation of 8. Test the hypothesis that the population means for the two groups are equal with a significance level of 0.01.**"
   ]
  },
  {
   "cell_type": "code",
   "execution_count": 8,
   "metadata": {},
   "outputs": [
    {
     "data": {
      "text/plain": [
       "(2.323967729699292, np.float64(0.023123013413725985), np.False_)"
      ]
     },
     "execution_count": 8,
     "metadata": {},
     "output_type": "execute_result"
    }
   ],
   "source": [
    "import scipy.stats as stats\n",
    "\n",
    "n1, mean1, std1 = 30, 80, 10\n",
    "n2, mean2, std2 = 40, 75, 8\n",
    "alpha = 0.01\n",
    "\n",
    "pooled_variance = (((n1 - 1) * std1**2 + (n2 - 1) * std2**2) / (n1 + n2 - 2))\n",
    "standard_error = (pooled_variance * (1 / n1 + 1 / n2)) ** 0.5\n",
    "test_statistic = (mean1 - mean2) / standard_error\n",
    "\n",
    "df = n1 + n2 - 2\n",
    "\n",
    "p_value = 2 * stats.t.cdf(-abs(test_statistic), df)\n",
    "\n",
    "reject_null = p_value < alpha\n",
    "\n",
    "test_statistic, p_value, reject_null\n"
   ]
  },
  {
   "cell_type": "markdown",
   "metadata": {},
   "source": [
    "**Q17. A marketing company wants to estimate the average number of ads watched by viewers during a TV program. They take a random sample of 50 viewers and find that the sample mean is 4 with a standard deviation of 1.5. Estimate the population mean with a 99% confidence interval.**"
   ]
  },
  {
   "cell_type": "code",
   "execution_count": 9,
   "metadata": {},
   "outputs": [
    {
     "data": {
      "text/plain": [
       "(np.float64(3.4535840896844654), np.float64(4.546415910315535))"
      ]
     },
     "execution_count": 9,
     "metadata": {},
     "output_type": "execute_result"
    }
   ],
   "source": [
    "import scipy.stats as stats\n",
    "\n",
    "sample_size = 50\n",
    "sample_mean = 4\n",
    "std_deviation = 1.5\n",
    "confidence_level = 0.99\n",
    "\n",
    "standard_error = std_deviation / (sample_size ** 0.5)\n",
    "z_score = stats.norm.ppf(1 - (1 - confidence_level) / 2)\n",
    "margin_of_error = z_score * standard_error\n",
    "lower_bound = sample_mean - margin_of_error\n",
    "upper_bound = sample_mean + margin_of_error\n",
    "\n",
    "(lower_bound, upper_bound)\n"
   ]
  },
  {
   "cell_type": "code",
   "execution_count": null,
   "metadata": {},
   "outputs": [],
   "source": []
  }
 ],
 "metadata": {
  "kernelspec": {
   "display_name": "base",
   "language": "python",
   "name": "python3"
  },
  "language_info": {
   "codemirror_mode": {
    "name": "ipython",
    "version": 3
   },
   "file_extension": ".py",
   "mimetype": "text/x-python",
   "name": "python",
   "nbconvert_exporter": "python",
   "pygments_lexer": "ipython3",
   "version": "3.10.13"
  }
 },
 "nbformat": 4,
 "nbformat_minor": 2
}
