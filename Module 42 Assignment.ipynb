{
 "cells": [
  {
   "cell_type": "markdown",
   "metadata": {},
   "source": [
    "# Statistics basics 1"
   ]
  },
  {
   "cell_type": "markdown",
   "metadata": {},
   "source": [
    "**Q1. What is Statistics?**\n",
    "\n",
    "Statistics is the science of collecting, organizing, analyzing, interpreting, and presenting data. It involves summarizing data, making inferences about populations based on samples, and drawing conclusions.\n",
    "\n",
    "**Q2. Define the different types of statistics and give an example of when each type might be used.**\n",
    "\n",
    "There are two main types of statistics:\n",
    "- Descriptive Statistics: This involves summarizing and describing the characteristics of a dataset. It helps to understand the data at hand.\n",
    "\n",
    "Example: Calculating the average age of students in a class.\n",
    "- Inferential Statistics: This involves making inferences about a population based on a sample of data. It helps to draw conclusions beyond the observed data.\n",
    "\n",
    "Example: Predicting the outcome of an election based on a sample of voter opinions.\n",
    "\n",
    "**Q3. What are the different types of data and how do they differ from each other? Provide an example of each type of data.**\n",
    "\n",
    "There are two primary types of data:\n",
    "- Quantitative Data: Numerical data that can be measured or counted.\n",
    "- Discrete Data: Can only take specific values (e.g., number of students in a class).\n",
    "- Continuous Data: Can take any value within a range (e.g., height, weight).\n",
    "- Qualitative Data: Descriptive data that cannot be easily measured or counted.\n",
    "- Nominal Data: Categorical data without any order (e.g., gender, color).\n",
    "- Ordinal Data: Categorical data with a specific order (e.g., education level, satisfaction rating).\n",
    "\n",
    "**Q4. Categorise the following datasets with respect to quantitative and qualitative data types:**\n",
    "\n",
    "(i) Grading in exam: A+, A, B+, B, C+, C, D, E  Qualitative (Ordinal)\n",
    "(ii) Colour of mangoes: yellow, green, orange, red  Qualitative (Nominal)\n",
    "(iii) Height data of a class: [178.9, 179, 179.5, 176, 177.2, 178.3, 175.8,...]  Quantitative (Continuous)\n",
    "(iv) Number of mangoes exported by a farm: [500, 600, 478, 672, ...]  Quantitative (Discrete)   \n",
    "\n",
    "**Q5. Explain the concept of levels of measurement and give an example of a variable for each level.**\n",
    "\n",
    "Levels of measurement describe the relationship between different values of a variable. There are four main levels:\n",
    "- Nominal: Categorical data without any order (e.g., gender, marital status).\n",
    "- Ordinal: Categorical data with a specific order (e.g., education level, satisfaction rating).\n",
    "- Interval: Numerical data with equal intervals between values but no true zero point (e.g., temperature in Celsius).\n",
    "- Ratio: Numerical data with equal intervals and a true zero point (e.g., height, weight).\n",
    "\n",
    "**Q6. Why is it important to understand the level of measurement when analyzing data? Provide an example to illustrate your answer.**\n",
    "\n",
    "Understanding the level of measurement is crucial because it determines the appropriate statistical analysis techniques. For example, we cannot calculate the mean of nominal data, but we can for interval or ratio data. If we mistakenly treat ordinal data as interval data, the analysis might be misleading.   \n",
    "\n",
    "**Q7. How nominal data type is different from ordinal data type.**\n",
    "\n",
    "Nominal data are categories without any inherent order, while ordinal data have a specific order. For example, colors (red, blue, green) are nominal, while rankings (first, second, third) are ordinal.\n",
    "\n",
    "**Q8. Which type of plot can be used to display data in terms of range?**\n",
    "\n",
    "A box plot is commonly used to display data in terms of range, as it shows the minimum, first quartile, median, third quartile, and maximum values.\n",
    "\n",
    "**Q9. Describe the difference between descriptive and inferential statistics. Give an example of each type of statistics and explain how they are used.**\n",
    "\n",
    "- Descriptive statistics summarize and describe the characteristics of a dataset. For example, calculating the mean and standard deviation of exam scores in a class.\n",
    "- Inferential statistics make inferences about a population based on a sample. For example, conducting a hypothesis test to determine if there is a significant difference in exam scores between two groups of students.\n",
    "\n",
    "**Q10. What are some common measures of central tendency and variability used in statistics? Explain how each measure can be used to describe a dataset.**\n",
    "\n",
    "Measures of Central Tendency:\n",
    "\n",
    "- Mean: The average of a dataset.\n",
    "- Median: The middle value when data is sorted.\n",
    "- Mode: The most frequent value in a dataset.\n",
    "These measures help to identify the typical or central value of the data.\n",
    "\n",
    "Measures of Variability:\n",
    "\n",
    "- Range: The difference between the largest and smallest values.\n",
    "- Variance: The average squared deviation from the mean.\n",
    "- Standard Deviation: The square root of the variance, measuring the spread of data points."
   ]
  },
  {
   "cell_type": "markdown",
   "metadata": {},
   "source": []
  }
 ],
 "metadata": {
  "language_info": {
   "name": "python"
  }
 },
 "nbformat": 4,
 "nbformat_minor": 2
}
