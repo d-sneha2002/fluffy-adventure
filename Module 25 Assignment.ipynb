{
 "cells": [
  {
   "cell_type": "markdown",
   "metadata": {},
   "source": [
    "# MySql"
   ]
  },
  {
   "cell_type": "markdown",
   "metadata": {},
   "source": [
    "**Q1. What is a database? Differentiate between SQL and NoSQL databases.**"
   ]
  },
  {
   "cell_type": "markdown",
   "metadata": {},
   "source": [
    "Database: A database is an organized collection of structured information or data that can be accessed, managed, and updated. It’s a structured way to store, organize, and retrieve data."
   ]
  },
  {
   "cell_type": "code",
   "execution_count": 4,
   "metadata": {},
   "outputs": [
    {
     "name": "stdout",
     "output_type": "stream",
     "text": [
      "\u001b[1mSQL vs NoSQL Databases:\u001b[0m\n",
      "Feature     | SQL Databases                                               | NoSQL Databases                         \n",
      "--------------------------------------------------------------------------------------------------------------------\n",
      "Structure   | Structured, tabular format                                  | Flexible, schema-less                   \n",
      "Data Types  | Primarily relational                                        | Key-value, document, graph, wide-column \n",
      "Scalability | Vertical scaling (adding more resources to a single server) | Horizontal scaling (adding more servers)\n",
      "Examples    | MySQL, PostgreSQL, Oracle                                   | MongoDB, Cassandra, Redis               \n"
     ]
    }
   ],
   "source": [
    "def print_table(data):\n",
    "    \"\"\"Prints a formatted table from the given data.\n",
    "    Args:\n",
    "        data (list): A list of lists, where each inner list represents a row of data.\n",
    "    \"\"\"\n",
    "    # Find the maximum length of each column\n",
    "    col_widths = [max(len(str(item)) for item in col) for col in zip(*data)]\n",
    "    # Print the header row\n",
    "    header = \" | \".join(f\"{item:<{width}}\" for item, width in zip(data[0], col_widths))\n",
    "    print(header)\n",
    "    # Print the separator row\n",
    "    separator = \"-\" * len(header)\n",
    "    print(separator)\n",
    "    # Print the table body\n",
    "    for row in data[1:]:\n",
    "        print(\" | \".join(f\"{item:<{width}}\" for item, width in zip(row, col_widths)))\n",
    "\n",
    "# Sample data\n",
    "data = [\n",
    "    [\"Feature\", \"SQL Databases\", \"NoSQL Databases\"],\n",
    "    [\"Structure\", \"Structured, tabular format\", \"Flexible, schema-less\"],\n",
    "    [\"Data Types\", \"Primarily relational\", \"Key-value, document, graph, wide-column\"],\n",
    "    [\"Scalability\", \"Vertical scaling (adding more resources to a single server)\", \"Horizontal scaling (adding more servers)\"],\n",
    "    [\"Examples\", \"MySQL, PostgreSQL, Oracle\", \"MongoDB, Cassandra, Redis\"]\n",
    "]\n",
    "\n",
    "# Print the table\n",
    "print(\"\\033[1m\" + \"SQL vs NoSQL Databases:\" + \"\\033[0m\")\n",
    "print_table(data)\n"
   ]
  },
  {
   "cell_type": "markdown",
   "metadata": {},
   "source": [
    "**Q2. What is DDL? Explain why CREATE, DROP, ALTER, and TRUNCATE are used with an example.**"
   ]
  },
  {
   "cell_type": "markdown",
   "metadata": {},
   "source": [
    "`CREATE TABLE` Customers (\n",
    "    CustomerID `INT PRIMARY KEY`,\n",
    "    CustomerName `VARCHAR(255)`,\n",
    "    ContactName `VARCHAR(255)`,\n",
    "    Address `VARCHAR(255)`,\n",
    "    City `VARCHAR(255)`\n",
    ");\n",
    "\n",
    "*CREATE: Used to create database objects like tables, indexes, views, etc.*\n",
    "\n",
    "`DROP TABLE` Customers;\n",
    "\n",
    "*DROP: Used to delete database objects.*\n",
    "\n",
    "`ALTER TABLE` Customers `ADD` Email `VARCHAR(255)`;\n",
    "\n",
    "*ALTER: Used to modify the structure of an existing table.*\n",
    "\n",
    "`TRUNCATE TABLE` Customers;\n",
    "\n",
    "*TRUNCATE: Used to remove all data from a table, but the table structure remains.*"
   ]
  },
  {
   "cell_type": "markdown",
   "metadata": {},
   "source": [
    "**Q4. What is DQL? Explain SELECT with an example.**"
   ]
  },
  {
   "cell_type": "markdown",
   "metadata": {},
   "source": [
    "DQL (Data Query Language): A subset of SQL used to retrieve data from a database.\n",
    "\n",
    "SELECT: Used to extract data from one or more tables.\n",
    "\n",
    "`SELECT` CustomerName, ContactName `FROM`Customers;\n"
   ]
  },
  {
   "cell_type": "markdown",
   "metadata": {},
   "source": [
    "**Q5. Explain Primary Key and Foreign Key.**\n",
    "\n",
    "- Primary Key:It is a unique identifier for each record in a table. It cannot contain null values.\n",
    "- Foreign Key: A column in one table that references the primary key of another table. It establishes a link between two tables."
   ]
  },
  {
   "cell_type": "markdown",
   "metadata": {},
   "source": [
    "**Q6. Write a python code to connect MySQL to python. Explain the cursor() and execute() method.**"
   ]
  },
  {
   "cell_type": "code",
   "execution_count": 7,
   "metadata": {},
   "outputs": [
    {
     "ename": "ModuleNotFoundError",
     "evalue": "No module named 'mysql'",
     "output_type": "error",
     "traceback": [
      "\u001b[0;31m---------------------------------------------------------------------------\u001b[0m",
      "\u001b[0;31mModuleNotFoundError\u001b[0m                       Traceback (most recent call last)",
      "Cell \u001b[0;32mIn[7], line 1\u001b[0m\n\u001b[0;32m----> 1\u001b[0m \u001b[38;5;28;01mimport\u001b[39;00m \u001b[38;5;21;01mmysql\u001b[39;00m\u001b[38;5;21;01m.\u001b[39;00m\u001b[38;5;21;01mconnector\u001b[39;00m\n\u001b[1;32m      3\u001b[0m mydb \u001b[38;5;241m=\u001b[39m mysql\u001b[38;5;241m.\u001b[39mconnector\u001b[38;5;241m.\u001b[39mconnect(\n\u001b[1;32m      4\u001b[0m   host\u001b[38;5;241m=\u001b[39m\u001b[38;5;124m\"\u001b[39m\u001b[38;5;124myour_host\u001b[39m\u001b[38;5;124m\"\u001b[39m,\n\u001b[1;32m      5\u001b[0m   user\u001b[38;5;241m=\u001b[39m\u001b[38;5;124m\"\u001b[39m\u001b[38;5;124myour_user\u001b[39m\u001b[38;5;124m\"\u001b[39m,\n\u001b[1;32m      6\u001b[0m   password\u001b[38;5;241m=\u001b[39m\u001b[38;5;124m\"\u001b[39m\u001b[38;5;124myour_password\u001b[39m\u001b[38;5;124m\"\u001b[39m,\n\u001b[1;32m      7\u001b[0m   database\u001b[38;5;241m=\u001b[39m\u001b[38;5;124m\"\u001b[39m\u001b[38;5;124myour_database\u001b[39m\u001b[38;5;124m\"\u001b[39m\n\u001b[1;32m      8\u001b[0m )\n\u001b[1;32m     10\u001b[0m mycursor \u001b[38;5;241m=\u001b[39m mydb\u001b[38;5;241m.\u001b[39mcursor()\n",
      "\u001b[0;31mModuleNotFoundError\u001b[0m: No module named 'mysql'"
     ]
    }
   ],
   "source": [
    "import mysql.connector\n",
    "\n",
    "mydb = mysql.connector.connect(\n",
    "  host=\"your_host\",\n",
    "  user=\"your_user\",\n",
    "  password=\"your_password\",\n",
    "  database=\"your_database\"\n",
    ")\n",
    "\n",
    "mycursor = mydb.cursor()\n",
    "\n",
    "mycursor.execute(\"SELECT * FROM customers\")\n",
    "\n",
    "myresult = mycursor.fetchall()\n",
    "\n",
    "for x in myresult:\n",
    "  print(x)\n",
    "\n",
    "mydb.close()\n"
   ]
  },
  {
   "cell_type": "markdown",
   "metadata": {},
   "source": [
    "**Q7. Give the order of execution of SQL clauses in an SQL query.**\n",
    "\n",
    "The typical order of execution for SQL clauses is:\n",
    "\n",
    "1. FROM: Specifies the table(s) to retrieve data from.\n",
    "2. JOIN: Combines rows from two or more tables based on a related column.\n",
    "3. WHERE: Filters rows based on specified conditions.\n",
    "4. GROUP BY: Groups rows based on one or more columns.\n",
    "5. HAVING: Filters groups based on specified conditions.   \n",
    "6. SELECT: Specifies the columns to be returned.\n",
    "7. ORDER BY: Sorts the result set.\n",
    "8. LIMIT: Limits the number of rows returned."
   ]
  },
  {
   "cell_type": "code",
   "execution_count": null,
   "metadata": {},
   "outputs": [],
   "source": []
  }
 ],
 "metadata": {
  "kernelspec": {
   "display_name": ".venv",
   "language": "python",
   "name": "python3"
  },
  "language_info": {
   "codemirror_mode": {
    "name": "ipython",
    "version": 3
   },
   "file_extension": ".py",
   "mimetype": "text/x-python",
   "name": "python",
   "nbconvert_exporter": "python",
   "pygments_lexer": "ipython3",
   "version": "3.10.13"
  }
 },
 "nbformat": 4,
 "nbformat_minor": 2
}
