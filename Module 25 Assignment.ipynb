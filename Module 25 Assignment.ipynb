{
 "cells": [
  {
   "cell_type": "markdown",
   "metadata": {},
   "source": [
    "# MySql"
   ]
  },
  {
   "cell_type": "markdown",
   "metadata": {},
   "source": [
    "**Q1. What is a database? Differentiate between SQL and NoSQL databases.**"
   ]
  },
  {
   "cell_type": "markdown",
   "metadata": {},
   "source": [
    "Database: A database is an organized collection of structured information or data that can be accessed, managed, and updated. It’s a structured way to store, organize, and retrieve data."
   ]
  },
  {
   "cell_type": "code",
   "execution_count": 1,
   "metadata": {},
   "outputs": [
    {
     "name": "stdout",
     "output_type": "stream",
     "text": [
      "\u001b[1mSQL vs NoSQL Databases:\u001b[0m\n",
      "Feature     | SQL Databases                                               | NoSQL Databases                         \n",
      "--------------------------------------------------------------------------------------------------------------------\n",
      "Structure   | Structured, tabular format                                  | Flexible, schema-less                   \n",
      "Data Types  | Primarily relational                                        | Key-value, document, graph, wide-column \n",
      "Scalability | Vertical scaling (adding more resources to a single server) | Horizontal scaling (adding more servers)\n",
      "Examples    | MySQL, PostgreSQL, Oracle                                   | MongoDB, Cassandra, Redis               \n"
     ]
    }
   ],
   "source": [
    "def print_table(data):\n",
    "    \"\"\"Prints a formatted table from the given data.\n",
    "    Args:\n",
    "        data (list): A list of lists, where each inner list represents a row of data.\n",
    "    \"\"\"\n",
    "    # Find the maximum length of each column\n",
    "    col_widths = [max(len(str(item)) for item in col) for col in zip(*data)]\n",
    "    # Print the header row\n",
    "    header = \" | \".join(f\"{item:<{width}}\" for item, width in zip(data[0], col_widths))\n",
    "    print(header)\n",
    "    # Print the separator row\n",
    "    separator = \"-\" * len(header)\n",
    "    print(separator)\n",
    "    # Print the table body\n",
    "    for row in data[1:]:\n",
    "        print(\" | \".join(f\"{item:<{width}}\" for item, width in zip(row, col_widths)))\n",
    "\n",
    "# Sample data\n",
    "data = [\n",
    "    [\"Feature\", \"SQL Databases\", \"NoSQL Databases\"],\n",
    "    [\"Structure\", \"Structured, tabular format\", \"Flexible, schema-less\"],\n",
    "    [\"Data Types\", \"Primarily relational\", \"Key-value, document, graph, wide-column\"],\n",
    "    [\"Scalability\", \"Vertical scaling (adding more resources to a single server)\", \"Horizontal scaling (adding more servers)\"],\n",
    "    [\"Examples\", \"MySQL, PostgreSQL, Oracle\", \"MongoDB, Cassandra, Redis\"]\n",
    "]\n",
    "\n",
    "# Print the table\n",
    "print(\"\\033[1m\" + \"SQL vs NoSQL Databases:\" + \"\\033[0m\")\n",
    "print_table(data)\n"
   ]
  },
  {
   "cell_type": "markdown",
   "metadata": {},
   "source": [
    "**Q2. What is DDL? Explain why CREATE, DROP, ALTER, and TRUNCATE are used with an example.**"
   ]
  },
  {
   "cell_type": "markdown",
   "metadata": {},
   "source": [
    "`CREATE TABLE` Customers (\n",
    "    CustomerID `INT PRIMARY KEY`,\n",
    "    CustomerName `VARCHAR(255)`,\n",
    "    ContactName `VARCHAR(255)`,\n",
    "    Address `VARCHAR(255)`,\n",
    "    City `VARCHAR(255)`\n",
    ");\n",
    "\n",
    "*CREATE: Used to create database objects like tables, indexes, views, etc.*\n",
    "\n",
    "`DROP TABLE` Customers;\n",
    "\n",
    "*DROP: Used to delete database objects.*\n",
    "\n",
    "`ALTER TABLE` Customers `ADD` Email `VARCHAR(255)`;\n",
    "\n",
    "*ALTER: Used to modify the structure of an existing table.*\n",
    "\n",
    "`TRUNCATE TABLE` Customers;\n",
    "\n",
    "*TRUNCATE: Used to remove all data from a table, but the table structure remains.*"
   ]
  },
  {
   "cell_type": "markdown",
   "metadata": {},
   "source": [
    "**Q4. What is DQL? Explain SELECT with an example.**"
   ]
  },
  {
   "cell_type": "markdown",
   "metadata": {},
   "source": [
    "DQL (Data Query Language): A subset of SQL used to retrieve data from a database.\n",
    "\n",
    "SELECT: Used to extract data from one or more tables.\n",
    "\n",
    "`SELECT` CustomerName, ContactName `FROM`Customers;\n"
   ]
  },
  {
   "cell_type": "markdown",
   "metadata": {},
   "source": [
    "**Q5. Explain Primary Key and Foreign Key.**\n",
    "\n",
    "- Primary Key:It is a unique identifier for each record in a table. It cannot contain null values.\n",
    "- Foreign Key: A column in one table that references the primary key of another table. It establishes a link between two tables."
   ]
  },
  {
   "cell_type": "markdown",
   "metadata": {},
   "source": [
    "**Q6. Write a python code to connect MySQL to python. Explain the cursor() and execute() method.**"
   ]
  },
  {
   "cell_type": "code",
   "execution_count": 2,
   "metadata": {},
   "outputs": [
    {
     "name": "stdout",
     "output_type": "stream",
     "text": [
      "Requirement already satisfied: mysql-connector-python in /workspaces/codespaces-jupyter/.venv/lib/python3.10/site-packages (9.0.0)\n",
      "Note: you may need to restart the kernel to use updated packages.\n"
     ]
    }
   ],
   "source": [
    "pip install mysql-connector-python"
   ]
  },
  {
   "cell_type": "code",
   "execution_count": null,
   "metadata": {},
   "outputs": [],
   "source": [
    "import mysql.connector\n",
    "\n",
    "mydb = mysql.connector.connect(\n",
    "  host=\"localhost\",\n",
    "  user=\"abc\",\n",
    "  password=\"password\"\n",
    ")\n",
    "\n",
    "\n",
    "mycursor = mydb.cursor()\n",
    "mycursor.execute(\"select c1,c5 from test1.test_table\")\n",
    "for i in mycursor.fetchall():\n",
    "    print(i)\n",
    "mydb.close()"
   ]
  },
  {
   "cell_type": "markdown",
   "metadata": {},
   "source": [
    "**Q7. Give the order of execution of SQL clauses in an SQL query.**\n",
    "\n",
    "The typical order of execution for SQL clauses is:\n",
    "\n",
    "1. FROM: Specifies the table(s) to retrieve data from.\n",
    "2. JOIN: Combines rows from two or more tables based on a related column.\n",
    "3. WHERE: Filters rows based on specified conditions.\n",
    "4. GROUP BY: Groups rows based on one or more columns.\n",
    "5. HAVING: Filters groups based on specified conditions.   \n",
    "6. SELECT: Specifies the columns to be returned.\n",
    "7. ORDER BY: Sorts the result set.\n",
    "8. LIMIT: Limits the number of rows returned."
   ]
  },
  {
   "cell_type": "code",
   "execution_count": null,
   "metadata": {},
   "outputs": [],
   "source": []
  }
 ],
 "metadata": {
  "kernelspec": {
   "display_name": ".venv",
   "language": "python",
   "name": "python3"
  },
  "language_info": {
   "codemirror_mode": {
    "name": "ipython",
    "version": 3
   },
   "file_extension": ".py",
   "mimetype": "text/x-python",
   "name": "python",
   "nbconvert_exporter": "python",
   "pygments_lexer": "ipython3",
   "version": "3.10.13"
  }
 },
 "nbformat": 4,
 "nbformat_minor": 2
}
