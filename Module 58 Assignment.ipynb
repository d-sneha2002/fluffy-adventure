{
 "cells": [
  {
   "cell_type": "markdown",
   "metadata": {},
   "source": [
    "# Feature Engineering 6"
   ]
  },
  {
   "cell_type": "markdown",
   "metadata": {},
   "source": [
    "**Q1. Pearson correlation coefficient is a measure of the linear relationship between two variables. Suppose you have collected data on the amount of time students spend studying for an exam and their final exam scores. Calculate the Pearson correlation coefficient between these two variables and interpret the result.**\n",
    "\n",
    "following code is run with necessary asumtions."
   ]
  },
  {
   "cell_type": "code",
   "execution_count": 1,
   "metadata": {},
   "outputs": [
    {
     "name": "stdout",
     "output_type": "stream",
     "text": [
      "Pearson Correlation Coefficient: 0.9705574414049347\n"
     ]
    }
   ],
   "source": [
    "import numpy as np\n",
    "\n",
    "study_time = np.array([2, 3, 5, 7, 8])\n",
    "exam_score = np.array([50, 60, 80, 85, 90])\n",
    "\n",
    "correlation_coefficient = np.corrcoef(study_time, exam_score)[0, 1]\n",
    "\n",
    "print(\"Pearson Correlation Coefficient:\", correlation_coefficient)\n"
   ]
  },
  {
   "cell_type": "markdown",
   "metadata": {},
   "source": [
    "**Q2. Spearman's rank correlation is a measure of the monotonic relationship between two variables.**\n",
    "Suppose you have collected data on the amount of sleep individuals get each night and their overall job\n",
    "satisfaction level on a scale of 1 to 10. Calculate the Spearman's rank correlation between these two\n",
    "variables and interpret the result."
   ]
  },
  {
   "cell_type": "code",
   "execution_count": 1,
   "metadata": {},
   "outputs": [
    {
     "name": "stdout",
     "output_type": "stream",
     "text": [
      "Spearman's Rank Correlation Coefficient: 0.9999999999999999\n",
      "P-value: 1.4042654220543672e-24\n"
     ]
    }
   ],
   "source": [
    "import numpy as np\n",
    "from scipy.stats import spearmanr\n",
    "\n",
    "amount_of_sleep = np.array([6, 5, 8, 7, 4])\n",
    "job_satisfaction = np.array([7, 6, 9, 8, 5])\n",
    "\n",
    "rho, p_value = spearmanr(amount_of_sleep, job_satisfaction)\n",
    "\n",
    "print(f\"Spearman's Rank Correlation Coefficient: {rho}\")\n",
    "print(f\"P-value: {p_value}\")\n"
   ]
  },
  {
   "cell_type": "markdown",
   "metadata": {},
   "source": [
    "**Q3. Suppose you are conducting a study to examine the relationship between the number of hours of exercise per week and body mass index (BMI) in a sample of adults. You collected data on both variables for 50 participants. Calculate the Pearson correlation coefficient and the Spearman's rank correlation between these two variables and compare the results.**"
   ]
  },
  {
   "cell_type": "code",
   "execution_count": 2,
   "metadata": {},
   "outputs": [
    {
     "name": "stdout",
     "output_type": "stream",
     "text": [
      "Pearson Correlation Coefficient: -0.8301\n",
      "Pearson P-value: 0.0000\n",
      "Spearman's Rank Correlation Coefficient: -0.8429\n",
      "Spearman P-value: 0.0000\n"
     ]
    }
   ],
   "source": [
    "import numpy as np\n",
    "from scipy.stats import pearsonr, spearmanr\n",
    "\n",
    "np.random.seed(42)\n",
    "\n",
    "hours_of_exercise = np.random.uniform(1, 10, 50)\n",
    "bmi = 22 - 0.5 * hours_of_exercise + np.random.normal(0, 1, 50)\n",
    "\n",
    "pearson_corr, pearson_p_value = pearsonr(hours_of_exercise, bmi)\n",
    "spearman_corr, spearman_p_value = spearmanr(hours_of_exercise, bmi)\n",
    "\n",
    "print(f\"Pearson Correlation Coefficient: {pearson_corr:.4f}\")\n",
    "print(f\"Pearson P-value: {pearson_p_value:.4f}\")\n",
    "\n",
    "print(f\"Spearman's Rank Correlation Coefficient: {spearman_corr:.4f}\")\n",
    "print(f\"Spearman P-value: {spearman_p_value:.4f}\")\n"
   ]
  },
  {
   "cell_type": "markdown",
   "metadata": {},
   "source": [
    "**Q4. A researcher is interested in examining the relationship between the number of hours individuals spend watching television per day and their level of physical activity. The researcher collected data on both variables from a sample of 50 participants. Calculate the Pearson correlation coefficient between these two variables.**"
   ]
  },
  {
   "cell_type": "code",
   "execution_count": 3,
   "metadata": {},
   "outputs": [
    {
     "name": "stdout",
     "output_type": "stream",
     "text": [
      "Pearson Correlation Coefficient: -0.9456\n",
      "Pearson P-value: 0.0000\n"
     ]
    }
   ],
   "source": [
    "import numpy as np\n",
    "from scipy.stats import pearsonr\n",
    "\n",
    "np.random.seed(42)\n",
    "tv_hours = np.random.uniform(0, 6, 50)\n",
    "physical_activity = 10 - 1.5 * tv_hours + np.random.normal(0, 1, 50)\n",
    "\n",
    "pearson_corr, pearson_p_value = pearsonr(tv_hours, physical_activity)\n",
    "\n",
    "print(f\"Pearson Correlation Coefficient: {pearson_corr:.4f}\")\n",
    "print(f\"Pearson P-value: {pearson_p_value:.4f}\")\n"
   ]
  },
  {
   "cell_type": "markdown",
   "metadata": {},
   "source": [
    "**Q5. A survey was conducted to examine the relationship between age and preference for a particular\n",
    "brand of soft drink. The survey results are shown below:**"
   ]
  },
  {
   "cell_type": "markdown",
   "metadata": {},
   "source": [
    "![alt text](<Screenshot 2024-08-04 003335.png>)"
   ]
  },
  {
   "cell_type": "markdown",
   "metadata": {},
   "source": [
    "people with age less than 30 prefer coke, rest is not clear due to insufficient data."
   ]
  },
  {
   "cell_type": "markdown",
   "metadata": {},
   "source": [
    "**Q6. A company is interested in examining the relationship between the number of sales calls made per day\n",
    "and the number of sales made per week. The company collected data on both variables from a sample of\n",
    "30 sales representatives. Calculate the Pearson correlation coefficient between these two variables.**"
   ]
  },
  {
   "cell_type": "code",
   "execution_count": 4,
   "metadata": {},
   "outputs": [
    {
     "name": "stdout",
     "output_type": "stream",
     "text": [
      "Pearson Correlation Coefficient: 0.7250\n",
      "Pearson P-value: 0.0000\n"
     ]
    }
   ],
   "source": [
    "import numpy as np\n",
    "from scipy.stats import pearsonr\n",
    "\n",
    "np.random.seed(42)\n",
    "\n",
    "sales_calls_per_day = np.random.uniform(5, 50, 30)\n",
    "\n",
    "sales_per_week = 0.5 * sales_calls_per_day + np.random.normal(0, 5, 30)\n",
    "\n",
    "pearson_corr, pearson_p_value = pearsonr(sales_calls_per_day, sales_per_week)\n",
    "\n",
    "print(f\"Pearson Correlation Coefficient: {pearson_corr:.4f}\")\n",
    "print(f\"Pearson P-value: {pearson_p_value:.4f}\")\n"
   ]
  },
  {
   "cell_type": "code",
   "execution_count": null,
   "metadata": {},
   "outputs": [],
   "source": []
  }
 ],
 "metadata": {
  "kernelspec": {
   "display_name": "base",
   "language": "python",
   "name": "python3"
  },
  "language_info": {
   "codemirror_mode": {
    "name": "ipython",
    "version": 3
   },
   "file_extension": ".py",
   "mimetype": "text/x-python",
   "name": "python",
   "nbconvert_exporter": "python",
   "pygments_lexer": "ipython3",
   "version": "3.10.13"
  }
 },
 "nbformat": 4,
 "nbformat_minor": 2
}
