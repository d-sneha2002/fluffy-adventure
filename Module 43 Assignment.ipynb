{
 "cells": [
  {
   "cell_type": "markdown",
   "metadata": {},
   "source": [
    "# Statistics basics 2"
   ]
  },
  {
   "cell_type": "markdown",
   "metadata": {},
   "source": [
    "**Q1. What are the three measures of central tendency?**\n",
    "\n",
    "The three primary measures of central tendency are:\n",
    "- Mean: The average of a dataset.\n",
    "- Median: The middle value when data is sorted.\n",
    "- Mode: The most frequent value in a dataset.\n",
    "\n",
    "**Q2. What is the difference between the mean, median, and mode? How are they used to measure the central tendency of a dataset?**\n",
    "- Mean: Calculated by summing all values and dividing by the number of values. Sensitive to outliers.\n",
    "- Median: The middle value when data is sorted. Less affected by outliers.\n",
    "- Mode: The most frequent value. Useful for categorical data.\n",
    "\n",
    "These measures help identify the typical or central value of a dataset. The choice of measure depends on the data distribution and the desired outcome."
   ]
  },
  {
   "cell_type": "markdown",
   "metadata": {},
   "source": [
    "**Q3. Measure the three measures of central tendency for the given height data:[178,177,176,177,178.2,178,175,179,180,175,178.9,176.2,177,172.5,178,176.5]**  \n",
    "\n",
    "To calculate these measures, we'll need to use statistical functions or libraries. Here's how you would do it in Python using the NumPy library:"
   ]
  },
  {
   "cell_type": "code",
   "execution_count": 1,
   "metadata": {},
   "outputs": [
    {
     "name": "stdout",
     "output_type": "stream",
     "text": [
      "Mean height: 177.01875\n",
      "Median height: 177.0\n",
      "Mode height: 178\n"
     ]
    }
   ],
   "source": [
    "import numpy as np\n",
    "\n",
    "height_data = [178, 177, 176, 177, 178.2, 178, 175, 179, 180, 175, 178.9, 176.2, 177, 172.5, 178, 176.5]\n",
    "\n",
    "mean_height = np.mean(height_data)\n",
    "median_height = np.median(height_data)\n",
    "mode_height = np.bincount(height_data).argmax()  # Find the most frequent value\n",
    "\n",
    "print(\"Mean height:\", mean_height)\n",
    "print(\"Median height:\", median_height)\n",
    "print(\"Mode height:\", mode_height)\n"
   ]
  },
  {
   "cell_type": "markdown",
   "metadata": {},
   "source": [
    "**Q4. Find the standard deviation for the given data:**\n",
    "**[178,177,176,177,178.2,178,175,179,180,175,178.9,176.2,177,172.5,178,176.5]**"
   ]
  },
  {
   "cell_type": "code",
   "execution_count": 2,
   "metadata": {},
   "outputs": [
    {
     "name": "stdout",
     "output_type": "stream",
     "text": [
      "Standard deviation: 1.7885814036548633\n"
     ]
    }
   ],
   "source": [
    "import numpy as np\n",
    "\n",
    "height_data = [178, 177, 176, 177, 178.2, 178, 175, 179, 180, 175, 178.9, 176.2, 177, 172.5, 178, 176.5]\n",
    "\n",
    "std_deviation = np.std(height_data)\n",
    "print(\"Standard deviation:\", std_deviation)\n"
   ]
  },
  {
   "cell_type": "markdown",
   "metadata": {},
   "source": [
    "**Q5. How are measures of dispersion such as range, variance, and standard deviation used to describe the spread of a dataset? Provide an example.**\n",
    "\n",
    "Measures of dispersion describe how spread out the data is.\n",
    "- Range: The difference between the highest and lowest values. Gives a basic idea of spread.\n",
    "- Variance: The average of the squared differences from the mean. Measures how far data points are from the mean.\n",
    "- Standard Deviation: The square root of the variance. Easier to interpret than variance as it's in the same units as the data.\n",
    "\n",
    "Example: Consider two datasets:\n",
    "Dataset A: [1, 2, 3, 4, 5]\n",
    "Dataset B: [1, 10, 1, 10, 1]\n",
    "Both datasets have the same mean (3), but dataset B has a larger range and standard deviation, indicating more spread in the data.\n",
    "\n",
    "**Q6. What is a Venn diagram?**\n",
    "A Venn diagram is a visual representation of sets and their relationships. It uses overlapping circles to show elements that belong to one or more sets.\n",
    "\n",
    "**Q7. For the two given sets A = (2,3,4,5,6,7) & B = (0,2,6,8,10). Find:**\n",
    "**(i) A ∩ B**\n",
    "**(ii) A ∪ B**\n",
    "\n",
    "- A ∩ B (Intersection): The set of elements that are common to both A and B.\n",
    "- A ∩ B = {2, 6}\n",
    "- A ∪ B (Union): The set of all elements in both A and B.\n",
    "- A ∪ B = {0, 2, 3, 4, 5, 6, 7, 8, 10}"
   ]
  },
  {
   "cell_type": "markdown",
   "metadata": {},
   "source": [
    "**Q8. What do you understand about skewness in data?**\n",
    "\n",
    "Skewness is a measure of asymmetry in a probability distribution. A positively skewed distribution has a long tail to the right, while a negatively skewed distribution has a long tail to the left.   \n",
    "\n",
    "**Q9. If a data is right skewed then what will be the position of median with respect to mean?**\n",
    "\n",
    "In a right-skewed distribution, the median is less than the mean.\n",
    "\n",
    "**Q10. Explain the difference between covariance and correlation. How are these measures used in statistical analysis?**\n",
    "\n",
    "Covariance measures the relationship between two variables. \n",
    "It indicates whether they tend to move together (positive covariance) or in opposite directions (negative covariance). However, its value depends on the units of measurement.  \n",
    "\n",
    "Correlation is a standardized measure of the linear relationship between two variables. \n",
    "It ranges from -1 to 1, where -1 indicates a perfect negative correlation, 1 indicates a perfect positive correlation, and 0 indicates no correlation.   \n",
    "\n",
    "Both covariance and correlation are used to understand the relationship between variables. Correlation is often preferred because it's standardized and easier to interpret."
   ]
  },
  {
   "cell_type": "markdown",
   "metadata": {},
   "source": [
    "**Q11. What is the formula for calculating the sample mean? Provide an example calculation for a dataset.**\n",
    "\n",
    "The formula for calculating the sample mean is:\n",
    "`mean = (sum of all values) / (number of values)`\n",
    "\n",
    "Example:\n",
    "For the dataset [2, 4, 6, 8], the mean is (2+4+6+8)/4 = 5."
   ]
  },
  {
   "cell_type": "markdown",
   "metadata": {},
   "source": [
    "**Q12. For a normal distribution data what is the relationship between its measure of central tendency?**\n",
    "\n",
    "In a normal distribution, the mean, median, and mode are all equal.   \n",
    "\n",
    "**Q13. How is covariance different from correlation?**\n",
    "\n",
    "Covariance measures the direction of the linear relationship between two variables, while correlation measures both the direction and strength of the relationship. \n",
    "\n",
    "Correlation is standardized, making it easier to interpret compared to covariance.\n",
    "\n",
    "**Q14. How do outliers affect measures of central tendency and dispersion? Provide an example.**\n",
    "\n",
    "Outliers can significantly affect measures of central tendency (mean, median, mode) and dispersion (range, variance, standard deviation).\n",
    "\n",
    "For example, in a dataset of house prices, an extremely expensive house (outlier) would increase the mean price but might not significantly affect the median. Similarly, it would increase the range and standard deviation.   \n",
    "\n"
   ]
  },
  {
   "cell_type": "markdown",
   "metadata": {},
   "source": []
  }
 ],
 "metadata": {
  "kernelspec": {
   "display_name": ".venv",
   "language": "python",
   "name": "python3"
  },
  "language_info": {
   "codemirror_mode": {
    "name": "ipython",
    "version": 3
   },
   "file_extension": ".py",
   "mimetype": "text/x-python",
   "name": "python",
   "nbconvert_exporter": "python",
   "pygments_lexer": "ipython3",
   "version": "3.10.13"
  }
 },
 "nbformat": 4,
 "nbformat_minor": 2
}
