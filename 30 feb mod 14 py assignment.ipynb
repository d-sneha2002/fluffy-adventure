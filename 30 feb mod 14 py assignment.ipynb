{
 "cells": [
  {
   "cell_type": "code",
   "execution_count": 1,
   "metadata": {},
   "outputs": [
    {
     "name": "stdout",
     "output_type": "stream",
     "text": [
      "Grade: C\n"
     ]
    },
    {
     "name": "stderr",
     "output_type": "stream",
     "text": [
      "Bad pipe message: %s [b'svg+xml,image/*,*/*;q=0.8\\r\\nHost: localhost:43111\\r\\nUser-Agent: Mozilla/5.0 (Windows NT 10.0; Win64; x', b') AppleWebKit/537.36 (KHTML, like Gecko) Chrome/126.0']\n",
      "Bad pipe message: %s [b'.0 Safari/537.36\\r\\nAccept-Encoding: gzip, defl']\n",
      "Bad pipe message: %s [b'e, br, zstd\\r\\nAccept-Language: en-IN,en-GB;q=0.9,en-US;q=0.8,en;q=0.7,hi;q=0.6,az;q=0.5\\r\\nReferer:']\n",
      "Bad pipe message: %s [b'ttps://congenial-waddle-r95vgq5']\n",
      "Bad pipe message: %s [b'x92xxgx-43111.app.github.dev/\\r\\nX-Request-ID: e42ab7e5']\n",
      "Bad pipe message: %s [b'7ab3167ff0846d3d86109b\\r\\nX-Real-IP: 10.240.0.10\\r\\nX-Forwarded-Port: 443\\r\\nX-Forwarded-Scheme: https\\r\\nX', b'riginal-URI: /favicon.ico\\r\\nX-Scheme: https\\r\\n', b'c-ch-ua: \"Not/A)Brand\";v=\"8\", \"Chromium\";v=\"126\", \"Google Chrome\";v=\"126\"\\r\\nsec-ch-ua-mobile: ?0\\r\\nsec-ch-ua-platfor', b' \"Windows\"\\r\\nsec-fetch-site: same-origin\\r\\nsec-fetch-mode: no-cors\\r\\nsec-fetch-dest: image\\r\\npriority: u=1, i\\r\\nX']\n",
      "Bad pipe message: %s [b'0.9,image/avif,image/webp,image/apng,*/*;q=0.8,application/signed-exchange;v=b3;q=0.7\\r\\nHost: localhost:43111\\r\\nUs', b'-Agent: Mozilla/5.0 (Windows NT 10.0; Win64; x64) AppleWebKit/537.36 (KHTML, like Gecko) Chrome/126.']\n",
      "Bad pipe message: %s [b'0.0 Safari/537.36\\r\\nAccept-Encoding: gzip, defla']\n",
      "Bad pipe message: %s [b', br, zstd\\r\\nAccept-Language: en-IN,en-GB;q=0.9,en-US;q=0.8,en;q=0.7,hi;q=0.6,az;q=0.5\\r\\nCache-Control: max-age=0\\r\\nRe', b'rer: https://congenial-waddle-r95vgq56rx92xxgx-43111.app.github.dev/\\r\\nX-Request-ID: b480581c9615f3771', b'bab076973ad1b\\r\\nX-Real-IP: 10.240.0.10\\r\\nX-Forwarded-Port']\n",
      "Bad pipe message: %s [b'443\\r\\nX-Forwarded-Scheme: https\\r\\nX-Original-URI: /\\r\\nX-Sche']\n",
      "Bad pipe message: %s [b': https\\r\\nsec-ch-ua: \"Not/A)Brand\";v=\"8\", \"Chromium\";v=\"126\", \"Google Chrome\";v=\"126\"\\r\\nsec-ch-ua-mobile: ?0\\r\\n', b'c-ch-ua-platform: \"Windows\"\\r\\nsec-fetch-site: same-origin\\r\\nsec-fetch-mode: navigate\\r\\nsec-fetch-user: ?1\\r\\nsec-fetch-', b'st: document\\r\\npriority: u=0, i\\r\\nX-Original-Proto: https\\r\\nX-Forwarded-Proto: https\\r\\nX-Forwarded-Host', b'congenial-waddle-r95vgq56rx92xxgx-43111.app.github.dev\\r\\nX']\n",
      "Bad pipe message: %s [b'orwarded-For: 10.240.0.10\\r\\nProxy-Connection:']\n",
      "Bad pipe message: %s [b'0.9,image/avif,image/webp,image/apng,*/*;q=0.8,application/signed-exchange;v=b3;q=0.7\\r\\nHost: localhost:43111\\r\\nUs', b'-Agent: Mozilla/5.0 (Windows NT 10.0; Win64; x64) AppleWebKit/537.36 (KHTML, like Gecko) Chrome/126.']\n",
      "Bad pipe message: %s [b'0.0 Safari/537.36\\r\\nAccept-Encoding: gzip, defla']\n",
      "Bad pipe message: %s [b', br, zstd\\r\\nAccept-Language: en-IN,en-GB;q=0.9,en-US;q=0.8,en;q=0.7,hi;q=0.6,az;q=0.5\\r\\nCache-Control: max-age=0\\r\\nRe', b'rer: https://congenial-waddle-r95vgq56rx92xxgx-43111.app.github.dev/\\r\\nX-Request-ID: 987f3e1afac89a881', b'b02f86b14cebc\\r\\nX-Real-IP: 10.240.0.10\\r\\nX-Forwar']\n",
      "Bad pipe message: %s [b'd-Port: 443\\r\\nX-Forwarded-Scheme: https\\r\\nX-Original-URI: /\\r\\nX-Scheme: https\\r\\nsec-ch-ua: \"Not/A)Brand', b'v=\"8\", \"Chromium\";v=\"126\", \"Googl', b'Chrome\";v=\"126\"\\r\\nsec-ch-ua-mobile: ?0\\r\\nsec-ch-ua-platform: \"Windows\"\\r\\nsec-fetch-site: same-origin\\r\\ns']\n",
      "Bad pipe message: %s [b'-fetch-mode: navigate\\r\\nsec-fetch-user: ?1\\r\\nsec-fetch-dest: document\\r\\npriority: u=0, i\\r\\nX-Original-Pr', b'o: https\\r\\nX-Forwarded-Proto: https\\r\\nX-Forwarded-Host: congenial-waddle-r95vgq56rx92xxgx-43111.app.github.dev\\r\\n']\n"
     ]
    }
   ],
   "source": [
    "def calculate_grade(marks):\n",
    "  \"\"\"Calculates the grade based on the given marks.\"\"\"\n",
    "\n",
    "  if marks > 90:\n",
    "    return \"A\"\n",
    "  elif marks >= 80:\n",
    "    return \"B\"\n",
    "  elif marks >= 60:\n",
    "    return \"C\"\n",
    "  else:\n",
    "    return \"D\"\n",
    "\n",
    "percentage = float(input(\"Enter percentage: \"))\n",
    "grade = calculate_grade(percentage)\n",
    "print(\"Grade:\", grade)"
   ]
  }
 ],
 "metadata": {
  "kernelspec": {
   "display_name": ".venv",
   "language": "python",
   "name": "python3"
  },
  "language_info": {
   "codemirror_mode": {
    "name": "ipython",
    "version": 3
   },
   "file_extension": ".py",
   "mimetype": "text/x-python",
   "name": "python",
   "nbconvert_exporter": "python",
   "pygments_lexer": "ipython3",
   "version": "3.10.13"
  }
 },
 "nbformat": 4,
 "nbformat_minor": 2
}
