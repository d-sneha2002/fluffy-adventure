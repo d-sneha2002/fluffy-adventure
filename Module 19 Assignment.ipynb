{
 "cells": [
  {
   "cell_type": "markdown",
   "metadata": {},
   "source": [
    "Q1. Which function is used to open a file? What are the different modes of opening a file? Explain each mode\n",
    "of file opening."
   ]
  },
  {
   "cell_type": "raw",
   "metadata": {
    "vscode": {
     "languageId": "raw"
    }
   },
   "source": [
    "Opening Files in Python\n",
    "\n",
    "The open() Function\n",
    "In Python, the open() function is used to open a file. It takes two arguments:\n",
    "filename: The name of the file to be opened.\n",
    "mode: The mode in which the file should be opened.\n",
    "\n",
    "File Opening Modes\n",
    "\n",
    "1. r (Read):\n",
    "Opens a file for reading.\n",
    "The file must exist.\n",
    "2. w (Write):\n",
    "Opens a file for writing.\n",
    "If the file exists, its contents are overwritten.\n",
    "If the file doesn't exist, it is created.\n",
    "3. a (Append):\n",
    "Opens a file for appending.\n",
    "If the file exists, new data is added to the end of the file.\n",
    "If the file doesn't exist, it is created.\n",
    "4. r+ (Read and Write):\n",
    "Opens a file for both reading and writing.\n",
    "The file must exist.\n",
    "5. w+ (Write and Read):\n",
    "Opens a file for both writing and reading.\n",
    "Overwrites the existing file if it exists, otherwise creates a new file.\n",
    "6. a+ (Append and Read):\n",
    "Opens a file for both appending and reading.\n",
    "If the file exists, new data is added to the end of the file.\n",
    "If the file doesn't exist, it is created."
   ]
  },
  {
   "cell_type": "markdown",
   "metadata": {},
   "source": [
    "Q2. Why close() function is used? Why is it important to close a file?"
   ]
  },
  {
   "cell_type": "raw",
   "metadata": {
    "vscode": {
     "languageId": "raw"
    }
   },
   "source": [
    "The close() function is crucial for proper file handling in Python. It serves two primary purposes:\n",
    "\n",
    "1. Releasing System Resources\n",
    "File handles: When a file is opened, the operating system allocates a file handle to manage it. This handle consumes system resources.\n",
    "Memory: The file's contents might be cached in memory for performance reasons. Closing the file releases this memory back to the system.\n",
    "By closing a file, you free up these resources for other processes or applications to use.\n",
    "\n",
    "2. Ensuring Data Integrity\n",
    "Writing data: When you write data to a file, it's often buffered in memory before being physically written to the disk. Closing the file forces any remaining data in the buffer to be written to the disk, ensuring data integrity.\n",
    "Preventing data corruption: Failing to close a file can lead to data corruption or loss in case of unexpected program termination.\n",
    "\n",
    "Importance:\n",
    "\n",
    "Closing a file is essential for efficient resource management.\n",
    "It guarantees that all data is written to the disk.\n",
    "It prevents potential data corruption.\n",
    "Best Practice:\n",
    "\n"
   ]
  },
  {
   "cell_type": "markdown",
   "metadata": {},
   "source": [
    "Q3. Write a python program to create a text file. Write ‘I want to become a Data Scientist’ in that file. Then\n",
    "close the file. Open this file and read the content of the file."
   ]
  },
  {
   "cell_type": "code",
   "execution_count": null,
   "metadata": {},
   "outputs": [],
   "source": [
    "def create_and_read_file():\n",
    "  \"\"\"Creates a text file, writes content, and then reads it back.\"\"\"\n",
    "\n",
    "  file_name = \"my_file.txt\"\n",
    "\n",
    "  try:\n",
    "      # Create the file and write content\n",
    "      with open(file_name, \"w\") as file:\n",
    "          file.write(\"I want to become a Data Scientist\")\n",
    "      print(f\"Successfully created and wrote to file: {file_name}\")\n",
    "\n",
    "  except PermissionError as e:\n",
    "      print(f\"Error: Permission denied while creating {file_name}.\")\n",
    "      print(\"Here are some possible solutions:\")\n",
    "      print(\"1. Run the script with administrator privileges.\")\n",
    "      print(\"2. Change the file location to a directory with write access.\")\n",
    "      print(\"3. Modify file permissions to allow write access for your user.\")\n",
    "\n",
    "  try:\n",
    "      # Read the content from the file\n",
    "      with open(file_name, \"r\") as file:\n",
    "          content = file.read()\n",
    "          print(f\"\\nContent of {file_name}:\\n{content}\")\n",
    "  except FileNotFoundError:\n",
    "      print(f\"File '{file_name}' not found. Perhaps it wasn't created successfully.\")\n",
    "\n",
    "if __name__ == \"__main__\":\n",
    "  create_and_read_file()\n"
   ]
  },
  {
   "cell_type": "markdown",
   "metadata": {},
   "source": [
    "Q4. Explain the following with python code: read(), readline() and readlines()."
   ]
  },
  {
   "cell_type": "code",
   "execution_count": 1,
   "metadata": {},
   "outputs": [
    {
     "name": "stdout",
     "output_type": "stream",
     "text": [
      "Error: File 'my_file.txt' not found.\n"
     ]
    }
   ],
   "source": [
    "'''read()\n",
    "Reads the entire contents of a file as a single string.\n",
    "Can optionally take an integer argument specifying the number of bytes to read.\n",
    "Useful for small files or when you want to process the entire content at once.'''\n",
    "\n",
    "def read_file(file_name):\n",
    "  \"\"\"Reads the contents of a text file and prints them.\n",
    "\n",
    "  Args:\n",
    "      file_name: The name of the text file to be read.\n",
    "  \"\"\"\n",
    "\n",
    "  try:\n",
    "      with open(file_name, 'r') as file:\n",
    "          content = file.read()\n",
    "          print(content)\n",
    "\n",
    "  except FileNotFoundError:\n",
    "      print(f\"Error: File '{file_name}' not found.\")\n",
    "\n",
    "# Example usage\n",
    "file_to_read = \"my_file.txt\"\n",
    "read_file(file_to_read)\n"
   ]
  },
  {
   "cell_type": "code",
   "execution_count": 2,
   "metadata": {},
   "outputs": [
    {
     "name": "stdout",
     "output_type": "stream",
     "text": [
      "Error: File 'my_file.txt' not found.\n"
     ]
    }
   ],
   "source": [
    "'''readline()\n",
    "Reads a single line from the file.\n",
    "Returns an empty string when the end of the file is reached.\n",
    "Useful for processing files line by line.'''\n",
    "\n",
    "def read_file_line_by_line(file_name):\n",
    "  \"\"\"Reads a text file line by line and prints its content.\n",
    "\n",
    "  Args:\n",
    "      file_name: The name of the text file to be read.\n",
    "  \"\"\"\n",
    "\n",
    "  try:\n",
    "      with open(file_name, 'r') as file:\n",
    "          line = file.readline()\n",
    "          while line:\n",
    "              print(line, end='')\n",
    "              line = file.readline()\n",
    "  except FileNotFoundError:\n",
    "      print(f\"Error: File '{file_name}' not found.\")\n",
    "\n",
    "# Example usage:\n",
    "file_to_read = \"my_file.txt\"\n",
    "read_file_line_by_line(file_to_read)\n"
   ]
  },
  {
   "cell_type": "code",
   "execution_count": 3,
   "metadata": {},
   "outputs": [
    {
     "name": "stdout",
     "output_type": "stream",
     "text": [
      "Error: File 'my_file.txt' not found.\n"
     ]
    }
   ],
   "source": [
    "'''readlines()\n",
    "Reads all lines of the file and returns them as a list of strings.\n",
    "Each element in the list represents a single line.\n",
    "Useful when you want to process each line individually.'''\n",
    "\n",
    "def read_file_lines(file_name):\n",
    "  \"\"\"Reads a text file line by line and prints its content.\n",
    "\n",
    "  Args:\n",
    "      file_name: The name of the text file to be read.\n",
    "  \"\"\"\n",
    "\n",
    "  try:\n",
    "      with open(file_name, 'r') as file:\n",
    "          lines = file.readlines()\n",
    "          for line in lines:\n",
    "              print(line, end='')\n",
    "  except FileNotFoundError:\n",
    "      print(f\"Error: File '{file_name}' not found.\")\n",
    "\n",
    "# Example usage:\n",
    "file_to_read = \"my_file.txt\"\n",
    "read_file_lines(file_to_read)\n"
   ]
  },
  {
   "cell_type": "raw",
   "metadata": {
    "vscode": {
     "languageId": "raw"
    }
   },
   "source": [
    "Key Differences:\n",
    "\n",
    "read() reads the entire file into a single string.\n",
    "readline() reads one line at a time.\n",
    "readlines() reads all lines into a list."
   ]
  },
  {
   "cell_type": "markdown",
   "metadata": {},
   "source": [
    "Q5. Explain why with statement is used with open(). What is the advantage of using with statement and\n",
    "open() together?"
   ]
  },
  {
   "cell_type": "raw",
   "metadata": {
    "vscode": {
     "languageId": "raw"
    }
   },
   "source": [
    "The with statement in Python is used to manage resources effectively. When working with files, it ensures that the file is properly closed even if an exception occurs.\n",
    "\n",
    "Advantages of using with with open():\n",
    "\n",
    "Automatic resource management: The with statement automatically calls the close() method on the file object when the block ends, regardless of whether an exception occurs. This prevents resource leaks.\n",
    "Cleaner code: It simplifies the code by eliminating the need to explicitly call close().\n",
    "Error handling: The with statement can be used in conjunction with try-except blocks to handle potential exceptions during file operations."
   ]
  },
  {
   "cell_type": "markdown",
   "metadata": {},
   "source": [
    "Q6. Explain the write() and writelines() functions. Give a suitable example."
   ]
  },
  {
   "cell_type": "raw",
   "metadata": {
    "vscode": {
     "languageId": "raw"
    }
   },
   "source": [
    "The write() and writelines() functions are used for writing data to files. They’re particularly handy when you want to create or modify text files. Let me break down each function for you:\n",
    "\n",
    "write() Function:\n",
    "The write() function is used to write a single string (or a sequence of characters) to a file.\n",
    "-It opens the file in write mode (if the file doesn’t exist, it creates one), and then appends the specified content to the file.\n",
    "-If the file already contains data, the write() function overwrites the existing content.\n",
    "-After writing, it’s essential to close the file using the close() method."
   ]
  },
  {
   "cell_type": "raw",
   "metadata": {
    "vscode": {
     "languageId": "raw"
    }
   },
   "source": [
    "# Let's create a new text file called \"my_file.txt\" and write some content to it\n",
    "with open(\"my_file.txt\", \"w\") as file:\n",
    "    file.write(\"Hello, world!\\n\")\n",
    "    file.write(\"This is a sample text.\\n\")\n"
   ]
  },
  {
   "cell_type": "raw",
   "metadata": {
    "vscode": {
     "languageId": "raw"
    }
   },
   "source": [
    "writelines() Function:\n",
    "-The writelines() function is used to write a list of strings (or any iterable) to a file.\n",
    "-It doesn’t add line breaks automatically, so you need to include them explicitly in your strings.\n",
    "-Like write(), it also opens the file in write mode."
   ]
  },
  {
   "cell_type": "raw",
   "metadata": {
    "vscode": {
     "languageId": "raw"
    }
   },
   "source": [
    "# Create a list of lines to write to a file\n",
    "lines_to_write = [\"Line 1\\n\", \"Line 2\\n\", \"Line 3\\n\"]\n",
    "# Write the lines to a file named \"my_lines.txt\"\n",
    "with open(\"my_lines.txt\", \"w\") as file:\n",
    "    file.writelines(lines_to_write)\n",
    "\n"
   ]
  }
 ],
 "metadata": {
  "kernelspec": {
   "display_name": ".venv",
   "language": "python",
   "name": "python3"
  },
  "language_info": {
   "codemirror_mode": {
    "name": "ipython",
    "version": 3
   },
   "file_extension": ".py",
   "mimetype": "text/x-python",
   "name": "python",
   "nbconvert_exporter": "python",
   "pygments_lexer": "ipython3",
   "version": "3.10.13"
  }
 },
 "nbformat": 4,
 "nbformat_minor": 2
}
