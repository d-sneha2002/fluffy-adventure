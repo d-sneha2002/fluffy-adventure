{
 "cells": [
  {
   "cell_type": "markdown",
   "metadata": {},
   "source": [
    "# Web Scrapping"
   ]
  },
  {
   "cell_type": "markdown",
   "metadata": {},
   "source": [
    "**Q1. What is Web Scraping? Why is it Used? Give three areas where Web Scraping is used to get data.**\n",
    "\n",
    "Web scraping is the process of extracting data from websites. This data is typically unstructured and stored in HTML format. It involves automating the process of visiting websites, extracting information, and saving it in a structured format like a database or spreadsheet.\n",
    "\n",
    "It  is used to gather data that is not readily available in a structured format, such as APIs. I is a valuable tool for businesses and individuals to collect insights, perform analysis, and make informed decisions.\n",
    "\n",
    "Three areas where web scraping is used to get data:\n",
    "\n",
    "- Price comparison: Websites scrape data from e-commerce platforms to compare product prices and offer the best deals to customers.\n",
    "- Market research: Companies use web scraping to gather data on competitors, customer sentiment, and market trends.\n",
    "- Data journalism: Journalists employ web scraping to collect data for investigative reporting and analysis."
   ]
  },
  {
   "cell_type": "markdown",
   "metadata": {},
   "source": [
    "**Q2. What are the different methods used for Web Scraping?**\n",
    "\n",
    "There are several methods for web scraping:\n",
    "\n",
    "- Manual scraping: Copying and pasting data manually from websites. This is time-consuming and error-prone method\n",
    "- Browser extensions: Some browser extensions offer basic scraping capabilities but are generally limited.\n",
    "- Programming libraries: Python libraries like Beautiful Soup, Scrapy, and Selenium are commonly used for efficient and flexible web scraping.\n",
    "- Web scraping APIs: Services like ParseHub or Octoparse provide user-friendly interfaces for scraping data.\n",
    "- Dedicated web scraping tools: Specialized software applications designed for web scraping."
   ]
  },
  {
   "cell_type": "markdown",
   "metadata": {},
   "source": [
    "**Q3. What is Beautiful Soup? Why is it used?**\n",
    "\n",
    "Beautiful Soup is a Python library for parsing HTML and XML documents. It creates a Python object (parse tree) that represents the document's structure.   \n",
    "\n",
    "It's used for:\n",
    "- Extracting data from HTML or XML content.\n",
    "- Navigating through the parsed structure to find specific elements.\n",
    "- Modifying the parsed structure before converting it back to text."
   ]
  },
  {
   "cell_type": "markdown",
   "metadata": {},
   "source": [
    "**Q4. Why is Flask used in this Web Scraping project?**\n",
    "Flask is not generally used for web scraping itself. It's a web framework for building web applications. However, it can be integrated with web scraping to create applications that:\n",
    "\n",
    "Display scraped data on web pages.\n",
    "Provide APIs for accessing scraped data.\n",
    "Build web interfaces for managing scraping processes."
   ]
  }
 ],
 "metadata": {
  "language_info": {
   "name": "python"
  }
 },
 "nbformat": 4,
 "nbformat_minor": 2
}
