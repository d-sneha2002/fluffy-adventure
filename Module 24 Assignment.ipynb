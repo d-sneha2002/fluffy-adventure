{
 "cells": [
  {
   "cell_type": "markdown",
   "metadata": {},
   "source": [
    "# Multiprocessing in Python"
   ]
  },
  {
   "cell_type": "markdown",
   "metadata": {},
   "source": [
    "**Q1. What is multiprocessing in python? Why is it useful?**"
   ]
  },
  {
   "cell_type": "markdown",
   "metadata": {},
   "source": [
    "Multiprocessing in Python refers to the ability to run multiple processes concurrently, using the multiple CPU cores or processors available. Each process has its own memory space, allowing them to execute independently without interfering with each other.   \n",
    "\n",
    "It is useful for:\n",
    "1. CPU-bound tasks: Tasks that heavily utilize the CPU can benefit significantly from multiprocessing as it allows distributing the workload across multiple cores.\n",
    "2. I/O-bound tasks: While multiprocessing might not be as efficient for I/O-bound tasks (due to the overhead of process creation), it can still be useful in certain scenarios."
   ]
  },
  {
   "cell_type": "markdown",
   "metadata": {},
   "source": [
    "**Q2. What are the differences between multiprocessing and multithreading?**"
   ]
  },
  {
   "cell_type": "code",
   "execution_count": 1,
   "metadata": {},
   "outputs": [
    {
     "name": "stdout",
     "output_type": "stream",
     "text": [
      "Feature                       | Multiprocessing            | Multithreading                    \n",
      "-----------------------------------------------------------------------------------------------\n",
      "Memory                        | Separate memory space      | Shared memory space               \n",
      "Performance                   | Better for CPU-bound tasks | Better for I/O-bound tasks (often)\n",
      "Creation overhead             | Higher                     | Lower                             \n",
      "Complexity                    | Generally more complex     | Simpler to implement              \n",
      "Global Interpreter Lock (GIL) | Not affected               | Limited by GIL in Python          \n"
     ]
    }
   ],
   "source": [
    "def create_table(data):\n",
    "    \"\"\"Creates a formatted table from the given data.\n",
    "\n",
    "    Args:\n",
    "        data (list): A list of lists, where each inner list represents a row of data.\n",
    "\n",
    "    Returns:\n",
    "        str: The formatted table as a string.\n",
    "    \"\"\"\n",
    "\n",
    "    # Find the maximum length of each column\n",
    "    col_widths = [max(len(str(item)) for item in col) for col in zip(*data)]\n",
    "\n",
    "    # Create the table header\n",
    "    header = \" | \".join(f\"{item:<{width}}\" for item, width in zip(data[0], col_widths))\n",
    "    separator = \"-\" * len(header)\n",
    "\n",
    "    # Create the table body\n",
    "    table_body = \"\\n\".join(\n",
    "        \" | \".join(f\"{item:<{width}}\" for item, width in zip(row, col_widths))\n",
    "        for row in data[1:]\n",
    "    )\n",
    "\n",
    "    return f\"{header}\\n{separator}\\n{table_body}\"\n",
    "\n",
    "# Sample data\n",
    "data = [\n",
    "    [\"Feature\", \"Multiprocessing\", \"Multithreading\"],\n",
    "    [\"Memory\", \"Separate memory space\", \"Shared memory space\"],\n",
    "    [\"Performance\", \"Better for CPU-bound tasks\", \"Better for I/O-bound tasks (often)\"],\n",
    "    [\"Creation overhead\", \"Higher\", \"Lower\"],\n",
    "    [\"Complexity\", \"Generally more complex\", \"Simpler to implement\"],\n",
    "    [\"Global Interpreter Lock (GIL)\", \"Not affected\", \"Limited by GIL in Python\"]\n",
    "]\n",
    "\n",
    "# Create and print the table\n",
    "table = create_table(data)\n",
    "print(table)\n"
   ]
  },
  {
   "cell_type": "markdown",
   "metadata": {},
   "source": [
    "**Q3. Write a python code to create a process using the multiprocessing module.**"
   ]
  },
  {
   "cell_type": "code",
   "execution_count": 2,
   "metadata": {},
   "outputs": [
    {
     "name": "stdout",
     "output_type": "stream",
     "text": [
      "This is a child process\n"
     ]
    }
   ],
   "source": [
    "import multiprocessing\n",
    "\n",
    "def my_process():\n",
    "    print(\"This is a child process\")\n",
    "\n",
    "if __name__ == \"__main__\":\n",
    "    p = multiprocessing.Process(target=my_process)\n",
    "    p.start()\n",
    "    p.join()\n"
   ]
  },
  {
   "cell_type": "markdown",
   "metadata": {},
   "source": [
    "**Q4. What is a multiprocessing pool in python? Why is it used?**"
   ]
  },
  {
   "cell_type": "markdown",
   "metadata": {},
   "source": [
    "A multiprocessing pool is a mechanism to manage a group of worker processes. It provides an interface to distribute tasks among multiple processes, making it easier to utilize multiple cores efficiently.\n",
    "\n",
    "It is used for:\n",
    "- Efficient task distribution: The pool automatically manages the creation and termination of worker processes.\n",
    "- Simplified process management: It provides a high-level interface for submitting tasks.\n",
    "- Improved performance:It can enhance the performance of computationally intensive tasks by effectively utilizing multiple cores."
   ]
  },
  {
   "cell_type": "markdown",
   "metadata": {},
   "source": [
    "**Q5. How can we create a pool of worker processes in python using the multiprocessing module?**"
   ]
  },
  {
   "cell_type": "code",
   "execution_count": 3,
   "metadata": {},
   "outputs": [
    {
     "name": "stdout",
     "output_type": "stream",
     "text": [
      "Process 2 workingProcess 1 workingProcess 3 workingProcess 0 working\n",
      "\n",
      "\n",
      "\n"
     ]
    }
   ],
   "source": [
    "import multiprocessing\n",
    "\n",
    "def worker(num):\n",
    "    print(f\"Process {num} working\")\n",
    "\n",
    "if __name__ == \"__main__\":\n",
    "    with multiprocessing.Pool(processes=4) as pool:\n",
    "        results = pool.map(worker, range(4))\n"
   ]
  },
  {
   "cell_type": "markdown",
   "metadata": {},
   "source": [
    "**Q6. Write a python program to create 4 processes, each process should print a different number using the multiprocessing module in python.**"
   ]
  },
  {
   "cell_type": "code",
   "execution_count": 6,
   "metadata": {},
   "outputs": [
    {
     "name": "stdout",
     "output_type": "stream",
     "text": [
      "Process 0\n",
      "Process 1\n",
      "Process 2\n",
      "Process 3\n",
      "This code creates 4 processes, each assigned a unique number to print.\n"
     ]
    }
   ],
   "source": [
    "import multiprocessing\n",
    "\n",
    "def print_number(number):\n",
    "    print(f\"Process {number}\")\n",
    "\n",
    "if __name__ == \"__main__\":\n",
    "    processes = []\n",
    "    for i in range(4):\n",
    "        p = multiprocessing.Process(target=print_number, args=(i,))\n",
    "        processes.append(p)\n",
    "        p.start()\n",
    "\n",
    "    for p in processes:\n",
    "        p.join()\n",
    "print(\"This code creates 4 processes, each assigned a unique number to print.\")"
   ]
  }
 ],
 "metadata": {
  "kernelspec": {
   "display_name": ".venv",
   "language": "python",
   "name": "python3"
  },
  "language_info": {
   "codemirror_mode": {
    "name": "ipython",
    "version": 3
   },
   "file_extension": ".py",
   "mimetype": "text/x-python",
   "name": "python",
   "nbconvert_exporter": "python",
   "pygments_lexer": "ipython3",
   "version": "3.10.13"
  }
 },
 "nbformat": 4,
 "nbformat_minor": 2
}
