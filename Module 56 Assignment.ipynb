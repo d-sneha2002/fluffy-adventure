{
 "cells": [
  {
   "cell_type": "markdown",
   "metadata": {},
   "source": [
    "# Feature Engineering 4"
   ]
  },
  {
   "cell_type": "markdown",
   "metadata": {},
   "source": [
    "**Q1. What is data encoding? How is it useful in data science?**\n",
    "\n",
    "Data encoding is the process of converting categorical data (textual or symbolic) into a numerical format that machine learning algorithms can understand and process. It's an essential step in data preprocessing, as most algorithms operate on numerical data.\n",
    "\n",
    "Why is it useful?\n",
    "\n",
    "- Compatibility: Encoded data aligns with the numerical requirements of machine learning models.\n",
    "- Efficiency: Encoded data often improves computational efficiency.\n",
    "- Feature Engineering: Encoded data can create new features or enhance existing ones.\n",
    "\n",
    "**Q2. What is nominal encoding? Provide an example of how you would use it in a real-world scenario.**\n",
    "\n",
    "Nominal encoding assigns unique numerical labels to each category within a categorical feature. It's suitable for features where there's no inherent order or ranking among the categories.\n",
    "\n",
    "Example:\n",
    "\n",
    "Consider a dataset of products with a \"color\" feature having categories like \"red,\" \"blue,\" and \"green.\" Nominal encoding would assign numerical labels (e.g., 0, 1, 2) to these colors.\n",
    "\n",
    "**Q3. In what situations is nominal encoding preferred over one-hot encoding? Provide a practical example.**\n",
    "\n",
    "Nominal encoding is preferred over one-hot encoding when:\n",
    "\n",
    "The number of categories in the feature is relatively small.\n",
    "There's no strong ordinal relationship between the categories.\n",
    "Computational efficiency is a priority.\n",
    "Example:\n",
    "\n",
    "In a survey dataset with a \"gender\" feature (male, female, other), nominal encoding would be suitable as there's no inherent order and the number of categories is limited.\n",
    "\n",
    "**Q4. Suppose you have a dataset containing categorical data with 5 unique values. Which encoding technique would you use to transform this data into a format suitable for machine learning algorithms? Explain why you made this choice.**\n",
    "\n",
    "With 5 unique values, both nominal and one-hot encoding are viable options. However, by taking computational efficiency into consideraton, nominal encoding would be preferable due to its lower memory footprint and faster processing.\n",
    "\n",
    "**Q5. In a machine learning project, you have a dataset with 1000 rows and 5 columns. Two of the columns are categorical, and the remaining three columns are numerical. If you were to use nominal encoding to transform the categorical data, how many new columns would be created? **Show your calculations.**\n",
    "\n",
    "Let's assume the first categorical column has 3 unique values and the second has 2.\n",
    "\n",
    "Column 1: 3 new columns\n",
    "Column 2: 2 new columns\n",
    "Total new columns = 3 + 2 = 5\n"
   ]
  },
  {
   "cell_type": "code",
   "execution_count": 1,
   "metadata": {},
   "outputs": [
    {
     "name": "stdout",
     "output_type": "stream",
     "text": [
      "Total new columns: 5\n"
     ]
    }
   ],
   "source": [
    "def calculate_new_columns(num_categorical_columns, unique_values_list):\n",
    "  \"\"\"Calculates the total number of new columns after nominal encoding.\n",
    "\n",
    "  Args:\n",
    "    num_categorical_columns: Number of categorical columns.\n",
    "    unique_values_list: A list of the number of unique values in each categorical column.\n",
    "\n",
    "  Returns:\n",
    "    The total number of new columns.\n",
    "  \"\"\"\n",
    "\n",
    "  total_new_columns = sum(unique_values_list)\n",
    "  return total_new_columns\n",
    "\n",
    "# Example usage:\n",
    "num_categorical_columns = 2\n",
    "unique_values_list = [3, 2]  # First column has 3 unique values, second has 2\n",
    "total_new_columns = calculate_new_columns(num_categorical_columns, unique_values_list)\n",
    "print(\"Total new columns:\", total_new_columns)\n"
   ]
  },
  {
   "cell_type": "markdown",
   "metadata": {},
   "source": [
    "**Q6. You are working with a dataset containing information about different types of animals, including their species, habitat, and diet. Which encoding technique would you use to transform the categorical data into a format suitable for machine learning algorithms? Justify your answer.**\n",
    "\n",
    "For animal species, habitat, and diet, one-hot encoding would be appropriate as there's no inherent order among the categories, and capturing the distinctness of each category is crucial.\n",
    "\n",
    "**Q7. You are working on a project that involves predicting customer churn for a telecommunications company. You have a dataset with 5 features, including the customer's gender, age, contract type, monthly charges, and tenure. Which encoding technique(s) would you use to transform the categorical data into numerical data? Provide a step-by-step explanation of how you would implement the encoding.**\n",
    "\n",
    "For categorical features like \"gender\" and \"contract type,\" use one-hot encoding to represent each category as a separate binary column. For \"age,\" it's likely numerical, so no encoding needed.\n",
    "\n",
    "Steps:\n",
    "\n",
    "-Identify categorical columns: \"gender\" and \"contract type.\"\n",
    "- Apply one-hot encoding to these columns, creating new binary columns for each category.\n",
    "- Combine the encoded categorical columns with the numerical columns (\"age,\" \"monthly charges,\" \"tenure\") for a final dataset ready for machine learning.\n",
    "By following these steps, we'll effectively transform the categorical data into a suitable numerical format for churn prediction model."
   ]
  }
 ],
 "metadata": {
  "kernelspec": {
   "display_name": ".venv",
   "language": "python",
   "name": "python3"
  },
  "language_info": {
   "codemirror_mode": {
    "name": "ipython",
    "version": 3
   },
   "file_extension": ".py",
   "mimetype": "text/x-python",
   "name": "python",
   "nbconvert_exporter": "python",
   "pygments_lexer": "ipython3",
   "version": "3.10.13"
  }
 },
 "nbformat": 4,
 "nbformat_minor": 2
}
