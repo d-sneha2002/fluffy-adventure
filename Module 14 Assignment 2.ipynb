{
 "cells": [
  {
   "cell_type": "markdown",
   "metadata": {},
   "source": [
    "1. Write a programme to accept percentage from the user and display the grade according to the following criteria."
   ]
  },
  {
   "cell_type": "code",
   "execution_count": 1,
   "metadata": {},
   "outputs": [
    {
     "name": "stdout",
     "output_type": "stream",
     "text": [
      "Grade: A\n"
     ]
    }
   ],
   "source": [
    "def calculate_grade(marks):\n",
    "  \"\"\"Calculates the grade based on the given marks.\"\"\"\n",
    "\n",
    "  if marks > 90:\n",
    "    return \"A\"\n",
    "  elif marks >= 80:\n",
    "    return \"B\"\n",
    "  elif marks >= 60:\n",
    "    return \"C\"\n",
    "  else:\n",
    "    return \"D\"\n",
    "\n",
    "percentage = float(input(\"Enter percentage: \"))\n",
    "grade = calculate_grade(percentage)\n",
    "print(\"Grade:\", grade)"
   ]
  },
  {
   "cell_type": "markdown",
   "metadata": {},
   "source": [
    "2. Write a programme to accept the cost price of a bike and display the road tax to be paid according to the following criteria."
   ]
  },
  {
   "cell_type": "code",
   "execution_count": 2,
   "metadata": {},
   "outputs": [
    {
     "name": "stdout",
     "output_type": "stream",
     "text": [
      "The road tax to be paid is: 6000.0\n"
     ]
    }
   ],
   "source": [
    "def calculate_road_tax(cost_price):\n",
    "  \"\"\"Calculates the road tax based on the cost price of a bike.\"\"\"\n",
    "\n",
    "  if cost_price > 100000:\n",
    "    tax = 0.15 * cost_price\n",
    "  elif cost_price > 50000:\n",
    "    tax = 0.10 * cost_price\n",
    "  else:\n",
    "    tax = 0.05 * cost_price\n",
    "\n",
    "  return tax\n",
    "\n",
    "cost_price = float(input(\"Enter the cost price of the bike: \"))\n",
    "road_tax = calculate_road_tax(cost_price)\n",
    "print(\"The road tax to be paid is:\", road_tax)\n"
   ]
  },
  {
   "cell_type": "markdown",
   "metadata": {},
   "source": [
    "3. Accept any city from the user and display monuments of that city"
   ]
  },
  {
   "cell_type": "code",
   "execution_count": 3,
   "metadata": {},
   "outputs": [
    {
     "name": "stdout",
     "output_type": "stream",
     "text": [
      "The monument in Delhi is: Red Fort\n"
     ]
    }
   ],
   "source": [
    "def get_monument(city):\n",
    "    \"\"\"Returns the monument for a given city.\"\"\"\n",
    "\n",
    "    city_monuments = {\n",
    "        \"delhi\": \"Red Fort\",\n",
    "        \"agra\": \"Taj Mahal\",\n",
    "        \"jaipur\": \"Jai Mahal\"\n",
    "    }\n",
    "\n",
    "    return city_monuments.get(city.lower(), \"Monument not found\")\n",
    "\n",
    "city = input(\"Enter a city: \")\n",
    "monument = get_monument(city)\n",
    "print(f\"The monument in {city} is: {monument}\")"
   ]
  },
  {
   "cell_type": "markdown",
   "metadata": {},
   "source": [
    "4. Check how many times a given number can be divided by 3 before it is less than or equal to 10."
   ]
  },
  {
   "cell_type": "code",
   "execution_count": 6,
   "metadata": {},
   "outputs": [
    {
     "name": "stdout",
     "output_type": "stream",
     "text": [
      "The number can be divided by 3 0 times before it's less than or equal to 10.\n"
     ]
    }
   ],
   "source": [
    "def count_divisions_by_3(num):\n",
    "  count = 0\n",
    "  while num > 10:\n",
    "    num /= 3\n",
    "    count += 1\n",
    "  return count\n",
    "\n",
    "number = int(input(\"Enter a number: \"))\n",
    "result = count_divisions_by_3(number)\n",
    "print(f\"The number can be divided by 3 {result} times before it's less than or equal to 10.\")\n"
   ]
  },
  {
   "cell_type": "markdown",
   "metadata": {},
   "source": [
    "5.  Why and When to Use While Loop in Python give a detailed description with example   "
   ]
  },
  {
   "cell_type": "code",
   "execution_count": 5,
   "metadata": {},
   "outputs": [
    {
     "name": "stdout",
     "output_type": "stream",
     "text": [
      "The factorial of 52 is 80658175170943878571660636856403766975289505440883277824000000000000\n"
     ]
    }
   ],
   "source": [
    "# Calculate factorial using a while loop\n",
    "n = int(input(\"Enter a non-negative number: \"))\n",
    "factorial = 1\n",
    "i = 1\n",
    "while i <= n:\n",
    "  factorial *= i\n",
    "  i += 1\n",
    "print(f\"The factorial of {n} is {factorial}\")\n"
   ]
  },
  {
   "cell_type": "markdown",
   "metadata": {},
   "source": [
    "6. Use nested while loop to print 3 different pattern."
   ]
  },
  {
   "cell_type": "code",
   "execution_count": 7,
   "metadata": {},
   "outputs": [
    {
     "name": "stdout",
     "output_type": "stream",
     "text": [
      "*\n",
      "**\n",
      "***\n",
      "****\n",
      "*****\n",
      "    1\n",
      "   123\n",
      "  12345\n",
      " 1234567\n",
      "123456789\n",
      "    *\n",
      "   ***\n",
      "  *****\n",
      " *******\n",
      "*********\n",
      " *******\n",
      "  *****\n",
      "   ***\n",
      "    *\n"
     ]
    }
   ],
   "source": [
    "# Pattern 1: Right-angled triangle\n",
    "rows = 5\n",
    "for i in range(1, rows + 1):\n",
    "  for j in range(i):\n",
    "    print(\"*\", end=\"\")\n",
    "  print()\n",
    "\n",
    "# Pattern 2: Number pyramid\n",
    "rows = 5\n",
    "for i in range(1, rows + 1):\n",
    "  for j in range(rows - i):\n",
    "    print(\" \", end=\"\")\n",
    "  for j in range(2 * i - 1):\n",
    "    print(j + 1, end=\"\")\n",
    "  print()\n",
    "\n",
    "# Pattern 3: Diamond pattern\n",
    "rows = 5\n",
    "for i in range(1, rows + 1):\n",
    "  for j in range(rows - i):\n",
    "    print(\" \", end=\"\")\n",
    "  for j in range(2 * i - 1):\n",
    "    print(\"*\", end=\"\")\n",
    "  print()\n",
    "for i in range(rows - 1, 0, -1):\n",
    "  for j in range(rows - i):\n",
    "    print(\" \", end=\"\")\n",
    "  for j in range(2 * i - 1):\n",
    "    print(\"*\", end=\"\")\n",
    "  print()\n"
   ]
  },
  {
   "cell_type": "markdown",
   "metadata": {},
   "source": [
    "7. Reverse a while loop to display numbers from 10 to 1."
   ]
  },
  {
   "cell_type": "code",
   "execution_count": 8,
   "metadata": {},
   "outputs": [
    {
     "name": "stdout",
     "output_type": "stream",
     "text": [
      "10\n",
      "9\n",
      "8\n",
      "7\n",
      "6\n",
      "5\n",
      "4\n",
      "3\n",
      "2\n",
      "1\n"
     ]
    }
   ],
   "source": [
    "num = 10\n",
    "while num >= 1:\n",
    "  print(num)\n",
    "  num -= 1\n"
   ]
  },
  {
   "cell_type": "code",
   "execution_count": null,
   "metadata": {},
   "outputs": [],
   "source": []
  }
 ],
 "metadata": {
  "kernelspec": {
   "display_name": "Python 3 (ipykernel)",
   "language": "python",
   "name": "python3"
  },
  "language_info": {
   "codemirror_mode": {
    "name": "ipython",
    "version": 3
   },
   "file_extension": ".py",
   "mimetype": "text/x-python",
   "name": "python",
   "nbconvert_exporter": "python",
   "pygments_lexer": "ipython3",
   "version": "3.10.13"
  }
 },
 "nbformat": 4,
 "nbformat_minor": 4
}
