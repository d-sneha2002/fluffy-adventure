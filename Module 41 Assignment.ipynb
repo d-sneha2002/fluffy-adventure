{
 "cells": [
  {
   "cell_type": "markdown",
   "metadata": {},
   "source": [
    "# Bokeh"
   ]
  },
  {
   "cell_type": "markdown",
   "metadata": {},
   "source": [
    "**How can you create a Bokeh plot using Python code?**\n",
    "\n",
    "Creating a Basic Bokeh Plot need to follow these steps:\n",
    "1. Import necessary libraries\n",
    "2. Prepare your data: Create lists or NumPy arrays for your data.\n",
    "3. Create a figure: Use the `figure()` function to create a plot object.\n",
    "4. Add glyphs: Use glyph methods like `line`, `circle`, `bar`, etc., to add visual elements to the plot.\n",
    "5. Show the plot: Use the `show()` function to display the plot.\n",
    "\n",
    "\n"
   ]
  },
  {
   "cell_type": "code",
   "execution_count": 2,
   "metadata": {},
   "outputs": [
    {
     "name": "stdout",
     "output_type": "stream",
     "text": [
      "Requirement already satisfied: bokeh in /workspaces/codespaces-jupyter/.venv/lib/python3.10/site-packages (3.5.1)\n",
      "Requirement already satisfied: Jinja2>=2.9 in /workspaces/codespaces-jupyter/.venv/lib/python3.10/site-packages (from bokeh) (3.1.4)\n",
      "Requirement already satisfied: contourpy>=1.2 in /workspaces/codespaces-jupyter/.venv/lib/python3.10/site-packages (from bokeh) (1.2.1)\n",
      "Requirement already satisfied: numpy>=1.16 in /workspaces/codespaces-jupyter/.venv/lib/python3.10/site-packages (from bokeh) (2.0.1)\n",
      "Requirement already satisfied: packaging>=16.8 in /workspaces/codespaces-jupyter/.venv/lib/python3.10/site-packages (from bokeh) (24.1)\n",
      "Requirement already satisfied: pandas>=1.2 in /workspaces/codespaces-jupyter/.venv/lib/python3.10/site-packages (from bokeh) (2.2.2)\n",
      "Requirement already satisfied: pillow>=7.1.0 in /workspaces/codespaces-jupyter/.venv/lib/python3.10/site-packages (from bokeh) (10.4.0)\n",
      "Requirement already satisfied: PyYAML>=3.10 in /workspaces/codespaces-jupyter/.venv/lib/python3.10/site-packages (from bokeh) (6.0.1)\n",
      "Requirement already satisfied: tornado>=6.2 in /workspaces/codespaces-jupyter/.venv/lib/python3.10/site-packages (from bokeh) (6.4.1)\n",
      "Requirement already satisfied: xyzservices>=2021.09.1 in /workspaces/codespaces-jupyter/.venv/lib/python3.10/site-packages (from bokeh) (2024.6.0)\n",
      "Requirement already satisfied: MarkupSafe>=2.0 in /workspaces/codespaces-jupyter/.venv/lib/python3.10/site-packages (from Jinja2>=2.9->bokeh) (2.1.5)\n",
      "Requirement already satisfied: python-dateutil>=2.8.2 in /workspaces/codespaces-jupyter/.venv/lib/python3.10/site-packages (from pandas>=1.2->bokeh) (2.9.0.post0)\n",
      "Requirement already satisfied: pytz>=2020.1 in /workspaces/codespaces-jupyter/.venv/lib/python3.10/site-packages (from pandas>=1.2->bokeh) (2024.1)\n",
      "Requirement already satisfied: tzdata>=2022.7 in /workspaces/codespaces-jupyter/.venv/lib/python3.10/site-packages (from pandas>=1.2->bokeh) (2024.1)\n",
      "Requirement already satisfied: six>=1.5 in /workspaces/codespaces-jupyter/.venv/lib/python3.10/site-packages (from python-dateutil>=2.8.2->pandas>=1.2->bokeh) (1.16.0)\n",
      "Note: you may need to restart the kernel to use updated packages.\n"
     ]
    }
   ],
   "source": [
    "pip install bokeh\n"
   ]
  },
  {
   "cell_type": "code",
   "execution_count": 3,
   "metadata": {},
   "outputs": [
    {
     "name": "stdout",
     "output_type": "stream",
     "text": [
      "Requirement already satisfied: fs in /workspaces/codespaces-jupyter/.venv/lib/python3.10/site-packages (2.4.16)\n",
      "Requirement already satisfied: appdirs~=1.4.3 in /workspaces/codespaces-jupyter/.venv/lib/python3.10/site-packages (from fs) (1.4.4)\n",
      "Requirement already satisfied: setuptools in /workspaces/codespaces-jupyter/.venv/lib/python3.10/site-packages (from fs) (65.5.0)\n",
      "Requirement already satisfied: six~=1.10 in /workspaces/codespaces-jupyter/.venv/lib/python3.10/site-packages (from fs) (1.16.0)\n",
      "Note: you may need to restart the kernel to use updated packages.\n"
     ]
    }
   ],
   "source": [
    "pip install fs"
   ]
  },
  {
   "cell_type": "code",
   "execution_count": null,
   "metadata": {},
   "outputs": [],
   "source": [
    "from bokeh.plotting import figure, show, output_file\n",
    "\n",
    "# Prepare output file (or use output_notebook() to display in a Jupyter notebook)\n",
    "output_file(\"plot.html\")\n",
    "\n",
    "# Create a new plot\n",
    "p = figure(title=\"Simple Line Plot\", x_axis_label='X-Axis', y_axis_label='Y-Axis')\n",
    "\n",
    "# Add a line renderer with a line color and width\n",
    "p.line([1, 2, 3, 4, 5], [6, 7, 2, 4, 5], line_color='blue', line_width=2)\n",
    "\n",
    "# Show the plot\n",
    "show(p)\n"
   ]
  },
  {
   "cell_type": "markdown",
   "metadata": {},
   "source": [
    "![alt text](bokeh.png)"
   ]
  },
  {
   "cell_type": "markdown",
   "metadata": {},
   "source": [
    "**Q2. What are glyphs in Bokeh, and how can you add them to a Bokeh plot? Explain with an example.**\n",
    "\n",
    "Glyphs are the visual elements that represent data points in a Bokeh plot. They can be lines, circles, squares, bars, and many other shapes.\n",
    "\n",
    "To add glyphs to a plot, you use methods like line, circle, bar, etc., on the figure object."
   ]
  },
  {
   "cell_type": "code",
   "execution_count": null,
   "metadata": {},
   "outputs": [],
   "source": [
    "from bokeh.plotting import figure, show, output_file\n",
    "\n",
    "output_file(\"glyphs_example.html\")\n",
    "\n",
    "p = figure(title=\"Bokeh Glyphs Example\", x_axis_label='X-Axis', y_axis_label='Y-Axis')\n",
    "\n",
    "p.line([1, 2, 3, 4, 5], [6, 7, 2, 4, 5], line_color='blue', line_width=2, legend_label='Line')\n",
    "p.circle([1, 2, 3, 4, 5], [7, 8, 3, 5, 6], size=10, color='red', legend_label='Circles')\n",
    "p.square([1, 2, 3, 4, 5], [6, 7, 2, 4, 5], size=10, color='green', legend_label='Squares')\n",
    "p.vbar(x=[1, 2, 3, 4, 5], top=[5, 6, 1, 3, 4], width=0.5, color='orange', legend_label='Bars')\n",
    "\n",
    "p.title.text_font_size = '16pt'\n",
    "p.legend.title = 'Glyphs'\n",
    "p.legend.location = 'top_left'\n",
    "show(p)\n"
   ]
  },
  {
   "cell_type": "markdown",
   "metadata": {},
   "source": [
    "![alt text](<bokeh 1-2.png>)"
   ]
  },
  {
   "cell_type": "markdown",
   "metadata": {},
   "source": [
    "**Q3. How can you customize the appearance of a Bokeh plot, including the axes, title, and legend?**"
   ]
  },
  {
   "cell_type": "code",
   "execution_count": null,
   "metadata": {},
   "outputs": [],
   "source": [
    "from bokeh.plotting import figure, show, output_file\n",
    "\n",
    "output_file(\"newplot.html\")\n",
    "\n",
    "p = figure(title=\"Customized Bokeh Plot\", x_axis_label='X-Axis', y_axis_label='Y-Axis')\n",
    "\n",
    "p.line([1, 2, 3, 4, 5], [6, 7, 2, 4, 5], line_color='blue', line_width=2, legend_label='Line')\n",
    "p.circle([1, 2, 3, 4, 5], [6, 7, 2, 4, 5], size=10, color='red', legend_label='Circles')\n",
    "\n",
    "p.title.text = \"Custom Title\"\n",
    "p.title.text_font_size = \"20pt\"\n",
    "p.title.text_color = \"navy\"\n",
    "p.title.align = \"center\"\n",
    "\n",
    "p.xaxis.axis_label = \"Custom X-Axis Label\"\n",
    "p.yaxis.axis_label = \"Custom Y-Axis Label\"\n",
    "p.xaxis.axis_label_text_font_size = \"14pt\"\n",
    "p.yaxis.axis_label_text_font_size = \"14pt\"\n",
    "p.xaxis.axis_label_text_color = \"green\"\n",
    "p.yaxis.axis_label_text_color = \"green\"\n",
    "p.xaxis.major_label_orientation = \"vertical\"\n",
    "p.yaxis.major_label_orientation = \"horizontal\"\n",
    "p.xaxis.major_label_text_font_size = \"12pt\"\n",
    "p.yaxis.major_label_text_font_size = \"12pt\"\n",
    "p.xaxis.major_label_text_color = \"purple\"\n",
    "p.yaxis.major_label_text_color = \"purple\"\n",
    "p.xaxis.axis_line_color = \"blue\"\n",
    "p.yaxis.axis_line_color = \"blue\"\n",
    "p.xaxis.axis_line_width = 2\n",
    "p.yaxis.axis_line_width = 2\n",
    "\n",
    "p.legend.title = \"Legend Title\"\n",
    "p.legend.title_text_font_size = \"14pt\"\n",
    "p.legend.title_text_color = \"black\"\n",
    "p.legend.label_text_font_size = \"12pt\"\n",
    "p.legend.label_text_color = \"black\"\n",
    "p.legend.background_fill_color = \"lightgray\"\n",
    "p.legend.background_fill_alpha = 0.5\n",
    "p.legend.border_line_color = \"black\"\n",
    "p.legend.border_line_width = 2\n",
    "p.legend.location = \"top_left\"\n",
    "\n",
    "show(p)\n"
   ]
  },
  {
   "cell_type": "markdown",
   "metadata": {},
   "source": [
    "![alt text](<bokeh 2.png>)"
   ]
  },
  {
   "cell_type": "markdown",
   "metadata": {},
   "source": [
    "**Q4. What is a Bokeh server, and how can you use it to create interactive plots that can be updated in real time?**\n",
    "A Bokeh server is a component of the Bokeh library that allows you to create interactive web applications with real-time updates. It enables to connect Python callbacks to plot elements, allowing users to interact with the plot and trigger updates.   \n",
    "\n",
    "To create an interactive plot using a Bokeh server\n",
    "\n",
    "- Define a callback function to handle user interactions (e.g., slider changes, button clicks).\n",
    "- Create a Bokeh document with interactive elements (e.g., sliders, buttons).\n",
    "- Start a Bokeh server to serve the application."
   ]
  },
  {
   "cell_type": "code",
   "execution_count": 10,
   "metadata": {},
   "outputs": [],
   "source": [
    "from bokeh.io import curdoc\n",
    "from bokeh.layouts import column\n",
    "from bokeh.models import ColumnDataSource, Slider\n",
    "from bokeh.plotting import figure\n",
    "\n",
    "# Create a ColumnDataSource to hold the data\n",
    "source = ColumnDataSource(data=dict(x=[1, 2, 3, 4, 5], y=[6, 7, 2, 4, 5]))\n",
    "\n",
    "# Create a new plot\n",
    "p = figure(title=\"Interactive Plot with Slider\", x_axis_label='X-Axis', y_axis_label='Y-Axis')\n",
    "\n",
    "# Add a line renderer\n",
    "line = p.line(x='x', y='y', source=source, line_width=2)\n",
    "\n",
    "# Define an update function\n",
    "def update(attr, old_value, new_value):\n",
    "    # Update the data source with new values\n",
    "    scale = slider.value\n",
    "    new_y = [value * scale for value in [6, 7, 2, 4, 5]]\n",
    "    source.data = dict(x=[1, 2, 3, 4, 5], y=new_y)\n",
    "\n",
    "# Create a slider\n",
    "slider = Slider(start=0.5, end=2.0, value=1.0, step=0.1, title=\"Scale\")\n",
    "slider.on_change('value', update)\n",
    "\n",
    "layout = column(slider, p)\n",
    "\n",
    "curdoc().add_root(layout)\n",
    "\n",
    "\n",
    "## bash: bokeh serve --show app.py"
   ]
  },
  {
   "cell_type": "markdown",
   "metadata": {},
   "source": [
    "![alt text](<bokeh 3.png>)"
   ]
  },
  {
   "cell_type": "markdown",
   "metadata": {},
   "source": [
    "**Q5. How can you embed a Bokeh plot into a web page or dashboard using Flask or Django?**"
   ]
  },
  {
   "cell_type": "code",
   "execution_count": 5,
   "metadata": {},
   "outputs": [
    {
     "name": "stdout",
     "output_type": "stream",
     "text": [
      "Collecting flask\n",
      "  Downloading flask-3.0.3-py3-none-any.whl.metadata (3.2 kB)\n",
      "Collecting Werkzeug>=3.0.0 (from flask)\n",
      "  Downloading werkzeug-3.0.3-py3-none-any.whl.metadata (3.7 kB)\n",
      "Requirement already satisfied: Jinja2>=3.1.2 in /workspaces/codespaces-jupyter/.venv/lib/python3.10/site-packages (from flask) (3.1.4)\n",
      "Collecting itsdangerous>=2.1.2 (from flask)\n",
      "  Downloading itsdangerous-2.2.0-py3-none-any.whl.metadata (1.9 kB)\n",
      "Collecting click>=8.1.3 (from flask)\n",
      "  Downloading click-8.1.7-py3-none-any.whl.metadata (3.0 kB)\n",
      "Collecting blinker>=1.6.2 (from flask)\n",
      "  Downloading blinker-1.8.2-py3-none-any.whl.metadata (1.6 kB)\n",
      "Requirement already satisfied: MarkupSafe>=2.0 in /workspaces/codespaces-jupyter/.venv/lib/python3.10/site-packages (from Jinja2>=3.1.2->flask) (2.1.5)\n",
      "Downloading flask-3.0.3-py3-none-any.whl (101 kB)\n",
      "Downloading blinker-1.8.2-py3-none-any.whl (9.5 kB)\n",
      "Downloading click-8.1.7-py3-none-any.whl (97 kB)\n",
      "Downloading itsdangerous-2.2.0-py3-none-any.whl (16 kB)\n",
      "Downloading werkzeug-3.0.3-py3-none-any.whl (227 kB)\n",
      "Installing collected packages: Werkzeug, itsdangerous, click, blinker, flask\n",
      "Successfully installed Werkzeug-3.0.3 blinker-1.8.2 click-8.1.7 flask-3.0.3 itsdangerous-2.2.0\n",
      "Note: you may need to restart the kernel to use updated packages.\n"
     ]
    }
   ],
   "source": [
    "pip install flask"
   ]
  },
  {
   "cell_type": "code",
   "execution_count": null,
   "metadata": {},
   "outputs": [],
   "source": [
    "from flask import Flask, render_template\n",
    "from bokeh.embed import components\n",
    "from bokeh.plotting import figure\n",
    "\n",
    "app = Flask(__name__)\n",
    "\n",
    "@app.route('/')\n",
    "def index():\n",
    "    # Create a Bokeh plot\n",
    "    p = figure(title=\"Bokeh Plot in Flask\", x_axis_label='X-Axis', y_axis_label='Y-Axis')\n",
    "    p.line([1, 2, 3, 4, 5], [6, 7, 2, 4, 5], line_width=2, line_color=\"blue\")\n",
    "    \n",
    "    # Get the script and div components for embedding\n",
    "    script, div = components(p)\n",
    "    \n",
    "    return render_template('index.html', script=script, div=div)\n",
    "\n",
    "if __name__ == '__main__':\n",
    "    app.run(debug=True)\n"
   ]
  },
  {
   "cell_type": "markdown",
   "metadata": {},
   "source": [
    "![alt text](<bokeh 4.png>)"
   ]
  },
  {
   "cell_type": "code",
   "execution_count": null,
   "metadata": {},
   "outputs": [],
   "source": []
  }
 ],
 "metadata": {
  "kernelspec": {
   "display_name": "base",
   "language": "python",
   "name": "python3"
  },
  "language_info": {
   "codemirror_mode": {
    "name": "ipython",
    "version": 3
   },
   "file_extension": ".py",
   "mimetype": "text/x-python",
   "name": "python",
   "nbconvert_exporter": "python",
   "pygments_lexer": "ipython3",
   "version": "3.10.13"
  }
 },
 "nbformat": 4,
 "nbformat_minor": 2
}
